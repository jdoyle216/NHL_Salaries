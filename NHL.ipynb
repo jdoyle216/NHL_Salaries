{
 "cells": [
  {
   "cell_type": "code",
   "execution_count": 91,
   "metadata": {
    "collapsed": true
   },
   "outputs": [],
   "source": [
    "import pandas as pd\n",
    "import numpy as np\n",
    "import seaborn as sns\n",
    "import matplotlib.pyplot as plt\n",
    "from sklearn import linear_model  as lm\n",
    "from sklearn.model_selection import train_test_split\n",
    "from sklearn import preprocessing\n",
    "from sklearn import metrics\n",
    "from datetime import datetime, date\n",
    "\n",
    "% matplotlib inline"
   ]
  },
  {
   "cell_type": "code",
   "execution_count": 92,
   "metadata": {
    "collapsed": true
   },
   "outputs": [],
   "source": [
    "df = pd.read_csv('/Users/Jdoyle216/Downloads/archive-5/train.csv',encoding = \"ISO-8859-1\")"
   ]
  },
  {
   "cell_type": "code",
   "execution_count": 93,
   "metadata": {},
   "outputs": [
    {
     "data": {
      "text/html": [
       "<div>\n",
       "<style scoped>\n",
       "    .dataframe tbody tr th:only-of-type {\n",
       "        vertical-align: middle;\n",
       "    }\n",
       "\n",
       "    .dataframe tbody tr th {\n",
       "        vertical-align: top;\n",
       "    }\n",
       "\n",
       "    .dataframe thead th {\n",
       "        text-align: right;\n",
       "    }\n",
       "</style>\n",
       "<table border=\"1\" class=\"dataframe\">\n",
       "  <thead>\n",
       "    <tr style=\"text-align: right;\">\n",
       "      <th></th>\n",
       "      <th>Salary</th>\n",
       "      <th>Born</th>\n",
       "      <th>City</th>\n",
       "      <th>Pr/St</th>\n",
       "      <th>Cntry</th>\n",
       "      <th>Nat</th>\n",
       "      <th>Ht</th>\n",
       "      <th>Wt</th>\n",
       "      <th>DftYr</th>\n",
       "      <th>DftRd</th>\n",
       "      <th>...</th>\n",
       "      <th>PEND</th>\n",
       "      <th>OPS</th>\n",
       "      <th>DPS</th>\n",
       "      <th>PS</th>\n",
       "      <th>OTOI</th>\n",
       "      <th>Grit</th>\n",
       "      <th>DAP</th>\n",
       "      <th>Pace</th>\n",
       "      <th>GS</th>\n",
       "      <th>GS/G</th>\n",
       "    </tr>\n",
       "  </thead>\n",
       "  <tbody>\n",
       "    <tr>\n",
       "      <th>0</th>\n",
       "      <td>925000</td>\n",
       "      <td>97-01-30</td>\n",
       "      <td>Sainte-Marie</td>\n",
       "      <td>QC</td>\n",
       "      <td>CAN</td>\n",
       "      <td>CAN</td>\n",
       "      <td>74</td>\n",
       "      <td>190</td>\n",
       "      <td>2015.0</td>\n",
       "      <td>1.0</td>\n",
       "      <td>...</td>\n",
       "      <td>1.0</td>\n",
       "      <td>0.0</td>\n",
       "      <td>-0.2</td>\n",
       "      <td>-0.2</td>\n",
       "      <td>40.03</td>\n",
       "      <td>1</td>\n",
       "      <td>0.0</td>\n",
       "      <td>175.7</td>\n",
       "      <td>-0.4</td>\n",
       "      <td>-0.38</td>\n",
       "    </tr>\n",
       "    <tr>\n",
       "      <th>1</th>\n",
       "      <td>2250000</td>\n",
       "      <td>93-12-21</td>\n",
       "      <td>Ottawa</td>\n",
       "      <td>ON</td>\n",
       "      <td>CAN</td>\n",
       "      <td>CAN</td>\n",
       "      <td>74</td>\n",
       "      <td>207</td>\n",
       "      <td>2012.0</td>\n",
       "      <td>1.0</td>\n",
       "      <td>...</td>\n",
       "      <td>98.0</td>\n",
       "      <td>-0.2</td>\n",
       "      <td>3.4</td>\n",
       "      <td>3.2</td>\n",
       "      <td>2850.59</td>\n",
       "      <td>290</td>\n",
       "      <td>13.3</td>\n",
       "      <td>112.5</td>\n",
       "      <td>14.1</td>\n",
       "      <td>0.18</td>\n",
       "    </tr>\n",
       "    <tr>\n",
       "      <th>2</th>\n",
       "      <td>8000000</td>\n",
       "      <td>88-04-16</td>\n",
       "      <td>St. Paul</td>\n",
       "      <td>MN</td>\n",
       "      <td>USA</td>\n",
       "      <td>USA</td>\n",
       "      <td>72</td>\n",
       "      <td>218</td>\n",
       "      <td>2006.0</td>\n",
       "      <td>1.0</td>\n",
       "      <td>...</td>\n",
       "      <td>70.0</td>\n",
       "      <td>3.7</td>\n",
       "      <td>1.3</td>\n",
       "      <td>5.0</td>\n",
       "      <td>2486.75</td>\n",
       "      <td>102</td>\n",
       "      <td>6.6</td>\n",
       "      <td>114.8</td>\n",
       "      <td>36.8</td>\n",
       "      <td>0.57</td>\n",
       "    </tr>\n",
       "    <tr>\n",
       "      <th>3</th>\n",
       "      <td>3500000</td>\n",
       "      <td>92-01-07</td>\n",
       "      <td>Ottawa</td>\n",
       "      <td>ON</td>\n",
       "      <td>CAN</td>\n",
       "      <td>CAN</td>\n",
       "      <td>77</td>\n",
       "      <td>220</td>\n",
       "      <td>2010.0</td>\n",
       "      <td>1.0</td>\n",
       "      <td>...</td>\n",
       "      <td>22.0</td>\n",
       "      <td>0.0</td>\n",
       "      <td>0.4</td>\n",
       "      <td>0.5</td>\n",
       "      <td>1074.41</td>\n",
       "      <td>130</td>\n",
       "      <td>17.5</td>\n",
       "      <td>105.1</td>\n",
       "      <td>5.9</td>\n",
       "      <td>0.20</td>\n",
       "    </tr>\n",
       "    <tr>\n",
       "      <th>4</th>\n",
       "      <td>1750000</td>\n",
       "      <td>94-03-29</td>\n",
       "      <td>Toronto</td>\n",
       "      <td>ON</td>\n",
       "      <td>CAN</td>\n",
       "      <td>CAN</td>\n",
       "      <td>76</td>\n",
       "      <td>217</td>\n",
       "      <td>2012.0</td>\n",
       "      <td>1.0</td>\n",
       "      <td>...</td>\n",
       "      <td>68.0</td>\n",
       "      <td>-0.1</td>\n",
       "      <td>1.4</td>\n",
       "      <td>1.3</td>\n",
       "      <td>3459.09</td>\n",
       "      <td>425</td>\n",
       "      <td>8.3</td>\n",
       "      <td>99.5</td>\n",
       "      <td>21.8</td>\n",
       "      <td>0.27</td>\n",
       "    </tr>\n",
       "  </tbody>\n",
       "</table>\n",
       "<p>5 rows × 154 columns</p>\n",
       "</div>"
      ],
      "text/plain": [
       "    Salary      Born          City Pr/St Cntry  Nat  Ht   Wt   DftYr  DftRd  \\\n",
       "0   925000  97-01-30  Sainte-Marie    QC   CAN  CAN  74  190  2015.0    1.0   \n",
       "1  2250000  93-12-21        Ottawa    ON   CAN  CAN  74  207  2012.0    1.0   \n",
       "2  8000000  88-04-16      St. Paul    MN   USA  USA  72  218  2006.0    1.0   \n",
       "3  3500000  92-01-07        Ottawa    ON   CAN  CAN  77  220  2010.0    1.0   \n",
       "4  1750000  94-03-29       Toronto    ON   CAN  CAN  76  217  2012.0    1.0   \n",
       "\n",
       "   ...  PEND  OPS  DPS   PS     OTOI Grit   DAP   Pace    GS  GS/G  \n",
       "0  ...   1.0  0.0 -0.2 -0.2    40.03    1   0.0  175.7  -0.4 -0.38  \n",
       "1  ...  98.0 -0.2  3.4  3.2  2850.59  290  13.3  112.5  14.1  0.18  \n",
       "2  ...  70.0  3.7  1.3  5.0  2486.75  102   6.6  114.8  36.8  0.57  \n",
       "3  ...  22.0  0.0  0.4  0.5  1074.41  130  17.5  105.1   5.9  0.20  \n",
       "4  ...  68.0 -0.1  1.4  1.3  3459.09  425   8.3   99.5  21.8  0.27  \n",
       "\n",
       "[5 rows x 154 columns]"
      ]
     },
     "execution_count": 93,
     "metadata": {},
     "output_type": "execute_result"
    }
   ],
   "source": [
    "df.head()"
   ]
  },
  {
   "cell_type": "code",
   "execution_count": 94,
   "metadata": {},
   "outputs": [
    {
     "name": "stdout",
     "output_type": "stream",
     "text": [
      "['Salary', 'Born', 'City', 'Pr/St', 'Cntry', 'Nat', 'Ht', 'Wt', 'DftYr', 'DftRd', 'Ovrl', 'Hand', 'Last Name', 'First Name', 'Position', 'Team', 'GP', 'G', 'A', 'A1', 'A2', 'PTS', '+/-', 'E+/-', 'PIM', 'Shifts', 'TOI', 'TOIX', 'TOI/GP', 'TOI/GP.1', 'TOI%', 'IPP%', 'SH%', 'SV%', 'PDO', 'F/60', 'A/60', 'Pct%', 'Diff', 'Diff/60', 'iCF', 'iCF.1', 'iFF', 'iSF', 'iSF.1', 'iSF.2', 'ixG', 'iSCF', 'iRB', 'iRS', 'iDS', 'sDist', 'sDist.1', 'Pass', 'iHF', 'iHF.1', 'iHA', 'iHDf', 'iMiss', 'iGVA', 'iTKA', 'iBLK', 'iGVA.1', 'iTKA.1', 'iBLK.1', 'BLK%', 'iFOW', 'iFOL', 'iFOW.1', 'iFOL.1', 'FO%', '%FOT', 'dzFOW', 'dzFOL', 'nzFOW', 'nzFOL', 'ozFOW', 'ozFOL', 'FOW.Up', 'FOL.Up', 'FOW.Down', 'FOL.Down', 'FOW.Close', 'FOL.Close', 'OTG', '1G', 'GWG', 'ENG', 'PSG', 'PSA', 'G.Bkhd', 'G.Dflct', 'G.Slap', 'G.Snap', 'G.Tip', 'G.Wrap', 'G.Wrst', 'CBar ', 'Post', 'Over', 'Wide', 'S.Bkhd', 'S.Dflct', 'S.Slap', 'S.Snap', 'S.Tip', 'S.Wrap', 'S.Wrst', 'iPenT', 'iPenD', 'iPENT', 'iPEND', 'iPenDf', 'NPD', 'Min', 'Maj', 'Match', 'Misc', 'Game', 'CF', 'CA', 'FF', 'FA', 'SF', 'SA', 'xGF', 'xGA', 'SCF', 'SCA', 'GF', 'GA', 'RBF', 'RBA', 'RSF', 'RSA', 'DSF', 'DSA', 'FOW', 'FOL', 'HF', 'HA', 'GVA', 'TKA', 'PENT', 'PEND', 'OPS', 'DPS', 'PS', 'OTOI', 'Grit', 'DAP', 'Pace', 'GS', 'GS/G']\n"
     ]
    }
   ],
   "source": [
    "#head doens't allow me to see all of the columns so I do it another way\n",
    "seecolumns = []\n",
    "for x in df.columns:\n",
    "    seecolumns.append(x)\n",
    "    \n",
    "print(seecolumns)"
   ]
  },
  {
   "cell_type": "code",
   "execution_count": 95,
   "metadata": {},
   "outputs": [
    {
     "name": "stdout",
     "output_type": "stream",
     "text": [
      "['Salary', 'Born', 'City', 'Pr/St', 'Cntry', 'Nat', 'Ht', 'Wt', 'DftYr', 'DftRd', 'Ovrl', 'Hand', 'Last Name', 'First Name', 'Position', 'Team', 'GP', 'G', 'A', 'A1', 'A2', 'PTS', '+/-', 'E+/-', 'PIM', 'Shifts', 'TOI', 'TOIX', 'TOI/GP', 'TOI/GP.1', 'TOI%', 'IPP%', 'SH%', 'SV%', 'PDO', 'F/60', 'A/60', 'Pct%', 'Diff', 'Diff/60', 'iCF', 'iCF.1', 'iFF', 'iSF', 'iSF.1', 'iSF.2', 'ixG', 'iSCF', 'iRB', 'iRS', 'iDS', 'sDist', 'sDist.1', 'Pass', 'iHF', 'iHF.1', 'iHA', 'iHDf', 'iMiss', 'iGVA', 'iTKA', 'iBLK', 'iGVA.1', 'iTKA.1', 'iBLK.1', 'BLK%', 'iFOW', 'iFOL', 'iFOW.1', 'iFOL.1', 'FO%', '%FOT', 'dzFOW', 'dzFOL', 'nzFOW', 'nzFOL', 'ozFOW', 'ozFOL', 'FOW.Up', 'FOL.Up', 'FOW.Down', 'FOL.Down', 'FOW.Close', 'FOL.Close', 'OTG', '1G', 'GWG', 'ENG', 'PSG', 'PSA', 'G.Bkhd', 'G.Dflct', 'G.Slap', 'G.Snap', 'G.Tip', 'G.Wrap', 'G.Wrst', 'CBar ', 'Post', 'Over', 'Wide', 'S.Bkhd', 'S.Dflct', 'S.Slap', 'S.Snap', 'S.Tip', 'S.Wrap', 'S.Wrst', 'iPenT', 'iPenD', 'iPENT', 'iPEND', 'iPenDf', 'NPD', 'Min', 'Maj', 'Match', 'Misc', 'Game', 'CF', 'CA', 'FF', 'FA', 'SF', 'SA', 'xGF', 'xGA', 'SCF', 'SCA', 'GF', 'GA', 'RBF', 'RBA', 'RSF', 'RSA', 'DSF', 'DSA', 'FOW', 'FOL', 'HF', 'HA', 'GVA', 'TKA', 'PENT', 'PEND', 'OPS', 'DPS', 'PS', 'OTOI', 'Grit', 'DAP', 'Pace', 'GS', 'GS/G']\n"
     ]
    }
   ],
   "source": [
    "print(list(df.columns))\n",
    "#Found this with a google and is quicker"
   ]
  },
  {
   "cell_type": "code",
   "execution_count": 96,
   "metadata": {},
   "outputs": [
    {
     "data": {
      "text/html": [
       "<div>\n",
       "<style scoped>\n",
       "    .dataframe tbody tr th:only-of-type {\n",
       "        vertical-align: middle;\n",
       "    }\n",
       "\n",
       "    .dataframe tbody tr th {\n",
       "        vertical-align: top;\n",
       "    }\n",
       "\n",
       "    .dataframe thead th {\n",
       "        text-align: right;\n",
       "    }\n",
       "</style>\n",
       "<table border=\"1\" class=\"dataframe\">\n",
       "  <thead>\n",
       "    <tr style=\"text-align: right;\">\n",
       "      <th></th>\n",
       "      <th>Salary</th>\n",
       "      <th>Born</th>\n",
       "      <th>City</th>\n",
       "      <th>Pr/St</th>\n",
       "      <th>Cntry</th>\n",
       "      <th>Nat</th>\n",
       "      <th>Ht</th>\n",
       "      <th>Wt</th>\n",
       "      <th>DftYr</th>\n",
       "      <th>DftRd</th>\n",
       "      <th>...</th>\n",
       "      <th>OPS</th>\n",
       "      <th>DPS</th>\n",
       "      <th>PS</th>\n",
       "      <th>OTOI</th>\n",
       "      <th>Grit</th>\n",
       "      <th>DAP</th>\n",
       "      <th>Pace</th>\n",
       "      <th>GS</th>\n",
       "      <th>GS/G</th>\n",
       "      <th>Name</th>\n",
       "    </tr>\n",
       "  </thead>\n",
       "  <tbody>\n",
       "    <tr>\n",
       "      <th>0</th>\n",
       "      <td>925000</td>\n",
       "      <td>97-01-30</td>\n",
       "      <td>Sainte-Marie</td>\n",
       "      <td>QC</td>\n",
       "      <td>CAN</td>\n",
       "      <td>CAN</td>\n",
       "      <td>74</td>\n",
       "      <td>190</td>\n",
       "      <td>2015.0</td>\n",
       "      <td>1.0</td>\n",
       "      <td>...</td>\n",
       "      <td>0.0</td>\n",
       "      <td>-0.2</td>\n",
       "      <td>-0.2</td>\n",
       "      <td>40.03</td>\n",
       "      <td>1</td>\n",
       "      <td>0.0</td>\n",
       "      <td>175.7</td>\n",
       "      <td>-0.4</td>\n",
       "      <td>-0.38</td>\n",
       "      <td>Thomas Chabot</td>\n",
       "    </tr>\n",
       "    <tr>\n",
       "      <th>1</th>\n",
       "      <td>2250000</td>\n",
       "      <td>93-12-21</td>\n",
       "      <td>Ottawa</td>\n",
       "      <td>ON</td>\n",
       "      <td>CAN</td>\n",
       "      <td>CAN</td>\n",
       "      <td>74</td>\n",
       "      <td>207</td>\n",
       "      <td>2012.0</td>\n",
       "      <td>1.0</td>\n",
       "      <td>...</td>\n",
       "      <td>-0.2</td>\n",
       "      <td>3.4</td>\n",
       "      <td>3.2</td>\n",
       "      <td>2850.59</td>\n",
       "      <td>290</td>\n",
       "      <td>13.3</td>\n",
       "      <td>112.5</td>\n",
       "      <td>14.1</td>\n",
       "      <td>0.18</td>\n",
       "      <td>Cody Ceci</td>\n",
       "    </tr>\n",
       "    <tr>\n",
       "      <th>2</th>\n",
       "      <td>8000000</td>\n",
       "      <td>88-04-16</td>\n",
       "      <td>St. Paul</td>\n",
       "      <td>MN</td>\n",
       "      <td>USA</td>\n",
       "      <td>USA</td>\n",
       "      <td>72</td>\n",
       "      <td>218</td>\n",
       "      <td>2006.0</td>\n",
       "      <td>1.0</td>\n",
       "      <td>...</td>\n",
       "      <td>3.7</td>\n",
       "      <td>1.3</td>\n",
       "      <td>5.0</td>\n",
       "      <td>2486.75</td>\n",
       "      <td>102</td>\n",
       "      <td>6.6</td>\n",
       "      <td>114.8</td>\n",
       "      <td>36.8</td>\n",
       "      <td>0.57</td>\n",
       "      <td>Kyle Okposo</td>\n",
       "    </tr>\n",
       "    <tr>\n",
       "      <th>3</th>\n",
       "      <td>3500000</td>\n",
       "      <td>92-01-07</td>\n",
       "      <td>Ottawa</td>\n",
       "      <td>ON</td>\n",
       "      <td>CAN</td>\n",
       "      <td>CAN</td>\n",
       "      <td>77</td>\n",
       "      <td>220</td>\n",
       "      <td>2010.0</td>\n",
       "      <td>1.0</td>\n",
       "      <td>...</td>\n",
       "      <td>0.0</td>\n",
       "      <td>0.4</td>\n",
       "      <td>0.5</td>\n",
       "      <td>1074.41</td>\n",
       "      <td>130</td>\n",
       "      <td>17.5</td>\n",
       "      <td>105.1</td>\n",
       "      <td>5.9</td>\n",
       "      <td>0.20</td>\n",
       "      <td>Erik Gudbranson</td>\n",
       "    </tr>\n",
       "    <tr>\n",
       "      <th>4</th>\n",
       "      <td>1750000</td>\n",
       "      <td>94-03-29</td>\n",
       "      <td>Toronto</td>\n",
       "      <td>ON</td>\n",
       "      <td>CAN</td>\n",
       "      <td>CAN</td>\n",
       "      <td>76</td>\n",
       "      <td>217</td>\n",
       "      <td>2012.0</td>\n",
       "      <td>1.0</td>\n",
       "      <td>...</td>\n",
       "      <td>-0.1</td>\n",
       "      <td>1.4</td>\n",
       "      <td>1.3</td>\n",
       "      <td>3459.09</td>\n",
       "      <td>425</td>\n",
       "      <td>8.3</td>\n",
       "      <td>99.5</td>\n",
       "      <td>21.8</td>\n",
       "      <td>0.27</td>\n",
       "      <td>Tom Wilson</td>\n",
       "    </tr>\n",
       "  </tbody>\n",
       "</table>\n",
       "<p>5 rows × 155 columns</p>\n",
       "</div>"
      ],
      "text/plain": [
       "    Salary      Born          City Pr/St Cntry  Nat  Ht   Wt   DftYr  DftRd  \\\n",
       "0   925000  97-01-30  Sainte-Marie    QC   CAN  CAN  74  190  2015.0    1.0   \n",
       "1  2250000  93-12-21        Ottawa    ON   CAN  CAN  74  207  2012.0    1.0   \n",
       "2  8000000  88-04-16      St. Paul    MN   USA  USA  72  218  2006.0    1.0   \n",
       "3  3500000  92-01-07        Ottawa    ON   CAN  CAN  77  220  2010.0    1.0   \n",
       "4  1750000  94-03-29       Toronto    ON   CAN  CAN  76  217  2012.0    1.0   \n",
       "\n",
       "   ...  OPS  DPS   PS     OTOI Grit   DAP   Pace    GS  GS/G             Name  \n",
       "0  ...  0.0 -0.2 -0.2    40.03    1   0.0  175.7  -0.4 -0.38    Thomas Chabot  \n",
       "1  ... -0.2  3.4  3.2  2850.59  290  13.3  112.5  14.1  0.18        Cody Ceci  \n",
       "2  ...  3.7  1.3  5.0  2486.75  102   6.6  114.8  36.8  0.57      Kyle Okposo  \n",
       "3  ...  0.0  0.4  0.5  1074.41  130  17.5  105.1   5.9  0.20  Erik Gudbranson  \n",
       "4  ... -0.1  1.4  1.3  3459.09  425   8.3   99.5  21.8  0.27       Tom Wilson  \n",
       "\n",
       "[5 rows x 155 columns]"
      ]
     },
     "execution_count": 96,
     "metadata": {},
     "output_type": "execute_result"
    }
   ],
   "source": [
    "\n",
    "#Let's concat the first and last names\n",
    "df['Name'] = df['First Name'] + [' '] + df['Last Name']\n",
    "df.head()"
   ]
  },
  {
   "cell_type": "markdown",
   "metadata": {},
   "source": [
    "# I'd like to see the Age's of each player in additon to the birthdates"
   ]
  },
  {
   "cell_type": "code",
   "execution_count": 97,
   "metadata": {},
   "outputs": [
    {
     "data": {
      "text/plain": [
       "'98-07-29'"
      ]
     },
     "execution_count": 97,
     "metadata": {},
     "output_type": "execute_result"
    }
   ],
   "source": [
    "df.Born.max()"
   ]
  },
  {
   "cell_type": "code",
   "execution_count": 98,
   "metadata": {},
   "outputs": [
    {
     "data": {
      "text/plain": [
       "0      1997-01-30\n",
       "1      1993-12-21\n",
       "2      1988-04-16\n",
       "3      1992-01-07\n",
       "4      1994-03-29\n",
       "          ...    \n",
       "607    1992-09-26\n",
       "608    1985-01-21\n",
       "609    1987-03-30\n",
       "610    1982-10-31\n",
       "611    1993-05-12\n",
       "Name: Born2, Length: 612, dtype: object"
      ]
     },
     "execution_count": 98,
     "metadata": {},
     "output_type": "execute_result"
    }
   ],
   "source": [
    "df['Born2'] = '19' + df['Born']\n",
    "df.Born2"
   ]
  },
  {
   "cell_type": "code",
   "execution_count": 99,
   "metadata": {},
   "outputs": [
    {
     "name": "stdout",
     "output_type": "stream",
     "text": [
      "0      24\n",
      "1      27\n",
      "2      33\n",
      "3      29\n",
      "4      27\n",
      "       ..\n",
      "607    28\n",
      "608    36\n",
      "609    34\n",
      "610    38\n",
      "611    28\n",
      "Name: Age, Length: 612, dtype: int64\n"
     ]
    }
   ],
   "source": [
    "def age(born):\n",
    "    born = datetime.strptime(born, '%Y-%m-%d').date()\n",
    "    today = date.today()\n",
    "    return today.year - born.year - ((today.month, \n",
    "                                      today.day) < (born.month, \n",
    "                                                    born.day))\n",
    "\n",
    "\n",
    "  \n",
    "df['Age'] = df['Born2'].apply(age)\n",
    "  \n",
    "print(df['Age'])"
   ]
  },
  {
   "cell_type": "code",
   "execution_count": 100,
   "metadata": {
    "collapsed": true
   },
   "outputs": [],
   "source": [
    "df.drop(['Born'], axis=1,inplace=True)"
   ]
  },
  {
   "cell_type": "code",
   "execution_count": 101,
   "metadata": {
    "collapsed": true
   },
   "outputs": [],
   "source": [
    "df.rename(columns={\"Born2\": \"Born\"},inplace=True)"
   ]
  },
  {
   "cell_type": "code",
   "execution_count": 103,
   "metadata": {},
   "outputs": [
    {
     "data": {
      "text/plain": [
       "count    612.000000\n",
       "mean      30.686275\n",
       "std        4.452287\n",
       "min       23.000000\n",
       "25%       27.000000\n",
       "50%       30.000000\n",
       "75%       34.000000\n",
       "max       49.000000\n",
       "Name: Age, dtype: float64"
      ]
     },
     "execution_count": 103,
     "metadata": {},
     "output_type": "execute_result"
    }
   ],
   "source": [
    "df['Age'].describe()"
   ]
  },
  {
   "cell_type": "code",
   "execution_count": 104,
   "metadata": {},
   "outputs": [
    {
     "data": {
      "text/plain": [
       "<AxesSubplot:xlabel='Age', ylabel='Count'>"
      ]
     },
     "execution_count": 104,
     "metadata": {},
     "output_type": "execute_result"
    },
    {
     "data": {
      "image/png": "[encoded data removed]",
      "text/plain": [
       "<Figure size 432x288 with 1 Axes>"
      ]
     },
     "metadata": {},
     "output_type": "display_data"
    }
   ],
   "source": [
    "#now that we have age, lets see what it looks like as a distribution\n",
    "sns.histplot(data=df,x='Age',kde=True)"
   ]
  },
  {
   "cell_type": "code",
   "execution_count": 105,
   "metadata": {},
   "outputs": [
    {
     "data": {
      "text/plain": [
       "0.42194098860003326"
      ]
     },
     "execution_count": 105,
     "metadata": {},
     "output_type": "execute_result"
    }
   ],
   "source": [
    "df['Age'].corr(df['Salary'])\n",
    "#unsurprisngly age is corelated with salary although not very strongly"
   ]
  },
  {
   "cell_type": "code",
   "execution_count": 107,
   "metadata": {},
   "outputs": [
    {
     "data": {
      "text/plain": [
       "<matplotlib.collections.PathCollection at 0x138a750f0>"
      ]
     },
     "execution_count": 107,
     "metadata": {},
     "output_type": "execute_result"
    },
    {
     "data": {
      "image/png": "[encoded data removed]",
      "text/plain": [
       "<Figure size 432x288 with 1 Axes>"
      ]
     },
     "metadata": {},
     "output_type": "display_data"
    }
   ],
   "source": [
    "plt.scatter('Age','Salary', data=df, linewidth=2)"
   ]
  },
  {
   "cell_type": "code",
   "execution_count": 108,
   "metadata": {},
   "outputs": [
    {
     "name": "stdout",
     "output_type": "stream",
     "text": [
      "131    Jagr\n",
      "Name: Last Name, dtype: object\n"
     ]
    }
   ],
   "source": [
    "#interesting outlier at almost 50 in a high contact sport\n",
    "oldest_player = df[df['Age'] == df['Age'].max()]['Last Name']\n",
    "print(oldest_player)\n",
    "# I had a feeling it was Jagr or Chara"
   ]
  },
  {
   "cell_type": "code",
   "execution_count": 110,
   "metadata": {},
   "outputs": [
    {
     "data": {
      "text/plain": [
       "<AxesSubplot:xlabel='count', ylabel='Cntry'>"
      ]
     },
     "execution_count": 110,
     "metadata": {},
     "output_type": "execute_result"
    },
    {
     "data": {
      "image/png": "[encoded data removed]",
      "text/plain": [
       "<Figure size 432x288 with 1 Axes>"
      ]
     },
     "metadata": {},
     "output_type": "display_data"
    }
   ],
   "source": [
    "#Switching Gears lets take a look at the countries column\n",
    "order1 = df.Cntry.value_counts().index\n",
    "\n",
    "sns.countplot(data=df,y='Cntry',order=order1)\n",
    "\n",
    "#unsurpsingly Canada reigns supreme"
   ]
  },
  {
   "cell_type": "code",
   "execution_count": 111,
   "metadata": {},
   "outputs": [
    {
     "data": {
      "text/plain": [
       "<AxesSubplot:xlabel='Wt', ylabel='Count'>"
      ]
     },
     "execution_count": 111,
     "metadata": {},
     "output_type": "execute_result"
    },
    {
     "data": {
      "image/png": "[encoded data removed]",
      "text/plain": [
       "<Figure size 432x288 with 1 Axes>"
      ]
     },
     "metadata": {},
     "output_type": "display_data"
    }
   ],
   "source": [
    "sns.histplot(data=df,x='Wt',bins=10)"
   ]
  },
  {
   "cell_type": "code",
   "execution_count": 112,
   "metadata": {},
   "outputs": [
    {
     "data": {
      "text/plain": [
       "<AxesSubplot:xlabel='Ht', ylabel='Count'>"
      ]
     },
     "execution_count": 112,
     "metadata": {},
     "output_type": "execute_result"
    },
    {
     "data": {
      "image/png": "[encoded data removed]",
      "text/plain": [
       "<Figure size 432x288 with 1 Axes>"
      ]
     },
     "metadata": {},
     "output_type": "display_data"
    }
   ],
   "source": [
    "sns.histplot(data=df,x='Ht',bins=10)"
   ]
  },
  {
   "cell_type": "code",
   "execution_count": 113,
   "metadata": {},
   "outputs": [
    {
     "ename": "AttributeError",
     "evalue": "'AxesSubplot' object has no attribute 'show'",
     "output_type": "error",
     "traceback": [
      "\u001b[0;31m---------------------------------------------------------------------------\u001b[0m",
      "\u001b[0;31mAttributeError\u001b[0m                            Traceback (most recent call last)",
      "\u001b[0;32m<ipython-input-113-eee06d88d1d2>\u001b[0m in \u001b[0;36m<module>\u001b[0;34m()\u001b[0m\n\u001b[1;32m      3\u001b[0m \u001b[0max\u001b[0m \u001b[0;34m=\u001b[0m \u001b[0msns\u001b[0m\u001b[0;34m.\u001b[0m\u001b[0mbarplot\u001b[0m\u001b[0;34m(\u001b[0m\u001b[0my\u001b[0m\u001b[0;34m=\u001b[0m\u001b[0msortedcorrs\u001b[0m\u001b[0;34m.\u001b[0m\u001b[0mindex\u001b[0m\u001b[0;34m,\u001b[0m\u001b[0mx\u001b[0m\u001b[0;34m=\u001b[0m\u001b[0msortedcorrs\u001b[0m\u001b[0;34m)\u001b[0m\u001b[0;34m\u001b[0m\u001b[0m\n\u001b[1;32m      4\u001b[0m \u001b[0max\u001b[0m\u001b[0;34m.\u001b[0m\u001b[0mset_yticklabels\u001b[0m\u001b[0;34m(\u001b[0m\u001b[0;34m[\u001b[0m\u001b[0;34m]\u001b[0m\u001b[0;34m)\u001b[0m\u001b[0;34m\u001b[0m\u001b[0m\n\u001b[0;32m----> 5\u001b[0;31m \u001b[0max\u001b[0m\u001b[0;34m.\u001b[0m\u001b[0mshow\u001b[0m\u001b[0;34m(\u001b[0m\u001b[0;34m)\u001b[0m\u001b[0;34m\u001b[0m\u001b[0m\n\u001b[0m",
      "\u001b[0;31mAttributeError\u001b[0m: 'AxesSubplot' object has no attribute 'show'"
     ]
    },
    {
     "data": {
      "image/png": "[encoded data removed]",
      "text/plain": [
       "<Figure size 432x288 with 1 Axes>"
      ]
     },
     "metadata": {},
     "output_type": "display_data"
    }
   ],
   "source": [
    "Corrs = df.corrwith(df[\"Salary\"])\n",
    "sortedcorrs = Corrs.sort_values(ascending=False)\n",
    "ax = sns.barplot(y=sortedcorrs.index,x=sortedcorrs)\n",
    "ax.set_yticklabels([])\n",
    "ax.show()"
   ]
  },
  {
   "cell_type": "code",
   "execution_count": 114,
   "metadata": {},
   "outputs": [
    {
     "data": {
      "text/plain": [
       "Pr/St      153\n",
       "Ovrl       100\n",
       "DftRd      100\n",
       "DftYr      100\n",
       "sDist.1     16\n",
       "iHA          9\n",
       "iCF          8\n",
       "iHDf         8\n",
       "iSF          8\n",
       "iFF          8\n",
       "iRB          8\n",
       "iDS          7\n",
       "SH%          2\n",
       "GS/G         2\n",
       "PDO          2\n",
       "TOI%         1\n",
       "iPENT        1\n",
       "CF           1\n",
       "A/60         1\n",
       "iFOW.1       1\n",
       "iFOL.1       1\n",
       "iHF.1        1\n",
       "%FOT         1\n",
       "iPEND        1\n",
       "F/60         1\n",
       "Pass         1\n",
       "IPP%         1\n",
       "SV%          1\n",
       "iRS          1\n",
       "FF           1\n",
       "iSCF         1\n",
       "ixG          1\n",
       "TOIX         1\n",
       "CA           1\n",
       "FA           1\n",
       "Diff/60      1\n",
       "FOL          1\n",
       "iGVA.1       1\n",
       "GS           1\n",
       "Pace         1\n",
       "iTKA.1       1\n",
       "OTOI         1\n",
       "iBLK.1       1\n",
       "BLK%         1\n",
       "PEND         1\n",
       "PENT         1\n",
       "TKA          1\n",
       "GVA          1\n",
       "HA           1\n",
       "SF           1\n",
       "dtype: int64"
      ]
     },
     "execution_count": 114,
     "metadata": {},
     "output_type": "execute_result"
    }
   ],
   "source": [
    "df.isnull().sum(axis = 0).sort_values(ascending=False).head(50)"
   ]
  },
  {
   "cell_type": "code",
   "execution_count": 115,
   "metadata": {},
   "outputs": [
    {
     "data": {
      "text/html": [
       "<div>\n",
       "<style scoped>\n",
       "    .dataframe tbody tr th:only-of-type {\n",
       "        vertical-align: middle;\n",
       "    }\n",
       "\n",
       "    .dataframe tbody tr th {\n",
       "        vertical-align: top;\n",
       "    }\n",
       "\n",
       "    .dataframe thead th {\n",
       "        text-align: right;\n",
       "    }\n",
       "</style>\n",
       "<table border=\"1\" class=\"dataframe\">\n",
       "  <thead>\n",
       "    <tr style=\"text-align: right;\">\n",
       "      <th></th>\n",
       "      <th>Salary</th>\n",
       "      <th>City</th>\n",
       "      <th>Pr/St</th>\n",
       "      <th>Cntry</th>\n",
       "      <th>Nat</th>\n",
       "      <th>Ht</th>\n",
       "      <th>Wt</th>\n",
       "      <th>DftYr</th>\n",
       "      <th>DftRd</th>\n",
       "      <th>Ovrl</th>\n",
       "      <th>...</th>\n",
       "      <th>PS</th>\n",
       "      <th>OTOI</th>\n",
       "      <th>Grit</th>\n",
       "      <th>DAP</th>\n",
       "      <th>Pace</th>\n",
       "      <th>GS</th>\n",
       "      <th>GS/G</th>\n",
       "      <th>Name</th>\n",
       "      <th>Born</th>\n",
       "      <th>Age</th>\n",
       "    </tr>\n",
       "  </thead>\n",
       "  <tbody>\n",
       "    <tr>\n",
       "      <th>290</th>\n",
       "      <td>692500</td>\n",
       "      <td>Pickering</td>\n",
       "      <td>ON</td>\n",
       "      <td>CAN</td>\n",
       "      <td>CAN</td>\n",
       "      <td>74</td>\n",
       "      <td>205</td>\n",
       "      <td>NaN</td>\n",
       "      <td>NaN</td>\n",
       "      <td>NaN</td>\n",
       "      <td>...</td>\n",
       "      <td>0.0</td>\n",
       "      <td>NaN</td>\n",
       "      <td>3</td>\n",
       "      <td>0.0</td>\n",
       "      <td>NaN</td>\n",
       "      <td>NaN</td>\n",
       "      <td>NaN</td>\n",
       "      <td>Dan Renouf</td>\n",
       "      <td>1994-06-01</td>\n",
       "      <td>27</td>\n",
       "    </tr>\n",
       "  </tbody>\n",
       "</table>\n",
       "<p>1 rows × 156 columns</p>\n",
       "</div>"
      ],
      "text/plain": [
       "     Salary       City Pr/St Cntry  Nat  Ht   Wt  DftYr  DftRd  Ovrl  ...  \\\n",
       "290  692500  Pickering    ON   CAN  CAN  74  205    NaN    NaN   NaN  ...   \n",
       "\n",
       "      PS OTOI Grit  DAP Pace  GS  GS/G        Name        Born  Age  \n",
       "290  0.0  NaN    3  0.0  NaN NaN   NaN  Dan Renouf  1994-06-01   27  \n",
       "\n",
       "[1 rows x 156 columns]"
      ]
     },
     "execution_count": 115,
     "metadata": {},
     "output_type": "execute_result"
    }
   ],
   "source": [
    "df[df['Pace'].isnull()]"
   ]
  },
  {
   "cell_type": "code",
   "execution_count": 116,
   "metadata": {
    "collapsed": true
   },
   "outputs": [],
   "source": [
    "df.drop([0,290],inplace=True)"
   ]
  },
  {
   "cell_type": "code",
   "execution_count": 117,
   "metadata": {},
   "outputs": [
    {
     "data": {
      "text/plain": [
       "Pr/St      153\n",
       "DftYr       99\n",
       "Ovrl        99\n",
       "DftRd       99\n",
       "sDist.1     15\n",
       "iHA          8\n",
       "iHDf         8\n",
       "iSF          7\n",
       "iDS          7\n",
       "iFF          7\n",
       "iCF          7\n",
       "iRB          7\n",
       "PDO          1\n",
       "SH%          1\n",
       "IPP%         1\n",
       "GS/G         1\n",
       "Pass         1\n",
       "dtype: int64"
      ]
     },
     "execution_count": 117,
     "metadata": {},
     "output_type": "execute_result"
    }
   ],
   "source": [
    "df.isnull().sum(axis = 0).sort_values(ascending=False).head(17)"
   ]
  },
  {
   "cell_type": "code",
   "execution_count": 118,
   "metadata": {},
   "outputs": [
    {
     "data": {
      "text/plain": [
       "dtype('float64')"
      ]
     },
     "execution_count": 118,
     "metadata": {},
     "output_type": "execute_result"
    }
   ],
   "source": [
    "df.DftRd.dtype"
   ]
  },
  {
   "cell_type": "code",
   "execution_count": 120,
   "metadata": {
    "collapsed": true
   },
   "outputs": [],
   "source": [
    "df['DftRd'].fillna(8.0, inplace = True)\n",
    "df.DftRd.replace({9: 8}, inplace=True)"
   ]
  },
  {
   "cell_type": "code",
   "execution_count": 121,
   "metadata": {},
   "outputs": [
    {
     "data": {
      "text/plain": [
       "<AxesSubplot:xlabel='DftRd', ylabel='Count'>"
      ]
     },
     "execution_count": 121,
     "metadata": {},
     "output_type": "execute_result"
    },
    {
     "data": {
      "image/png": "[encoded data removed]",
      "text/plain": [
       "<Figure size 432x288 with 1 Axes>"
      ]
     },
     "metadata": {},
     "output_type": "display_data"
    }
   ],
   "source": [
    "df['DftRd'].value_counts()\n",
    "sns.histplot(x='DftRd',data=df, discrete=True)"
   ]
  },
  {
   "cell_type": "code",
   "execution_count": 122,
   "metadata": {},
   "outputs": [
    {
     "data": {
      "text/plain": [
       "Age  Cntry\n",
       "23   USA      4\n",
       "     CAN      2\n",
       "     FIN      1\n",
       "     RUS      1\n",
       "     SWE      1\n",
       "             ..\n",
       "42   USA      1\n",
       "43   CHE      1\n",
       "     CZE      1\n",
       "44   SVK      1\n",
       "49   CZE      1\n",
       "Name: Cntry, Length: 123, dtype: int64"
      ]
     },
     "execution_count": 122,
     "metadata": {},
     "output_type": "execute_result"
    }
   ],
   "source": [
    "df.groupby('Age')['Cntry'].value_counts()"
   ]
  },
  {
   "cell_type": "code",
   "execution_count": 123,
   "metadata": {
    "collapsed": true
   },
   "outputs": [],
   "source": [
    "\n",
    "\n",
    "df2 = df[['Salary', 'Name', 'Born', 'Age', 'City', 'Pr/St', 'Cntry', 'Nat', 'Ht', 'Wt', 'DftYr', 'DftRd', 'Ovrl', 'Hand', 'Position', 'Team', 'GP', 'G', 'A', 'PTS', '+/-', 'E+/-', 'PIM', 'Shifts', 'TOI']]"
   ]
  },
  {
   "cell_type": "code",
   "execution_count": 124,
   "metadata": {},
   "outputs": [
    {
     "data": {
      "text/html": [
       "<div>\n",
       "<style scoped>\n",
       "    .dataframe tbody tr th:only-of-type {\n",
       "        vertical-align: middle;\n",
       "    }\n",
       "\n",
       "    .dataframe tbody tr th {\n",
       "        vertical-align: top;\n",
       "    }\n",
       "\n",
       "    .dataframe thead th {\n",
       "        text-align: right;\n",
       "    }\n",
       "</style>\n",
       "<table border=\"1\" class=\"dataframe\">\n",
       "  <thead>\n",
       "    <tr style=\"text-align: right;\">\n",
       "      <th></th>\n",
       "      <th>Salary</th>\n",
       "      <th>Name</th>\n",
       "      <th>Born</th>\n",
       "      <th>Age</th>\n",
       "      <th>City</th>\n",
       "      <th>Pr/St</th>\n",
       "      <th>Cntry</th>\n",
       "      <th>Nat</th>\n",
       "      <th>Ht</th>\n",
       "      <th>Wt</th>\n",
       "      <th>...</th>\n",
       "      <th>Team</th>\n",
       "      <th>GP</th>\n",
       "      <th>G</th>\n",
       "      <th>A</th>\n",
       "      <th>PTS</th>\n",
       "      <th>+/-</th>\n",
       "      <th>E+/-</th>\n",
       "      <th>PIM</th>\n",
       "      <th>Shifts</th>\n",
       "      <th>TOI</th>\n",
       "    </tr>\n",
       "  </thead>\n",
       "  <tbody>\n",
       "    <tr>\n",
       "      <th>1</th>\n",
       "      <td>2250000</td>\n",
       "      <td>Cody Ceci</td>\n",
       "      <td>1993-12-21</td>\n",
       "      <td>27</td>\n",
       "      <td>Ottawa</td>\n",
       "      <td>ON</td>\n",
       "      <td>CAN</td>\n",
       "      <td>CAN</td>\n",
       "      <td>74</td>\n",
       "      <td>207</td>\n",
       "      <td>...</td>\n",
       "      <td>OTT</td>\n",
       "      <td>79</td>\n",
       "      <td>2</td>\n",
       "      <td>15</td>\n",
       "      <td>17</td>\n",
       "      <td>-11</td>\n",
       "      <td>-10.4</td>\n",
       "      <td>20</td>\n",
       "      <td>2418</td>\n",
       "      <td>109992</td>\n",
       "    </tr>\n",
       "    <tr>\n",
       "      <th>2</th>\n",
       "      <td>8000000</td>\n",
       "      <td>Kyle Okposo</td>\n",
       "      <td>1988-04-16</td>\n",
       "      <td>33</td>\n",
       "      <td>St. Paul</td>\n",
       "      <td>MN</td>\n",
       "      <td>USA</td>\n",
       "      <td>USA</td>\n",
       "      <td>72</td>\n",
       "      <td>218</td>\n",
       "      <td>...</td>\n",
       "      <td>BUF</td>\n",
       "      <td>65</td>\n",
       "      <td>19</td>\n",
       "      <td>26</td>\n",
       "      <td>45</td>\n",
       "      <td>-7</td>\n",
       "      <td>-1.4</td>\n",
       "      <td>24</td>\n",
       "      <td>1443</td>\n",
       "      <td>73983</td>\n",
       "    </tr>\n",
       "    <tr>\n",
       "      <th>3</th>\n",
       "      <td>3500000</td>\n",
       "      <td>Erik Gudbranson</td>\n",
       "      <td>1992-01-07</td>\n",
       "      <td>29</td>\n",
       "      <td>Ottawa</td>\n",
       "      <td>ON</td>\n",
       "      <td>CAN</td>\n",
       "      <td>CAN</td>\n",
       "      <td>77</td>\n",
       "      <td>220</td>\n",
       "      <td>...</td>\n",
       "      <td>VAN</td>\n",
       "      <td>30</td>\n",
       "      <td>1</td>\n",
       "      <td>5</td>\n",
       "      <td>6</td>\n",
       "      <td>-14</td>\n",
       "      <td>-5.3</td>\n",
       "      <td>18</td>\n",
       "      <td>765</td>\n",
       "      <td>36603</td>\n",
       "    </tr>\n",
       "    <tr>\n",
       "      <th>4</th>\n",
       "      <td>1750000</td>\n",
       "      <td>Tom Wilson</td>\n",
       "      <td>1994-03-29</td>\n",
       "      <td>27</td>\n",
       "      <td>Toronto</td>\n",
       "      <td>ON</td>\n",
       "      <td>CAN</td>\n",
       "      <td>CAN</td>\n",
       "      <td>76</td>\n",
       "      <td>217</td>\n",
       "      <td>...</td>\n",
       "      <td>WSH</td>\n",
       "      <td>82</td>\n",
       "      <td>7</td>\n",
       "      <td>12</td>\n",
       "      <td>19</td>\n",
       "      <td>9</td>\n",
       "      <td>4.1</td>\n",
       "      <td>133</td>\n",
       "      <td>1453</td>\n",
       "      <td>63592</td>\n",
       "    </tr>\n",
       "    <tr>\n",
       "      <th>5</th>\n",
       "      <td>1500000</td>\n",
       "      <td>Brian Campbell</td>\n",
       "      <td>1979-05-23</td>\n",
       "      <td>42</td>\n",
       "      <td>Strathroy</td>\n",
       "      <td>ON</td>\n",
       "      <td>CAN</td>\n",
       "      <td>CAN</td>\n",
       "      <td>70</td>\n",
       "      <td>192</td>\n",
       "      <td>...</td>\n",
       "      <td>CHI</td>\n",
       "      <td>80</td>\n",
       "      <td>5</td>\n",
       "      <td>12</td>\n",
       "      <td>17</td>\n",
       "      <td>12</td>\n",
       "      <td>0.7</td>\n",
       "      <td>24</td>\n",
       "      <td>1896</td>\n",
       "      <td>88462</td>\n",
       "    </tr>\n",
       "  </tbody>\n",
       "</table>\n",
       "<p>5 rows × 25 columns</p>\n",
       "</div>"
      ],
      "text/plain": [
       "    Salary             Name        Born  Age       City Pr/St Cntry  Nat  Ht  \\\n",
       "1  2250000        Cody Ceci  1993-12-21   27     Ottawa    ON   CAN  CAN  74   \n",
       "2  8000000      Kyle Okposo  1988-04-16   33   St. Paul    MN   USA  USA  72   \n",
       "3  3500000  Erik Gudbranson  1992-01-07   29     Ottawa    ON   CAN  CAN  77   \n",
       "4  1750000       Tom Wilson  1994-03-29   27    Toronto    ON   CAN  CAN  76   \n",
       "5  1500000   Brian Campbell  1979-05-23   42  Strathroy    ON   CAN  CAN  70   \n",
       "\n",
       "    Wt  ...  Team  GP   G   A PTS +/-  E+/-  PIM  Shifts     TOI  \n",
       "1  207  ...   OTT  79   2  15  17 -11 -10.4   20    2418  109992  \n",
       "2  218  ...   BUF  65  19  26  45  -7  -1.4   24    1443   73983  \n",
       "3  220  ...   VAN  30   1   5   6 -14  -5.3   18     765   36603  \n",
       "4  217  ...   WSH  82   7  12  19   9   4.1  133    1453   63592  \n",
       "5  192  ...   CHI  80   5  12  17  12   0.7   24    1896   88462  \n",
       "\n",
       "[5 rows x 25 columns]"
      ]
     },
     "execution_count": 124,
     "metadata": {},
     "output_type": "execute_result"
    }
   ],
   "source": [
    "df2.head()"
   ]
  },
  {
   "cell_type": "code",
   "execution_count": 125,
   "metadata": {},
   "outputs": [
    {
     "data": {
      "text/plain": [
       "<AxesSubplot:>"
      ]
     },
     "execution_count": 125,
     "metadata": {},
     "output_type": "execute_result"
    },
    {
     "data": {
      "image/png": "[encoded data removed]",
      "text/plain": [
       "<Figure size 432x288 with 2 Axes>"
      ]
     },
     "metadata": {},
     "output_type": "display_data"
    }
   ],
   "source": [
    "sns.heatmap(df2.corr())"
   ]
  },
  {
   "cell_type": "code",
   "execution_count": 126,
   "metadata": {},
   "outputs": [
    {
     "data": {
      "text/plain": [
       "0.179691222664552"
      ]
     },
     "execution_count": 126,
     "metadata": {},
     "output_type": "execute_result"
    }
   ],
   "source": [
    "df2['Wt'].corr(df2['Salary'])"
   ]
  },
  {
   "cell_type": "code",
   "execution_count": 127,
   "metadata": {},
   "outputs": [
    {
     "data": {
      "text/plain": [
       "0.7209536520977574"
      ]
     },
     "execution_count": 127,
     "metadata": {},
     "output_type": "execute_result"
    }
   ],
   "source": [
    "df2['Wt'].corr(df2['Ht'])"
   ]
  },
  {
   "cell_type": "code",
   "execution_count": 128,
   "metadata": {},
   "outputs": [
    {
     "data": {
      "text/plain": [
       "0.14393815623240724"
      ]
     },
     "execution_count": 128,
     "metadata": {},
     "output_type": "execute_result"
    }
   ],
   "source": [
    "df2['Wt'].corr(df2['Age'])"
   ]
  },
  {
   "cell_type": "code",
   "execution_count": 129,
   "metadata": {},
   "outputs": [
    {
     "data": {
      "text/plain": [
       "0.2881763179025812"
      ]
     },
     "execution_count": 129,
     "metadata": {},
     "output_type": "execute_result"
    }
   ],
   "source": [
    "df2['Wt'].corr(df2['PIM'])"
   ]
  },
  {
   "cell_type": "code",
   "execution_count": 131,
   "metadata": {},
   "outputs": [
    {
     "data": {
      "text/html": [
       "<div>\n",
       "<style scoped>\n",
       "    .dataframe tbody tr th:only-of-type {\n",
       "        vertical-align: middle;\n",
       "    }\n",
       "\n",
       "    .dataframe tbody tr th {\n",
       "        vertical-align: top;\n",
       "    }\n",
       "\n",
       "    .dataframe thead th {\n",
       "        text-align: right;\n",
       "    }\n",
       "</style>\n",
       "<table border=\"1\" class=\"dataframe\">\n",
       "  <thead>\n",
       "    <tr style=\"text-align: right;\">\n",
       "      <th></th>\n",
       "      <th>Salary</th>\n",
       "      <th>Name</th>\n",
       "      <th>Born</th>\n",
       "      <th>Age</th>\n",
       "      <th>City</th>\n",
       "      <th>Pr/St</th>\n",
       "      <th>Cntry</th>\n",
       "      <th>Nat</th>\n",
       "      <th>Ht</th>\n",
       "      <th>Wt</th>\n",
       "      <th>...</th>\n",
       "      <th>Team</th>\n",
       "      <th>GP</th>\n",
       "      <th>G</th>\n",
       "      <th>A</th>\n",
       "      <th>PTS</th>\n",
       "      <th>+/-</th>\n",
       "      <th>E+/-</th>\n",
       "      <th>PIM</th>\n",
       "      <th>Shifts</th>\n",
       "      <th>TOI</th>\n",
       "    </tr>\n",
       "  </thead>\n",
       "  <tbody>\n",
       "    <tr>\n",
       "      <th>1</th>\n",
       "      <td>2250000</td>\n",
       "      <td>Cody Ceci</td>\n",
       "      <td>1993-12-21</td>\n",
       "      <td>27</td>\n",
       "      <td>Ottawa</td>\n",
       "      <td>ON</td>\n",
       "      <td>CAN</td>\n",
       "      <td>CAN</td>\n",
       "      <td>74</td>\n",
       "      <td>207</td>\n",
       "      <td>...</td>\n",
       "      <td>OTT</td>\n",
       "      <td>79</td>\n",
       "      <td>2</td>\n",
       "      <td>15</td>\n",
       "      <td>17</td>\n",
       "      <td>-11</td>\n",
       "      <td>-10.4</td>\n",
       "      <td>20</td>\n",
       "      <td>2418</td>\n",
       "      <td>109992</td>\n",
       "    </tr>\n",
       "    <tr>\n",
       "      <th>2</th>\n",
       "      <td>8000000</td>\n",
       "      <td>Kyle Okposo</td>\n",
       "      <td>1988-04-16</td>\n",
       "      <td>33</td>\n",
       "      <td>St. Paul</td>\n",
       "      <td>MN</td>\n",
       "      <td>USA</td>\n",
       "      <td>USA</td>\n",
       "      <td>72</td>\n",
       "      <td>218</td>\n",
       "      <td>...</td>\n",
       "      <td>BUF</td>\n",
       "      <td>65</td>\n",
       "      <td>19</td>\n",
       "      <td>26</td>\n",
       "      <td>45</td>\n",
       "      <td>-7</td>\n",
       "      <td>-1.4</td>\n",
       "      <td>24</td>\n",
       "      <td>1443</td>\n",
       "      <td>73983</td>\n",
       "    </tr>\n",
       "    <tr>\n",
       "      <th>3</th>\n",
       "      <td>3500000</td>\n",
       "      <td>Erik Gudbranson</td>\n",
       "      <td>1992-01-07</td>\n",
       "      <td>29</td>\n",
       "      <td>Ottawa</td>\n",
       "      <td>ON</td>\n",
       "      <td>CAN</td>\n",
       "      <td>CAN</td>\n",
       "      <td>77</td>\n",
       "      <td>220</td>\n",
       "      <td>...</td>\n",
       "      <td>VAN</td>\n",
       "      <td>30</td>\n",
       "      <td>1</td>\n",
       "      <td>5</td>\n",
       "      <td>6</td>\n",
       "      <td>-14</td>\n",
       "      <td>-5.3</td>\n",
       "      <td>18</td>\n",
       "      <td>765</td>\n",
       "      <td>36603</td>\n",
       "    </tr>\n",
       "    <tr>\n",
       "      <th>4</th>\n",
       "      <td>1750000</td>\n",
       "      <td>Tom Wilson</td>\n",
       "      <td>1994-03-29</td>\n",
       "      <td>27</td>\n",
       "      <td>Toronto</td>\n",
       "      <td>ON</td>\n",
       "      <td>CAN</td>\n",
       "      <td>CAN</td>\n",
       "      <td>76</td>\n",
       "      <td>217</td>\n",
       "      <td>...</td>\n",
       "      <td>WSH</td>\n",
       "      <td>82</td>\n",
       "      <td>7</td>\n",
       "      <td>12</td>\n",
       "      <td>19</td>\n",
       "      <td>9</td>\n",
       "      <td>4.1</td>\n",
       "      <td>133</td>\n",
       "      <td>1453</td>\n",
       "      <td>63592</td>\n",
       "    </tr>\n",
       "    <tr>\n",
       "      <th>5</th>\n",
       "      <td>1500000</td>\n",
       "      <td>Brian Campbell</td>\n",
       "      <td>1979-05-23</td>\n",
       "      <td>42</td>\n",
       "      <td>Strathroy</td>\n",
       "      <td>ON</td>\n",
       "      <td>CAN</td>\n",
       "      <td>CAN</td>\n",
       "      <td>70</td>\n",
       "      <td>192</td>\n",
       "      <td>...</td>\n",
       "      <td>CHI</td>\n",
       "      <td>80</td>\n",
       "      <td>5</td>\n",
       "      <td>12</td>\n",
       "      <td>17</td>\n",
       "      <td>12</td>\n",
       "      <td>0.7</td>\n",
       "      <td>24</td>\n",
       "      <td>1896</td>\n",
       "      <td>88462</td>\n",
       "    </tr>\n",
       "  </tbody>\n",
       "</table>\n",
       "<p>5 rows × 25 columns</p>\n",
       "</div>"
      ],
      "text/plain": [
       "    Salary             Name        Born  Age       City Pr/St Cntry  Nat  Ht  \\\n",
       "1  2250000        Cody Ceci  1993-12-21   27     Ottawa    ON   CAN  CAN  74   \n",
       "2  8000000      Kyle Okposo  1988-04-16   33   St. Paul    MN   USA  USA  72   \n",
       "3  3500000  Erik Gudbranson  1992-01-07   29     Ottawa    ON   CAN  CAN  77   \n",
       "4  1750000       Tom Wilson  1994-03-29   27    Toronto    ON   CAN  CAN  76   \n",
       "5  1500000   Brian Campbell  1979-05-23   42  Strathroy    ON   CAN  CAN  70   \n",
       "\n",
       "    Wt  ...  Team  GP   G   A PTS +/-  E+/-  PIM  Shifts     TOI  \n",
       "1  207  ...   OTT  79   2  15  17 -11 -10.4   20    2418  109992  \n",
       "2  218  ...   BUF  65  19  26  45  -7  -1.4   24    1443   73983  \n",
       "3  220  ...   VAN  30   1   5   6 -14  -5.3   18     765   36603  \n",
       "4  217  ...   WSH  82   7  12  19   9   4.1  133    1453   63592  \n",
       "5  192  ...   CHI  80   5  12  17  12   0.7   24    1896   88462  \n",
       "\n",
       "[5 rows x 25 columns]"
      ]
     },
     "execution_count": 131,
     "metadata": {},
     "output_type": "execute_result"
    }
   ],
   "source": [
    "df2.head()"
   ]
  },
  {
   "cell_type": "code",
   "execution_count": 140,
   "metadata": {
    "collapsed": true
   },
   "outputs": [],
   "source": [
    "df_numerical = df2.select_dtypes(include='int64')\n",
    "df_categorical = df.select_dtypes(include='object')"
   ]
  },
  {
   "cell_type": "code",
   "execution_count": 141,
   "metadata": {},
   "outputs": [
    {
     "data": {
      "text/html": [
       "<div>\n",
       "<style scoped>\n",
       "    .dataframe tbody tr th:only-of-type {\n",
       "        vertical-align: middle;\n",
       "    }\n",
       "\n",
       "    .dataframe tbody tr th {\n",
       "        vertical-align: top;\n",
       "    }\n",
       "\n",
       "    .dataframe thead th {\n",
       "        text-align: right;\n",
       "    }\n",
       "</style>\n",
       "<table border=\"1\" class=\"dataframe\">\n",
       "  <thead>\n",
       "    <tr style=\"text-align: right;\">\n",
       "      <th></th>\n",
       "      <th>Salary</th>\n",
       "      <th>Age</th>\n",
       "      <th>Ht</th>\n",
       "      <th>Wt</th>\n",
       "      <th>GP</th>\n",
       "      <th>G</th>\n",
       "      <th>A</th>\n",
       "      <th>PTS</th>\n",
       "      <th>+/-</th>\n",
       "      <th>PIM</th>\n",
       "      <th>Shifts</th>\n",
       "      <th>TOI</th>\n",
       "    </tr>\n",
       "  </thead>\n",
       "  <tbody>\n",
       "    <tr>\n",
       "      <th>1</th>\n",
       "      <td>2250000</td>\n",
       "      <td>27</td>\n",
       "      <td>74</td>\n",
       "      <td>207</td>\n",
       "      <td>79</td>\n",
       "      <td>2</td>\n",
       "      <td>15</td>\n",
       "      <td>17</td>\n",
       "      <td>-11</td>\n",
       "      <td>20</td>\n",
       "      <td>2418</td>\n",
       "      <td>109992</td>\n",
       "    </tr>\n",
       "    <tr>\n",
       "      <th>2</th>\n",
       "      <td>8000000</td>\n",
       "      <td>33</td>\n",
       "      <td>72</td>\n",
       "      <td>218</td>\n",
       "      <td>65</td>\n",
       "      <td>19</td>\n",
       "      <td>26</td>\n",
       "      <td>45</td>\n",
       "      <td>-7</td>\n",
       "      <td>24</td>\n",
       "      <td>1443</td>\n",
       "      <td>73983</td>\n",
       "    </tr>\n",
       "    <tr>\n",
       "      <th>3</th>\n",
       "      <td>3500000</td>\n",
       "      <td>29</td>\n",
       "      <td>77</td>\n",
       "      <td>220</td>\n",
       "      <td>30</td>\n",
       "      <td>1</td>\n",
       "      <td>5</td>\n",
       "      <td>6</td>\n",
       "      <td>-14</td>\n",
       "      <td>18</td>\n",
       "      <td>765</td>\n",
       "      <td>36603</td>\n",
       "    </tr>\n",
       "    <tr>\n",
       "      <th>4</th>\n",
       "      <td>1750000</td>\n",
       "      <td>27</td>\n",
       "      <td>76</td>\n",
       "      <td>217</td>\n",
       "      <td>82</td>\n",
       "      <td>7</td>\n",
       "      <td>12</td>\n",
       "      <td>19</td>\n",
       "      <td>9</td>\n",
       "      <td>133</td>\n",
       "      <td>1453</td>\n",
       "      <td>63592</td>\n",
       "    </tr>\n",
       "    <tr>\n",
       "      <th>5</th>\n",
       "      <td>1500000</td>\n",
       "      <td>42</td>\n",
       "      <td>70</td>\n",
       "      <td>192</td>\n",
       "      <td>80</td>\n",
       "      <td>5</td>\n",
       "      <td>12</td>\n",
       "      <td>17</td>\n",
       "      <td>12</td>\n",
       "      <td>24</td>\n",
       "      <td>1896</td>\n",
       "      <td>88462</td>\n",
       "    </tr>\n",
       "    <tr>\n",
       "      <th>...</th>\n",
       "      <td>...</td>\n",
       "      <td>...</td>\n",
       "      <td>...</td>\n",
       "      <td>...</td>\n",
       "      <td>...</td>\n",
       "      <td>...</td>\n",
       "      <td>...</td>\n",
       "      <td>...</td>\n",
       "      <td>...</td>\n",
       "      <td>...</td>\n",
       "      <td>...</td>\n",
       "      <td>...</td>\n",
       "    </tr>\n",
       "    <tr>\n",
       "      <th>607</th>\n",
       "      <td>600000</td>\n",
       "      <td>28</td>\n",
       "      <td>73</td>\n",
       "      <td>201</td>\n",
       "      <td>70</td>\n",
       "      <td>6</td>\n",
       "      <td>11</td>\n",
       "      <td>17</td>\n",
       "      <td>-2</td>\n",
       "      <td>20</td>\n",
       "      <td>1258</td>\n",
       "      <td>53712</td>\n",
       "    </tr>\n",
       "    <tr>\n",
       "      <th>608</th>\n",
       "      <td>9000000</td>\n",
       "      <td>36</td>\n",
       "      <td>74</td>\n",
       "      <td>206</td>\n",
       "      <td>82</td>\n",
       "      <td>9</td>\n",
       "      <td>31</td>\n",
       "      <td>40</td>\n",
       "      <td>34</td>\n",
       "      <td>36</td>\n",
       "      <td>2319</td>\n",
       "      <td>132469</td>\n",
       "    </tr>\n",
       "    <tr>\n",
       "      <th>609</th>\n",
       "      <td>4250000</td>\n",
       "      <td>34</td>\n",
       "      <td>73</td>\n",
       "      <td>205</td>\n",
       "      <td>75</td>\n",
       "      <td>6</td>\n",
       "      <td>22</td>\n",
       "      <td>28</td>\n",
       "      <td>4</td>\n",
       "      <td>35</td>\n",
       "      <td>1982</td>\n",
       "      <td>95555</td>\n",
       "    </tr>\n",
       "    <tr>\n",
       "      <th>610</th>\n",
       "      <td>7000000</td>\n",
       "      <td>38</td>\n",
       "      <td>71</td>\n",
       "      <td>196</td>\n",
       "      <td>78</td>\n",
       "      <td>10</td>\n",
       "      <td>18</td>\n",
       "      <td>28</td>\n",
       "      <td>10</td>\n",
       "      <td>24</td>\n",
       "      <td>1945</td>\n",
       "      <td>78712</td>\n",
       "    </tr>\n",
       "    <tr>\n",
       "      <th>611</th>\n",
       "      <td>925000</td>\n",
       "      <td>28</td>\n",
       "      <td>78</td>\n",
       "      <td>226</td>\n",
       "      <td>81</td>\n",
       "      <td>4</td>\n",
       "      <td>31</td>\n",
       "      <td>35</td>\n",
       "      <td>7</td>\n",
       "      <td>32</td>\n",
       "      <td>2365</td>\n",
       "      <td>103018</td>\n",
       "    </tr>\n",
       "  </tbody>\n",
       "</table>\n",
       "<p>610 rows × 12 columns</p>\n",
       "</div>"
      ],
      "text/plain": [
       "      Salary  Age  Ht   Wt  GP   G   A  PTS  +/-  PIM  Shifts     TOI\n",
       "1    2250000   27  74  207  79   2  15   17  -11   20    2418  109992\n",
       "2    8000000   33  72  218  65  19  26   45   -7   24    1443   73983\n",
       "3    3500000   29  77  220  30   1   5    6  -14   18     765   36603\n",
       "4    1750000   27  76  217  82   7  12   19    9  133    1453   63592\n",
       "5    1500000   42  70  192  80   5  12   17   12   24    1896   88462\n",
       "..       ...  ...  ..  ...  ..  ..  ..  ...  ...  ...     ...     ...\n",
       "607   600000   28  73  201  70   6  11   17   -2   20    1258   53712\n",
       "608  9000000   36  74  206  82   9  31   40   34   36    2319  132469\n",
       "609  4250000   34  73  205  75   6  22   28    4   35    1982   95555\n",
       "610  7000000   38  71  196  78  10  18   28   10   24    1945   78712\n",
       "611   925000   28  78  226  81   4  31   35    7   32    2365  103018\n",
       "\n",
       "[610 rows x 12 columns]"
      ]
     },
     "execution_count": 141,
     "metadata": {},
     "output_type": "execute_result"
    }
   ],
   "source": [
    "df_numerical"
   ]
  },
  {
   "cell_type": "code",
   "execution_count": 142,
   "metadata": {},
   "outputs": [
    {
     "data": {
      "text/html": [
       "<div>\n",
       "<style scoped>\n",
       "    .dataframe tbody tr th:only-of-type {\n",
       "        vertical-align: middle;\n",
       "    }\n",
       "\n",
       "    .dataframe tbody tr th {\n",
       "        vertical-align: top;\n",
       "    }\n",
       "\n",
       "    .dataframe thead th {\n",
       "        text-align: right;\n",
       "    }\n",
       "</style>\n",
       "<table border=\"1\" class=\"dataframe\">\n",
       "  <thead>\n",
       "    <tr style=\"text-align: right;\">\n",
       "      <th></th>\n",
       "      <th>City</th>\n",
       "      <th>Pr/St</th>\n",
       "      <th>Cntry</th>\n",
       "      <th>Nat</th>\n",
       "      <th>Hand</th>\n",
       "      <th>Last Name</th>\n",
       "      <th>First Name</th>\n",
       "      <th>Position</th>\n",
       "      <th>Team</th>\n",
       "      <th>Name</th>\n",
       "      <th>Born</th>\n",
       "    </tr>\n",
       "  </thead>\n",
       "  <tbody>\n",
       "    <tr>\n",
       "      <th>1</th>\n",
       "      <td>Ottawa</td>\n",
       "      <td>ON</td>\n",
       "      <td>CAN</td>\n",
       "      <td>CAN</td>\n",
       "      <td>R</td>\n",
       "      <td>Ceci</td>\n",
       "      <td>Cody</td>\n",
       "      <td>D</td>\n",
       "      <td>OTT</td>\n",
       "      <td>Cody Ceci</td>\n",
       "      <td>1993-12-21</td>\n",
       "    </tr>\n",
       "    <tr>\n",
       "      <th>2</th>\n",
       "      <td>St. Paul</td>\n",
       "      <td>MN</td>\n",
       "      <td>USA</td>\n",
       "      <td>USA</td>\n",
       "      <td>R</td>\n",
       "      <td>Okposo</td>\n",
       "      <td>Kyle</td>\n",
       "      <td>RW</td>\n",
       "      <td>BUF</td>\n",
       "      <td>Kyle Okposo</td>\n",
       "      <td>1988-04-16</td>\n",
       "    </tr>\n",
       "    <tr>\n",
       "      <th>3</th>\n",
       "      <td>Ottawa</td>\n",
       "      <td>ON</td>\n",
       "      <td>CAN</td>\n",
       "      <td>CAN</td>\n",
       "      <td>R</td>\n",
       "      <td>Gudbranson</td>\n",
       "      <td>Erik</td>\n",
       "      <td>D</td>\n",
       "      <td>VAN</td>\n",
       "      <td>Erik Gudbranson</td>\n",
       "      <td>1992-01-07</td>\n",
       "    </tr>\n",
       "    <tr>\n",
       "      <th>4</th>\n",
       "      <td>Toronto</td>\n",
       "      <td>ON</td>\n",
       "      <td>CAN</td>\n",
       "      <td>CAN</td>\n",
       "      <td>R</td>\n",
       "      <td>Wilson</td>\n",
       "      <td>Tom</td>\n",
       "      <td>RW</td>\n",
       "      <td>WSH</td>\n",
       "      <td>Tom Wilson</td>\n",
       "      <td>1994-03-29</td>\n",
       "    </tr>\n",
       "    <tr>\n",
       "      <th>5</th>\n",
       "      <td>Strathroy</td>\n",
       "      <td>ON</td>\n",
       "      <td>CAN</td>\n",
       "      <td>CAN</td>\n",
       "      <td>L</td>\n",
       "      <td>Campbell</td>\n",
       "      <td>Brian</td>\n",
       "      <td>D</td>\n",
       "      <td>CHI</td>\n",
       "      <td>Brian Campbell</td>\n",
       "      <td>1979-05-23</td>\n",
       "    </tr>\n",
       "    <tr>\n",
       "      <th>...</th>\n",
       "      <td>...</td>\n",
       "      <td>...</td>\n",
       "      <td>...</td>\n",
       "      <td>...</td>\n",
       "      <td>...</td>\n",
       "      <td>...</td>\n",
       "      <td>...</td>\n",
       "      <td>...</td>\n",
       "      <td>...</td>\n",
       "      <td>...</td>\n",
       "      <td>...</td>\n",
       "    </tr>\n",
       "    <tr>\n",
       "      <th>607</th>\n",
       "      <td>Denver</td>\n",
       "      <td>CO</td>\n",
       "      <td>USA</td>\n",
       "      <td>USA</td>\n",
       "      <td>R</td>\n",
       "      <td>Shore</td>\n",
       "      <td>Nick</td>\n",
       "      <td>C</td>\n",
       "      <td>L.A</td>\n",
       "      <td>Nick Shore</td>\n",
       "      <td>1992-09-26</td>\n",
       "    </tr>\n",
       "    <tr>\n",
       "      <th>608</th>\n",
       "      <td>Madison</td>\n",
       "      <td>WI</td>\n",
       "      <td>USA</td>\n",
       "      <td>USA</td>\n",
       "      <td>L</td>\n",
       "      <td>Suter</td>\n",
       "      <td>Ryan</td>\n",
       "      <td>D</td>\n",
       "      <td>MIN</td>\n",
       "      <td>Ryan Suter</td>\n",
       "      <td>1985-01-21</td>\n",
       "    </tr>\n",
       "    <tr>\n",
       "      <th>609</th>\n",
       "      <td>Montreal</td>\n",
       "      <td>QC</td>\n",
       "      <td>CAN</td>\n",
       "      <td>CAN</td>\n",
       "      <td>L</td>\n",
       "      <td>Vlasic</td>\n",
       "      <td>Marc-Edouard</td>\n",
       "      <td>D</td>\n",
       "      <td>S.J</td>\n",
       "      <td>Marc-Edouard Vlasic</td>\n",
       "      <td>1987-03-30</td>\n",
       "    </tr>\n",
       "    <tr>\n",
       "      <th>610</th>\n",
       "      <td>Kladno</td>\n",
       "      <td>NaN</td>\n",
       "      <td>CZE</td>\n",
       "      <td>CZE</td>\n",
       "      <td>L</td>\n",
       "      <td>Plekanec</td>\n",
       "      <td>Tomas</td>\n",
       "      <td>C</td>\n",
       "      <td>MTL</td>\n",
       "      <td>Tomas Plekanec</td>\n",
       "      <td>1982-10-31</td>\n",
       "    </tr>\n",
       "    <tr>\n",
       "      <th>611</th>\n",
       "      <td>St. Albert</td>\n",
       "      <td>AB</td>\n",
       "      <td>CAN</td>\n",
       "      <td>CAN</td>\n",
       "      <td>R</td>\n",
       "      <td>Parayko</td>\n",
       "      <td>Colton</td>\n",
       "      <td>D</td>\n",
       "      <td>STL</td>\n",
       "      <td>Colton Parayko</td>\n",
       "      <td>1993-05-12</td>\n",
       "    </tr>\n",
       "  </tbody>\n",
       "</table>\n",
       "<p>610 rows × 11 columns</p>\n",
       "</div>"
      ],
      "text/plain": [
       "           City Pr/St Cntry  Nat Hand   Last Name    First Name Position Team  \\\n",
       "1        Ottawa    ON   CAN  CAN    R        Ceci          Cody        D  OTT   \n",
       "2      St. Paul    MN   USA  USA    R      Okposo          Kyle       RW  BUF   \n",
       "3        Ottawa    ON   CAN  CAN    R  Gudbranson          Erik        D  VAN   \n",
       "4       Toronto    ON   CAN  CAN    R      Wilson           Tom       RW  WSH   \n",
       "5     Strathroy    ON   CAN  CAN    L    Campbell         Brian        D  CHI   \n",
       "..          ...   ...   ...  ...  ...         ...           ...      ...  ...   \n",
       "607      Denver    CO   USA  USA    R       Shore          Nick        C  L.A   \n",
       "608     Madison    WI   USA  USA    L       Suter          Ryan        D  MIN   \n",
       "609    Montreal    QC   CAN  CAN    L      Vlasic  Marc-Edouard        D  S.J   \n",
       "610      Kladno   NaN   CZE  CZE    L    Plekanec         Tomas        C  MTL   \n",
       "611  St. Albert    AB   CAN  CAN    R     Parayko        Colton        D  STL   \n",
       "\n",
       "                    Name        Born  \n",
       "1              Cody Ceci  1993-12-21  \n",
       "2            Kyle Okposo  1988-04-16  \n",
       "3        Erik Gudbranson  1992-01-07  \n",
       "4             Tom Wilson  1994-03-29  \n",
       "5         Brian Campbell  1979-05-23  \n",
       "..                   ...         ...  \n",
       "607           Nick Shore  1992-09-26  \n",
       "608           Ryan Suter  1985-01-21  \n",
       "609  Marc-Edouard Vlasic  1987-03-30  \n",
       "610       Tomas Plekanec  1982-10-31  \n",
       "611       Colton Parayko  1993-05-12  \n",
       "\n",
       "[610 rows x 11 columns]"
      ]
     },
     "execution_count": 142,
     "metadata": {},
     "output_type": "execute_result"
    }
   ],
   "source": [
    "df_categorical"
   ]
  },
  {
   "cell_type": "code",
   "execution_count": 143,
   "metadata": {
    "collapsed": true
   },
   "outputs": [],
   "source": [
    "X = df_numerical.iloc[:,1:]\n",
    "y = df_numerical.iloc[:,0]"
   ]
  },
  {
   "cell_type": "code",
   "execution_count": 144,
   "metadata": {},
   "outputs": [
    {
     "data": {
      "text/plain": [
       "array([[2.45412534e-04, 6.72612129e-04, 1.88149609e-03, ...,\n",
       "        1.81787062e-04, 2.19780558e-02, 9.99756126e-01],\n",
       "       [4.45961084e-04, 9.73006001e-04, 2.94604595e-03, ...,\n",
       "        3.24335334e-04, 1.95006619e-02, 9.99804208e-01],\n",
       "       [7.92095065e-04, 2.10314897e-03, 6.00899705e-03, ...,\n",
       "        4.91645213e-04, 2.08949215e-02, 9.99760540e-01],\n",
       "       ...,\n",
       "       [3.55738402e-04, 7.63791275e-04, 2.14489331e-03, ...,\n",
       "        3.66201296e-04, 2.07374563e-02, 9.99781853e-01],\n",
       "       [4.82623258e-04, 9.01743456e-04, 2.48931996e-03, ...,\n",
       "        3.04814689e-04, 2.47026905e-02, 9.99690577e-01],\n",
       "       [2.71724700e-04, 7.56947378e-04, 2.19320651e-03, ...,\n",
       "        3.10542514e-04, 2.29510327e-02, 9.99733398e-01]])"
      ]
     },
     "execution_count": 144,
     "metadata": {},
     "output_type": "execute_result"
    }
   ],
   "source": [
    "\n",
    "X = preprocessing.normalize(X)\n",
    "X"
   ]
  },
  {
   "cell_type": "code",
   "execution_count": 145,
   "metadata": {
    "collapsed": true
   },
   "outputs": [],
   "source": [
    "X_train, X_test, y_train, y_test = train_test_split(X, y, test_size=0.2, random_state=0)"
   ]
  },
  {
   "cell_type": "code",
   "execution_count": 146,
   "metadata": {},
   "outputs": [
    {
     "name": "stdout",
     "output_type": "stream",
     "text": [
      "27955064.979221348\n",
      "[ 1.09951498e+08 -9.14292488e+05 -1.80446394e+07 -2.56573535e+09\n",
      " -1.20536670e+11 -1.21152209e+11  1.23360613e+11 -5.94456083e+07\n",
      "  3.24758450e+08 -1.50182468e+08 -2.02034122e+07]\n"
     ]
    }
   ],
   "source": [
    "regressor = lm.LinearRegression()  \n",
    "regressor.fit(X_train, y_train)\n",
    "#To retrieve the intercept:\n",
    "print(regressor.intercept_)\n",
    "\n",
    "#For retrieving the slope:\n",
    "print(regressor.coef_)"
   ]
  },
  {
   "cell_type": "code",
   "execution_count": 147,
   "metadata": {},
   "outputs": [
    {
     "data": {
      "text/html": [
       "<div>\n",
       "<style scoped>\n",
       "    .dataframe tbody tr th:only-of-type {\n",
       "        vertical-align: middle;\n",
       "    }\n",
       "\n",
       "    .dataframe tbody tr th {\n",
       "        vertical-align: top;\n",
       "    }\n",
       "\n",
       "    .dataframe thead th {\n",
       "        text-align: right;\n",
       "    }\n",
       "</style>\n",
       "<table border=\"1\" class=\"dataframe\">\n",
       "  <thead>\n",
       "    <tr style=\"text-align: right;\">\n",
       "      <th></th>\n",
       "      <th>Actual</th>\n",
       "      <th>Predicted</th>\n",
       "    </tr>\n",
       "  </thead>\n",
       "  <tbody>\n",
       "    <tr>\n",
       "      <th>579</th>\n",
       "      <td>667500</td>\n",
       "      <td>4.100032e+06</td>\n",
       "    </tr>\n",
       "    <tr>\n",
       "      <th>53</th>\n",
       "      <td>1050000</td>\n",
       "      <td>2.427380e+06</td>\n",
       "    </tr>\n",
       "    <tr>\n",
       "      <th>534</th>\n",
       "      <td>600000</td>\n",
       "      <td>1.315976e+06</td>\n",
       "    </tr>\n",
       "    <tr>\n",
       "      <th>348</th>\n",
       "      <td>5000000</td>\n",
       "      <td>2.453564e+06</td>\n",
       "    </tr>\n",
       "    <tr>\n",
       "      <th>56</th>\n",
       "      <td>4750000</td>\n",
       "      <td>1.823497e+06</td>\n",
       "    </tr>\n",
       "    <tr>\n",
       "      <th>...</th>\n",
       "      <td>...</td>\n",
       "      <td>...</td>\n",
       "    </tr>\n",
       "    <tr>\n",
       "      <th>484</th>\n",
       "      <td>600000</td>\n",
       "      <td>1.177120e+06</td>\n",
       "    </tr>\n",
       "    <tr>\n",
       "      <th>296</th>\n",
       "      <td>1200000</td>\n",
       "      <td>3.493025e+06</td>\n",
       "    </tr>\n",
       "    <tr>\n",
       "      <th>374</th>\n",
       "      <td>6000000</td>\n",
       "      <td>4.160520e+06</td>\n",
       "    </tr>\n",
       "    <tr>\n",
       "      <th>515</th>\n",
       "      <td>832500</td>\n",
       "      <td>2.944527e+06</td>\n",
       "    </tr>\n",
       "    <tr>\n",
       "      <th>166</th>\n",
       "      <td>7000000</td>\n",
       "      <td>4.642183e+06</td>\n",
       "    </tr>\n",
       "  </tbody>\n",
       "</table>\n",
       "<p>122 rows × 2 columns</p>\n",
       "</div>"
      ],
      "text/plain": [
       "      Actual     Predicted\n",
       "579   667500  4.100032e+06\n",
       "53   1050000  2.427380e+06\n",
       "534   600000  1.315976e+06\n",
       "348  5000000  2.453564e+06\n",
       "56   4750000  1.823497e+06\n",
       "..       ...           ...\n",
       "484   600000  1.177120e+06\n",
       "296  1200000  3.493025e+06\n",
       "374  6000000  4.160520e+06\n",
       "515   832500  2.944527e+06\n",
       "166  7000000  4.642183e+06\n",
       "\n",
       "[122 rows x 2 columns]"
      ]
     },
     "execution_count": 147,
     "metadata": {},
     "output_type": "execute_result"
    }
   ],
   "source": [
    "y_pred = regressor.predict(X_test)\n",
    "df3 = pd.DataFrame({'Actual': y_test, 'Predicted': y_pred})\n",
    "df3"
   ]
  },
  {
   "cell_type": "code",
   "execution_count": 149,
   "metadata": {},
   "outputs": [
    {
     "data": {
      "text/plain": [
       "<AxesSubplot:>"
      ]
     },
     "execution_count": 149,
     "metadata": {},
     "output_type": "execute_result"
    },
    {
     "data": {
      "image/png": "[encoded data removed]",
      "text/plain": [
       "<Figure size 1152x720 with 1 Axes>"
      ]
     },
     "metadata": {},
     "output_type": "display_data"
    }
   ],
   "source": [
    "df4 = df3.head(25)\n",
    "df4.plot(kind='bar',figsize=(16,10))"
   ]
  },
  {
   "cell_type": "code",
   "execution_count": 155,
   "metadata": {},
   "outputs": [
    {
     "data": {
      "image/png": "[encoded data removed]",
      "text/plain": [
       "<Figure size 640x480 with 1 Axes>"
      ]
     },
     "metadata": {},
     "output_type": "display_data"
    }
   ],
   "source": [
    "plt.scatter(y_pred, y_test)\n",
    "plt.show()"
   ]
  },
  {
   "cell_type": "code",
   "execution_count": 165,
   "metadata": {},
   "outputs": [
    {
     "name": "stderr",
     "output_type": "stream",
     "text": [
      "/anaconda/lib/python3.6/site-packages/seaborn/_decorators.py:43: FutureWarning: Pass the following variables as keyword args: x, y. From version 0.12, the only valid positional argument will be `data`, and passing other arguments without an explicit keyword will result in an error or misinterpretation.\n",
      "  FutureWarning\n"
     ]
    },
    {
     "data": {
      "image/png": "[encoded data removed]",
      "text/plain": [
       "<Figure size 640x480 with 1 Axes>"
      ]
     },
     "metadata": {},
     "output_type": "display_data"
    }
   ],
   "source": [
    "sns.regplot(y_pred, y_test, color='gray')\n",
    "plt.show()"
   ]
  },
  {
   "cell_type": "code",
   "execution_count": 166,
   "metadata": {},
   "outputs": [
    {
     "data": {
      "text/plain": [
       "<seaborn.axisgrid.FacetGrid at 0x13ae3f9e8>"
      ]
     },
     "execution_count": 166,
     "metadata": {},
     "output_type": "execute_result"
    },
    {
     "data": {
      "image/png": "[encoded data removed]",
      "text/plain": [
       "<Figure size 500x500 with 1 Axes>"
      ]
     },
     "metadata": {},
     "output_type": "display_data"
    }
   ],
   "source": [
    "sns.displot(y_test-y_pred)"
   ]
  },
  {
   "cell_type": "code",
   "execution_count": null,
   "metadata": {},
   "outputs": [],
   "source": []
  },
  {
   "cell_type": "code",
   "execution_count": 167,
   "metadata": {},
   "outputs": [
    {
     "data": {
      "text/plain": [
       "<matplotlib.collections.PathCollection at 0x13abad5c0>"
      ]
     },
     "execution_count": 167,
     "metadata": {},
     "output_type": "execute_result"
    },
    {
     "data": {
      "image/png": "[encoded data removed]",
      "text/plain": [
       "<Figure size 640x480 with 1 Axes>"
      ]
     },
     "metadata": {},
     "output_type": "display_data"
    }
   ],
   "source": [
    "plt.scatter('Age','Salary', data=df2, color='red', linewidth=2)"
   ]
  },
  {
   "cell_type": "code",
   "execution_count": 168,
   "metadata": {},
   "outputs": [
    {
     "data": {
      "text/plain": [
       "<matplotlib.collections.PathCollection at 0x137ce6f28>"
      ]
     },
     "execution_count": 168,
     "metadata": {},
     "output_type": "execute_result"
    },
    {
     "data": {
      "image/png": "[encoded data removed]",
      "text/plain": [
       "<Figure size 640x480 with 1 Axes>"
      ]
     },
     "metadata": {},
     "output_type": "display_data"
    }
   ],
   "source": [
    "plt.scatter('G','Salary', data=df2, color='red', linewidth=2)"
   ]
  },
  {
   "cell_type": "code",
   "execution_count": 169,
   "metadata": {},
   "outputs": [
    {
     "data": {
      "text/plain": [
       "<matplotlib.collections.PathCollection at 0x1377547b8>"
      ]
     },
     "execution_count": 169,
     "metadata": {},
     "output_type": "execute_result"
    },
    {
     "data": {
      "image/png": "[encoded data removed]",
      "text/plain": [
       "<Figure size 640x480 with 1 Axes>"
      ]
     },
     "metadata": {},
     "output_type": "display_data"
    }
   ],
   "source": [
    "plt.scatter('PTS','Salary', data=df2, color='red', linewidth=2)"
   ]
  },
  {
   "cell_type": "code",
   "execution_count": 170,
   "metadata": {},
   "outputs": [
    {
     "data": {
      "text/plain": [
       "<matplotlib.collections.PathCollection at 0x1376abf28>"
      ]
     },
     "execution_count": 170,
     "metadata": {},
     "output_type": "execute_result"
    },
    {
     "data": {
      "image/png": "[encoded data removed]",
      "text/plain": [
       "<Figure size 640x480 with 1 Axes>"
      ]
     },
     "metadata": {},
     "output_type": "display_data"
    }
   ],
   "source": [
    "plt.scatter('TOI','Salary', data=df2, color='red', linewidth=2)"
   ]
  },
  {
   "cell_type": "code",
   "execution_count": 171,
   "metadata": {},
   "outputs": [
    {
     "data": {
      "text/plain": [
       "<matplotlib.collections.PathCollection at 0x13ae7d4a8>"
      ]
     },
     "execution_count": 171,
     "metadata": {},
     "output_type": "execute_result"
    },
    {
     "data": {
      "image/png": "[encoded data removed]",
      "text/plain": [
       "<Figure size 640x480 with 1 Axes>"
      ]
     },
     "metadata": {},
     "output_type": "display_data"
    }
   ],
   "source": [
    "plt.scatter('+/-','Salary', data=df2, color='red', linewidth=2)"
   ]
  },
  {
   "cell_type": "code",
   "execution_count": 172,
   "metadata": {},
   "outputs": [
    {
     "ename": "ValueError",
     "evalue": "'c' argument must be a color, a sequence of colors, or a sequence of numbers, not 1       D\n2      RW\n3       D\n4      RW\n5       D\n       ..\n607     C\n608     D\n609     D\n610     C\n611     D\nName: Position, Length: 610, dtype: object",
     "output_type": "error",
     "traceback": [
      "\u001b[0;31m---------------------------------------------------------------------------\u001b[0m",
      "\u001b[0;31mValueError\u001b[0m                                Traceback (most recent call last)",
      "\u001b[0;32m/anaconda/lib/python3.6/site-packages/matplotlib/axes/_axes.py\u001b[0m in \u001b[0;36m_parse_scatter_color_args\u001b[0;34m(c, edgecolors, kwargs, xsize, get_next_color_func)\u001b[0m\n\u001b[1;32m   4290\u001b[0m             \u001b[0;32mtry\u001b[0m\u001b[0;34m:\u001b[0m  \u001b[0;31m# Is 'c' acceptable as PathCollection facecolors?\u001b[0m\u001b[0;34m\u001b[0m\u001b[0m\n\u001b[0;32m-> 4291\u001b[0;31m                 \u001b[0mcolors\u001b[0m \u001b[0;34m=\u001b[0m \u001b[0mmcolors\u001b[0m\u001b[0;34m.\u001b[0m\u001b[0mto_rgba_array\u001b[0m\u001b[0;34m(\u001b[0m\u001b[0mc\u001b[0m\u001b[0;34m)\u001b[0m\u001b[0;34m\u001b[0m\u001b[0m\n\u001b[0m\u001b[1;32m   4292\u001b[0m             \u001b[0;32mexcept\u001b[0m \u001b[0;34m(\u001b[0m\u001b[0mTypeError\u001b[0m\u001b[0;34m,\u001b[0m \u001b[0mValueError\u001b[0m\u001b[0;34m)\u001b[0m \u001b[0;32mas\u001b[0m \u001b[0merr\u001b[0m\u001b[0;34m:\u001b[0m\u001b[0;34m\u001b[0m\u001b[0m\n",
      "\u001b[0;32m/anaconda/lib/python3.6/site-packages/matplotlib/colors.py\u001b[0m in \u001b[0;36mto_rgba_array\u001b[0;34m(c, alpha)\u001b[0m\n\u001b[1;32m    340\u001b[0m     \u001b[0;32melse\u001b[0m\u001b[0;34m:\u001b[0m\u001b[0;34m\u001b[0m\u001b[0m\n\u001b[0;32m--> 341\u001b[0;31m         \u001b[0;32mreturn\u001b[0m \u001b[0mnp\u001b[0m\u001b[0;34m.\u001b[0m\u001b[0marray\u001b[0m\u001b[0;34m(\u001b[0m\u001b[0;34m[\u001b[0m\u001b[0mto_rgba\u001b[0m\u001b[0;34m(\u001b[0m\u001b[0mcc\u001b[0m\u001b[0;34m,\u001b[0m \u001b[0malpha\u001b[0m\u001b[0;34m)\u001b[0m \u001b[0;32mfor\u001b[0m \u001b[0mcc\u001b[0m \u001b[0;32min\u001b[0m \u001b[0mc\u001b[0m\u001b[0;34m]\u001b[0m\u001b[0;34m)\u001b[0m\u001b[0;34m\u001b[0m\u001b[0m\n\u001b[0m\u001b[1;32m    342\u001b[0m \u001b[0;34m\u001b[0m\u001b[0m\n",
      "\u001b[0;32m/anaconda/lib/python3.6/site-packages/matplotlib/colors.py\u001b[0m in \u001b[0;36m<listcomp>\u001b[0;34m(.0)\u001b[0m\n\u001b[1;32m    340\u001b[0m     \u001b[0;32melse\u001b[0m\u001b[0;34m:\u001b[0m\u001b[0;34m\u001b[0m\u001b[0m\n\u001b[0;32m--> 341\u001b[0;31m         \u001b[0;32mreturn\u001b[0m \u001b[0mnp\u001b[0m\u001b[0;34m.\u001b[0m\u001b[0marray\u001b[0m\u001b[0;34m(\u001b[0m\u001b[0;34m[\u001b[0m\u001b[0mto_rgba\u001b[0m\u001b[0;34m(\u001b[0m\u001b[0mcc\u001b[0m\u001b[0;34m,\u001b[0m \u001b[0malpha\u001b[0m\u001b[0;34m)\u001b[0m \u001b[0;32mfor\u001b[0m \u001b[0mcc\u001b[0m \u001b[0;32min\u001b[0m \u001b[0mc\u001b[0m\u001b[0;34m]\u001b[0m\u001b[0;34m)\u001b[0m\u001b[0;34m\u001b[0m\u001b[0m\n\u001b[0m\u001b[1;32m    342\u001b[0m \u001b[0;34m\u001b[0m\u001b[0m\n",
      "\u001b[0;32m/anaconda/lib/python3.6/site-packages/matplotlib/colors.py\u001b[0m in \u001b[0;36mto_rgba\u001b[0;34m(c, alpha)\u001b[0m\n\u001b[1;32m    188\u001b[0m     \u001b[0;32mif\u001b[0m \u001b[0mrgba\u001b[0m \u001b[0;32mis\u001b[0m \u001b[0;32mNone\u001b[0m\u001b[0;34m:\u001b[0m  \u001b[0;31m# Suppress exception chaining of cache lookup failure.\u001b[0m\u001b[0;34m\u001b[0m\u001b[0m\n\u001b[0;32m--> 189\u001b[0;31m         \u001b[0mrgba\u001b[0m \u001b[0;34m=\u001b[0m \u001b[0m_to_rgba_no_colorcycle\u001b[0m\u001b[0;34m(\u001b[0m\u001b[0mc\u001b[0m\u001b[0;34m,\u001b[0m \u001b[0malpha\u001b[0m\u001b[0;34m)\u001b[0m\u001b[0;34m\u001b[0m\u001b[0m\n\u001b[0m\u001b[1;32m    190\u001b[0m         \u001b[0;32mtry\u001b[0m\u001b[0;34m:\u001b[0m\u001b[0;34m\u001b[0m\u001b[0m\n",
      "\u001b[0;32m/anaconda/lib/python3.6/site-packages/matplotlib/colors.py\u001b[0m in \u001b[0;36m_to_rgba_no_colorcycle\u001b[0;34m(c, alpha)\u001b[0m\n\u001b[1;32m    259\u001b[0m             \u001b[0;32mreturn\u001b[0m \u001b[0mc\u001b[0m\u001b[0;34m,\u001b[0m \u001b[0mc\u001b[0m\u001b[0;34m,\u001b[0m \u001b[0mc\u001b[0m\u001b[0;34m,\u001b[0m \u001b[0malpha\u001b[0m \u001b[0;32mif\u001b[0m \u001b[0malpha\u001b[0m \u001b[0;32mis\u001b[0m \u001b[0;32mnot\u001b[0m \u001b[0;32mNone\u001b[0m \u001b[0;32melse\u001b[0m \u001b[0;36m1.\u001b[0m\u001b[0;34m\u001b[0m\u001b[0m\n\u001b[0;32m--> 260\u001b[0;31m         \u001b[0;32mraise\u001b[0m \u001b[0mValueError\u001b[0m\u001b[0;34m(\u001b[0m\u001b[0;34mf\"Invalid RGBA argument: {orig_c!r}\"\u001b[0m\u001b[0;34m)\u001b[0m\u001b[0;34m\u001b[0m\u001b[0m\n\u001b[0m\u001b[1;32m    261\u001b[0m     \u001b[0;31m# tuple color.\u001b[0m\u001b[0;34m\u001b[0m\u001b[0;34m\u001b[0m\u001b[0m\n",
      "\u001b[0;31mValueError\u001b[0m: Invalid RGBA argument: 'D'",
      "\nThe above exception was the direct cause of the following exception:\n",
      "\u001b[0;31mValueError\u001b[0m                                Traceback (most recent call last)",
      "\u001b[0;32m<ipython-input-172-535cfa2c84a2>\u001b[0m in \u001b[0;36m<module>\u001b[0;34m()\u001b[0m\n\u001b[0;32m----> 1\u001b[0;31m \u001b[0mplt\u001b[0m\u001b[0;34m.\u001b[0m\u001b[0mscatter\u001b[0m\u001b[0;34m(\u001b[0m\u001b[0;34m'G'\u001b[0m\u001b[0;34m,\u001b[0m\u001b[0;34m'Salary'\u001b[0m\u001b[0;34m,\u001b[0m \u001b[0mdata\u001b[0m\u001b[0;34m=\u001b[0m\u001b[0mdf2\u001b[0m\u001b[0;34m,\u001b[0m \u001b[0mc\u001b[0m\u001b[0;34m=\u001b[0m\u001b[0;34m'Position'\u001b[0m\u001b[0;34m)\u001b[0m\u001b[0;34m\u001b[0m\u001b[0m\n\u001b[0m",
      "\u001b[0;32m/anaconda/lib/python3.6/site-packages/matplotlib/pyplot.py\u001b[0m in \u001b[0;36mscatter\u001b[0;34m(x, y, s, c, marker, cmap, norm, vmin, vmax, alpha, linewidths, verts, edgecolors, plotnonfinite, data, **kwargs)\u001b[0m\n\u001b[1;32m   2893\u001b[0m         \u001b[0mverts\u001b[0m\u001b[0;34m=\u001b[0m\u001b[0mverts\u001b[0m\u001b[0;34m,\u001b[0m \u001b[0medgecolors\u001b[0m\u001b[0;34m=\u001b[0m\u001b[0medgecolors\u001b[0m\u001b[0;34m,\u001b[0m\u001b[0;34m\u001b[0m\u001b[0m\n\u001b[1;32m   2894\u001b[0m         \u001b[0mplotnonfinite\u001b[0m\u001b[0;34m=\u001b[0m\u001b[0mplotnonfinite\u001b[0m\u001b[0;34m,\u001b[0m\u001b[0;34m\u001b[0m\u001b[0m\n\u001b[0;32m-> 2895\u001b[0;31m         **({\"data\": data} if data is not None else {}), **kwargs)\n\u001b[0m\u001b[1;32m   2896\u001b[0m     \u001b[0msci\u001b[0m\u001b[0;34m(\u001b[0m\u001b[0m__ret\u001b[0m\u001b[0;34m)\u001b[0m\u001b[0;34m\u001b[0m\u001b[0m\n\u001b[1;32m   2897\u001b[0m     \u001b[0;32mreturn\u001b[0m \u001b[0m__ret\u001b[0m\u001b[0;34m\u001b[0m\u001b[0m\n",
      "\u001b[0;32m/anaconda/lib/python3.6/site-packages/matplotlib/__init__.py\u001b[0m in \u001b[0;36minner\u001b[0;34m(ax, data, *args, **kwargs)\u001b[0m\n\u001b[1;32m   1471\u001b[0m                 args_and_kwargs.get(label_namer), auto_label)\n\u001b[1;32m   1472\u001b[0m \u001b[0;34m\u001b[0m\u001b[0m\n\u001b[0;32m-> 1473\u001b[0;31m         \u001b[0;32mreturn\u001b[0m \u001b[0mfunc\u001b[0m\u001b[0;34m(\u001b[0m\u001b[0;34m*\u001b[0m\u001b[0mnew_args\u001b[0m\u001b[0;34m,\u001b[0m \u001b[0;34m**\u001b[0m\u001b[0mnew_kwargs\u001b[0m\u001b[0;34m)\u001b[0m\u001b[0;34m\u001b[0m\u001b[0m\n\u001b[0m\u001b[1;32m   1474\u001b[0m \u001b[0;34m\u001b[0m\u001b[0m\n\u001b[1;32m   1475\u001b[0m     \u001b[0minner\u001b[0m\u001b[0;34m.\u001b[0m\u001b[0m__doc__\u001b[0m \u001b[0;34m=\u001b[0m \u001b[0m_add_data_doc\u001b[0m\u001b[0;34m(\u001b[0m\u001b[0minner\u001b[0m\u001b[0;34m.\u001b[0m\u001b[0m__doc__\u001b[0m\u001b[0;34m,\u001b[0m \u001b[0mreplace_names\u001b[0m\u001b[0;34m)\u001b[0m\u001b[0;34m\u001b[0m\u001b[0m\n",
      "\u001b[0;32m/anaconda/lib/python3.6/site-packages/matplotlib/cbook/deprecation.py\u001b[0m in \u001b[0;36mwrapper\u001b[0;34m(*inner_args, **inner_kwargs)\u001b[0m\n\u001b[1;32m    409\u001b[0m                          \u001b[0;32melse\u001b[0m \u001b[0mdeprecation_addendum\u001b[0m\u001b[0;34m,\u001b[0m\u001b[0;34m\u001b[0m\u001b[0m\n\u001b[1;32m    410\u001b[0m                 **kwargs)\n\u001b[0;32m--> 411\u001b[0;31m         \u001b[0;32mreturn\u001b[0m \u001b[0mfunc\u001b[0m\u001b[0;34m(\u001b[0m\u001b[0;34m*\u001b[0m\u001b[0minner_args\u001b[0m\u001b[0;34m,\u001b[0m \u001b[0;34m**\u001b[0m\u001b[0minner_kwargs\u001b[0m\u001b[0;34m)\u001b[0m\u001b[0;34m\u001b[0m\u001b[0m\n\u001b[0m\u001b[1;32m    412\u001b[0m \u001b[0;34m\u001b[0m\u001b[0m\n\u001b[1;32m    413\u001b[0m     \u001b[0;32mreturn\u001b[0m \u001b[0mwrapper\u001b[0m\u001b[0;34m\u001b[0m\u001b[0m\n",
      "\u001b[0;32m/anaconda/lib/python3.6/site-packages/matplotlib/axes/_axes.py\u001b[0m in \u001b[0;36mscatter\u001b[0;34m(self, x, y, s, c, marker, cmap, norm, vmin, vmax, alpha, linewidths, verts, edgecolors, plotnonfinite, **kwargs)\u001b[0m\n\u001b[1;32m   4451\u001b[0m             self._parse_scatter_color_args(\n\u001b[1;32m   4452\u001b[0m                 \u001b[0mc\u001b[0m\u001b[0;34m,\u001b[0m \u001b[0medgecolors\u001b[0m\u001b[0;34m,\u001b[0m \u001b[0mkwargs\u001b[0m\u001b[0;34m,\u001b[0m \u001b[0mx\u001b[0m\u001b[0;34m.\u001b[0m\u001b[0msize\u001b[0m\u001b[0;34m,\u001b[0m\u001b[0;34m\u001b[0m\u001b[0m\n\u001b[0;32m-> 4453\u001b[0;31m                 get_next_color_func=self._get_patches_for_fill.get_next_color)\n\u001b[0m\u001b[1;32m   4454\u001b[0m \u001b[0;34m\u001b[0m\u001b[0m\n\u001b[1;32m   4455\u001b[0m         \u001b[0;32mif\u001b[0m \u001b[0mplotnonfinite\u001b[0m \u001b[0;32mand\u001b[0m \u001b[0mcolors\u001b[0m \u001b[0;32mis\u001b[0m \u001b[0;32mNone\u001b[0m\u001b[0;34m:\u001b[0m\u001b[0;34m\u001b[0m\u001b[0m\n",
      "\u001b[0;32m/anaconda/lib/python3.6/site-packages/matplotlib/axes/_axes.py\u001b[0m in \u001b[0;36m_parse_scatter_color_args\u001b[0;34m(c, edgecolors, kwargs, xsize, get_next_color_func)\u001b[0m\n\u001b[1;32m   4300\u001b[0m                     raise ValueError(\n\u001b[1;32m   4301\u001b[0m                         \u001b[0;34mf\"'c' argument must be a color, a sequence of colors, \"\u001b[0m\u001b[0;34m\u001b[0m\u001b[0m\n\u001b[0;32m-> 4302\u001b[0;31m                         f\"or a sequence of numbers, not {c}\") from err\n\u001b[0m\u001b[1;32m   4303\u001b[0m             \u001b[0;32melse\u001b[0m\u001b[0;34m:\u001b[0m\u001b[0;34m\u001b[0m\u001b[0m\n\u001b[1;32m   4304\u001b[0m                 \u001b[0;32mif\u001b[0m \u001b[0mlen\u001b[0m\u001b[0;34m(\u001b[0m\u001b[0mcolors\u001b[0m\u001b[0;34m)\u001b[0m \u001b[0;32mnot\u001b[0m \u001b[0;32min\u001b[0m \u001b[0;34m(\u001b[0m\u001b[0;36m0\u001b[0m\u001b[0;34m,\u001b[0m \u001b[0;36m1\u001b[0m\u001b[0;34m,\u001b[0m \u001b[0mxsize\u001b[0m\u001b[0;34m)\u001b[0m\u001b[0;34m:\u001b[0m\u001b[0;34m\u001b[0m\u001b[0m\n",
      "\u001b[0;31mValueError\u001b[0m: 'c' argument must be a color, a sequence of colors, or a sequence of numbers, not 1       D\n2      RW\n3       D\n4      RW\n5       D\n       ..\n607     C\n608     D\n609     D\n610     C\n611     D\nName: Position, Length: 610, dtype: object"
     ]
    },
    {
     "data": {
      "image/png": "[encoded data removed]",
      "text/plain": [
       "<Figure size 640x480 with 1 Axes>"
      ]
     },
     "metadata": {},
     "output_type": "display_data"
    }
   ],
   "source": [
    "plt.scatter('G','Salary', data=df2, c='Position')"
   ]
  },
  {
   "cell_type": "code",
   "execution_count": 173,
   "metadata": {},
   "outputs": [
    {
     "data": {
      "text/html": [
       "<div>\n",
       "<style scoped>\n",
       "    .dataframe tbody tr th:only-of-type {\n",
       "        vertical-align: middle;\n",
       "    }\n",
       "\n",
       "    .dataframe tbody tr th {\n",
       "        vertical-align: top;\n",
       "    }\n",
       "\n",
       "    .dataframe thead tr th {\n",
       "        text-align: left;\n",
       "    }\n",
       "\n",
       "    .dataframe thead tr:last-of-type th {\n",
       "        text-align: right;\n",
       "    }\n",
       "</style>\n",
       "<table border=\"1\" class=\"dataframe\">\n",
       "  <thead>\n",
       "    <tr>\n",
       "      <th></th>\n",
       "      <th colspan=\"8\" halign=\"left\">Salary</th>\n",
       "      <th colspan=\"2\" halign=\"left\">Age</th>\n",
       "      <th>...</th>\n",
       "      <th colspan=\"2\" halign=\"left\">Shifts</th>\n",
       "      <th colspan=\"8\" halign=\"left\">TOI</th>\n",
       "    </tr>\n",
       "    <tr>\n",
       "      <th></th>\n",
       "      <th>count</th>\n",
       "      <th>mean</th>\n",
       "      <th>std</th>\n",
       "      <th>min</th>\n",
       "      <th>25%</th>\n",
       "      <th>50%</th>\n",
       "      <th>75%</th>\n",
       "      <th>max</th>\n",
       "      <th>count</th>\n",
       "      <th>mean</th>\n",
       "      <th>...</th>\n",
       "      <th>75%</th>\n",
       "      <th>max</th>\n",
       "      <th>count</th>\n",
       "      <th>mean</th>\n",
       "      <th>std</th>\n",
       "      <th>min</th>\n",
       "      <th>25%</th>\n",
       "      <th>50%</th>\n",
       "      <th>75%</th>\n",
       "      <th>max</th>\n",
       "    </tr>\n",
       "    <tr>\n",
       "      <th>Position</th>\n",
       "      <th></th>\n",
       "      <th></th>\n",
       "      <th></th>\n",
       "      <th></th>\n",
       "      <th></th>\n",
       "      <th></th>\n",
       "      <th></th>\n",
       "      <th></th>\n",
       "      <th></th>\n",
       "      <th></th>\n",
       "      <th></th>\n",
       "      <th></th>\n",
       "      <th></th>\n",
       "      <th></th>\n",
       "      <th></th>\n",
       "      <th></th>\n",
       "      <th></th>\n",
       "      <th></th>\n",
       "      <th></th>\n",
       "      <th></th>\n",
       "      <th></th>\n",
       "    </tr>\n",
       "  </thead>\n",
       "  <tbody>\n",
       "    <tr>\n",
       "      <th>C</th>\n",
       "      <td>96.0</td>\n",
       "      <td>2.102387e+06</td>\n",
       "      <td>2.448313e+06</td>\n",
       "      <td>575000.0</td>\n",
       "      <td>663125.0</td>\n",
       "      <td>925000.0</td>\n",
       "      <td>3500000.0</td>\n",
       "      <td>13800000.0</td>\n",
       "      <td>96.0</td>\n",
       "      <td>30.010417</td>\n",
       "      <td>...</td>\n",
       "      <td>1772.00</td>\n",
       "      <td>2056.0</td>\n",
       "      <td>96.0</td>\n",
       "      <td>45277.562500</td>\n",
       "      <td>33736.598853</td>\n",
       "      <td>505.0</td>\n",
       "      <td>6863.50</td>\n",
       "      <td>44681.0</td>\n",
       "      <td>76543.50</td>\n",
       "      <td>97447.0</td>\n",
       "    </tr>\n",
       "    <tr>\n",
       "      <th>C/D</th>\n",
       "      <td>1.0</td>\n",
       "      <td>9.250000e+05</td>\n",
       "      <td>NaN</td>\n",
       "      <td>925000.0</td>\n",
       "      <td>925000.0</td>\n",
       "      <td>925000.0</td>\n",
       "      <td>925000.0</td>\n",
       "      <td>925000.0</td>\n",
       "      <td>1.0</td>\n",
       "      <td>24.000000</td>\n",
       "      <td>...</td>\n",
       "      <td>34.00</td>\n",
       "      <td>34.0</td>\n",
       "      <td>1.0</td>\n",
       "      <td>1645.000000</td>\n",
       "      <td>NaN</td>\n",
       "      <td>1645.0</td>\n",
       "      <td>1645.00</td>\n",
       "      <td>1645.0</td>\n",
       "      <td>1645.00</td>\n",
       "      <td>1645.0</td>\n",
       "    </tr>\n",
       "    <tr>\n",
       "      <th>C/LW</th>\n",
       "      <td>46.0</td>\n",
       "      <td>1.905587e+06</td>\n",
       "      <td>1.754793e+06</td>\n",
       "      <td>575000.0</td>\n",
       "      <td>794375.0</td>\n",
       "      <td>925000.0</td>\n",
       "      <td>2375000.0</td>\n",
       "      <td>6000000.0</td>\n",
       "      <td>46.0</td>\n",
       "      <td>30.565217</td>\n",
       "      <td>...</td>\n",
       "      <td>1530.75</td>\n",
       "      <td>2067.0</td>\n",
       "      <td>46.0</td>\n",
       "      <td>49263.043478</td>\n",
       "      <td>26566.701620</td>\n",
       "      <td>704.0</td>\n",
       "      <td>34473.75</td>\n",
       "      <td>58476.0</td>\n",
       "      <td>67887.75</td>\n",
       "      <td>85898.0</td>\n",
       "    </tr>\n",
       "    <tr>\n",
       "      <th>C/LW/RW</th>\n",
       "      <td>5.0</td>\n",
       "      <td>1.625000e+06</td>\n",
       "      <td>1.468630e+06</td>\n",
       "      <td>900000.0</td>\n",
       "      <td>925000.0</td>\n",
       "      <td>1000000.0</td>\n",
       "      <td>1050000.0</td>\n",
       "      <td>4250000.0</td>\n",
       "      <td>5.0</td>\n",
       "      <td>28.600000</td>\n",
       "      <td>...</td>\n",
       "      <td>685.00</td>\n",
       "      <td>1501.0</td>\n",
       "      <td>5.0</td>\n",
       "      <td>28085.200000</td>\n",
       "      <td>24029.543726</td>\n",
       "      <td>5643.0</td>\n",
       "      <td>12902.00</td>\n",
       "      <td>24361.0</td>\n",
       "      <td>29962.00</td>\n",
       "      <td>67558.0</td>\n",
       "    </tr>\n",
       "    <tr>\n",
       "      <th>C/RW</th>\n",
       "      <td>31.0</td>\n",
       "      <td>2.623952e+06</td>\n",
       "      <td>2.575072e+06</td>\n",
       "      <td>575000.0</td>\n",
       "      <td>816250.0</td>\n",
       "      <td>950000.0</td>\n",
       "      <td>4375000.0</td>\n",
       "      <td>9500000.0</td>\n",
       "      <td>31.0</td>\n",
       "      <td>30.709677</td>\n",
       "      <td>...</td>\n",
       "      <td>1781.50</td>\n",
       "      <td>2258.0</td>\n",
       "      <td>31.0</td>\n",
       "      <td>53318.774194</td>\n",
       "      <td>34793.938691</td>\n",
       "      <td>440.0</td>\n",
       "      <td>22209.50</td>\n",
       "      <td>62152.0</td>\n",
       "      <td>78181.50</td>\n",
       "      <td>104814.0</td>\n",
       "    </tr>\n",
       "    <tr>\n",
       "      <th>C/RW/LW</th>\n",
       "      <td>5.0</td>\n",
       "      <td>1.430000e+06</td>\n",
       "      <td>8.290431e+05</td>\n",
       "      <td>675000.0</td>\n",
       "      <td>925000.0</td>\n",
       "      <td>950000.0</td>\n",
       "      <td>2000000.0</td>\n",
       "      <td>2600000.0</td>\n",
       "      <td>5.0</td>\n",
       "      <td>30.600000</td>\n",
       "      <td>...</td>\n",
       "      <td>1459.00</td>\n",
       "      <td>1567.0</td>\n",
       "      <td>5.0</td>\n",
       "      <td>39109.200000</td>\n",
       "      <td>27081.011368</td>\n",
       "      <td>9551.0</td>\n",
       "      <td>12430.00</td>\n",
       "      <td>45998.0</td>\n",
       "      <td>57343.00</td>\n",
       "      <td>70224.0</td>\n",
       "    </tr>\n",
       "    <tr>\n",
       "      <th>D</th>\n",
       "      <td>201.0</td>\n",
       "      <td>2.410695e+06</td>\n",
       "      <td>2.156402e+06</td>\n",
       "      <td>575000.0</td>\n",
       "      <td>800000.0</td>\n",
       "      <td>1100000.0</td>\n",
       "      <td>4000000.0</td>\n",
       "      <td>12000000.0</td>\n",
       "      <td>201.0</td>\n",
       "      <td>30.970149</td>\n",
       "      <td>...</td>\n",
       "      <td>1971.00</td>\n",
       "      <td>2657.0</td>\n",
       "      <td>201.0</td>\n",
       "      <td>62572.746269</td>\n",
       "      <td>39046.329531</td>\n",
       "      <td>908.0</td>\n",
       "      <td>22592.00</td>\n",
       "      <td>68471.0</td>\n",
       "      <td>95896.00</td>\n",
       "      <td>133550.0</td>\n",
       "    </tr>\n",
       "    <tr>\n",
       "      <th>D/LW</th>\n",
       "      <td>1.0</td>\n",
       "      <td>7.925000e+05</td>\n",
       "      <td>NaN</td>\n",
       "      <td>792500.0</td>\n",
       "      <td>792500.0</td>\n",
       "      <td>792500.0</td>\n",
       "      <td>792500.0</td>\n",
       "      <td>792500.0</td>\n",
       "      <td>1.0</td>\n",
       "      <td>32.000000</td>\n",
       "      <td>...</td>\n",
       "      <td>505.00</td>\n",
       "      <td>505.0</td>\n",
       "      <td>1.0</td>\n",
       "      <td>23405.000000</td>\n",
       "      <td>NaN</td>\n",
       "      <td>23405.0</td>\n",
       "      <td>23405.00</td>\n",
       "      <td>23405.0</td>\n",
       "      <td>23405.00</td>\n",
       "      <td>23405.0</td>\n",
       "    </tr>\n",
       "    <tr>\n",
       "      <th>LW</th>\n",
       "      <td>52.0</td>\n",
       "      <td>2.086721e+06</td>\n",
       "      <td>2.275456e+06</td>\n",
       "      <td>575000.0</td>\n",
       "      <td>725000.0</td>\n",
       "      <td>925000.0</td>\n",
       "      <td>2575000.0</td>\n",
       "      <td>9000000.0</td>\n",
       "      <td>52.0</td>\n",
       "      <td>29.615385</td>\n",
       "      <td>...</td>\n",
       "      <td>1462.75</td>\n",
       "      <td>2085.0</td>\n",
       "      <td>52.0</td>\n",
       "      <td>39600.942308</td>\n",
       "      <td>30091.452838</td>\n",
       "      <td>282.0</td>\n",
       "      <td>9956.50</td>\n",
       "      <td>42405.5</td>\n",
       "      <td>64940.25</td>\n",
       "      <td>90456.0</td>\n",
       "    </tr>\n",
       "    <tr>\n",
       "      <th>LW/C</th>\n",
       "      <td>34.0</td>\n",
       "      <td>1.996176e+06</td>\n",
       "      <td>1.957469e+06</td>\n",
       "      <td>575000.0</td>\n",
       "      <td>717500.0</td>\n",
       "      <td>900000.0</td>\n",
       "      <td>2631250.0</td>\n",
       "      <td>6500000.0</td>\n",
       "      <td>34.0</td>\n",
       "      <td>30.441176</td>\n",
       "      <td>...</td>\n",
       "      <td>1617.25</td>\n",
       "      <td>2047.0</td>\n",
       "      <td>34.0</td>\n",
       "      <td>47021.323529</td>\n",
       "      <td>28154.244540</td>\n",
       "      <td>483.0</td>\n",
       "      <td>22982.25</td>\n",
       "      <td>44512.5</td>\n",
       "      <td>75501.00</td>\n",
       "      <td>93295.0</td>\n",
       "    </tr>\n",
       "    <tr>\n",
       "      <th>LW/C/RW</th>\n",
       "      <td>6.0</td>\n",
       "      <td>2.945688e+06</td>\n",
       "      <td>1.837751e+06</td>\n",
       "      <td>874125.0</td>\n",
       "      <td>1662500.0</td>\n",
       "      <td>2925000.0</td>\n",
       "      <td>3512500.0</td>\n",
       "      <td>6000000.0</td>\n",
       "      <td>6.0</td>\n",
       "      <td>30.833333</td>\n",
       "      <td>...</td>\n",
       "      <td>1874.50</td>\n",
       "      <td>1922.0</td>\n",
       "      <td>6.0</td>\n",
       "      <td>64790.333333</td>\n",
       "      <td>22927.071812</td>\n",
       "      <td>32672.0</td>\n",
       "      <td>47765.50</td>\n",
       "      <td>73853.5</td>\n",
       "      <td>81680.50</td>\n",
       "      <td>85004.0</td>\n",
       "    </tr>\n",
       "    <tr>\n",
       "      <th>LW/RW</th>\n",
       "      <td>26.0</td>\n",
       "      <td>2.506442e+06</td>\n",
       "      <td>2.217585e+06</td>\n",
       "      <td>600000.0</td>\n",
       "      <td>825000.0</td>\n",
       "      <td>1800000.0</td>\n",
       "      <td>3375000.0</td>\n",
       "      <td>10000000.0</td>\n",
       "      <td>26.0</td>\n",
       "      <td>32.538462</td>\n",
       "      <td>...</td>\n",
       "      <td>1586.50</td>\n",
       "      <td>2019.0</td>\n",
       "      <td>26.0</td>\n",
       "      <td>49093.269231</td>\n",
       "      <td>28369.708353</td>\n",
       "      <td>1585.0</td>\n",
       "      <td>27506.75</td>\n",
       "      <td>55904.5</td>\n",
       "      <td>69209.75</td>\n",
       "      <td>90361.0</td>\n",
       "    </tr>\n",
       "    <tr>\n",
       "      <th>LW/RW/C</th>\n",
       "      <td>2.0</td>\n",
       "      <td>2.375000e+06</td>\n",
       "      <td>2.298097e+06</td>\n",
       "      <td>750000.0</td>\n",
       "      <td>1562500.0</td>\n",
       "      <td>2375000.0</td>\n",
       "      <td>3187500.0</td>\n",
       "      <td>4000000.0</td>\n",
       "      <td>2.0</td>\n",
       "      <td>33.500000</td>\n",
       "      <td>...</td>\n",
       "      <td>1589.00</td>\n",
       "      <td>1598.0</td>\n",
       "      <td>2.0</td>\n",
       "      <td>71003.000000</td>\n",
       "      <td>1523.108007</td>\n",
       "      <td>69926.0</td>\n",
       "      <td>70464.50</td>\n",
       "      <td>71003.0</td>\n",
       "      <td>71541.50</td>\n",
       "      <td>72080.0</td>\n",
       "    </tr>\n",
       "    <tr>\n",
       "      <th>RW</th>\n",
       "      <td>64.0</td>\n",
       "      <td>2.150938e+06</td>\n",
       "      <td>2.172271e+06</td>\n",
       "      <td>575000.0</td>\n",
       "      <td>698125.0</td>\n",
       "      <td>925000.0</td>\n",
       "      <td>3500000.0</td>\n",
       "      <td>10000000.0</td>\n",
       "      <td>64.0</td>\n",
       "      <td>30.734375</td>\n",
       "      <td>...</td>\n",
       "      <td>1556.00</td>\n",
       "      <td>2150.0</td>\n",
       "      <td>64.0</td>\n",
       "      <td>41114.578125</td>\n",
       "      <td>31903.002608</td>\n",
       "      <td>1000.0</td>\n",
       "      <td>8574.75</td>\n",
       "      <td>41236.0</td>\n",
       "      <td>73872.75</td>\n",
       "      <td>99099.0</td>\n",
       "    </tr>\n",
       "    <tr>\n",
       "      <th>RW/C</th>\n",
       "      <td>15.0</td>\n",
       "      <td>3.037333e+06</td>\n",
       "      <td>4.115230e+06</td>\n",
       "      <td>575000.0</td>\n",
       "      <td>600000.0</td>\n",
       "      <td>675000.0</td>\n",
       "      <td>4137500.0</td>\n",
       "      <td>13800000.0</td>\n",
       "      <td>15.0</td>\n",
       "      <td>32.800000</td>\n",
       "      <td>...</td>\n",
       "      <td>1658.00</td>\n",
       "      <td>1910.0</td>\n",
       "      <td>15.0</td>\n",
       "      <td>40073.933333</td>\n",
       "      <td>36300.344011</td>\n",
       "      <td>291.0</td>\n",
       "      <td>10063.50</td>\n",
       "      <td>27519.0</td>\n",
       "      <td>75310.00</td>\n",
       "      <td>105263.0</td>\n",
       "    </tr>\n",
       "    <tr>\n",
       "      <th>RW/C/LW</th>\n",
       "      <td>4.0</td>\n",
       "      <td>3.375000e+06</td>\n",
       "      <td>1.479020e+06</td>\n",
       "      <td>1250000.0</td>\n",
       "      <td>2937500.0</td>\n",
       "      <td>3875000.0</td>\n",
       "      <td>4312500.0</td>\n",
       "      <td>4500000.0</td>\n",
       "      <td>4.0</td>\n",
       "      <td>30.250000</td>\n",
       "      <td>...</td>\n",
       "      <td>1813.00</td>\n",
       "      <td>1948.0</td>\n",
       "      <td>4.0</td>\n",
       "      <td>73455.750000</td>\n",
       "      <td>20639.060967</td>\n",
       "      <td>42950.0</td>\n",
       "      <td>70364.00</td>\n",
       "      <td>81388.5</td>\n",
       "      <td>84480.25</td>\n",
       "      <td>88096.0</td>\n",
       "    </tr>\n",
       "    <tr>\n",
       "      <th>RW/LW</th>\n",
       "      <td>18.0</td>\n",
       "      <td>2.380556e+06</td>\n",
       "      <td>2.018782e+06</td>\n",
       "      <td>650000.0</td>\n",
       "      <td>931250.0</td>\n",
       "      <td>1200000.0</td>\n",
       "      <td>3750000.0</td>\n",
       "      <td>8000000.0</td>\n",
       "      <td>18.0</td>\n",
       "      <td>31.555556</td>\n",
       "      <td>...</td>\n",
       "      <td>1598.50</td>\n",
       "      <td>2049.0</td>\n",
       "      <td>18.0</td>\n",
       "      <td>52853.000000</td>\n",
       "      <td>25226.409782</td>\n",
       "      <td>2959.0</td>\n",
       "      <td>33300.00</td>\n",
       "      <td>53264.0</td>\n",
       "      <td>72280.50</td>\n",
       "      <td>93343.0</td>\n",
       "    </tr>\n",
       "    <tr>\n",
       "      <th>RW/LW/C</th>\n",
       "      <td>3.0</td>\n",
       "      <td>2.783333e+06</td>\n",
       "      <td>1.853600e+06</td>\n",
       "      <td>650000.0</td>\n",
       "      <td>2175000.0</td>\n",
       "      <td>3700000.0</td>\n",
       "      <td>3850000.0</td>\n",
       "      <td>4000000.0</td>\n",
       "      <td>3.0</td>\n",
       "      <td>30.666667</td>\n",
       "      <td>...</td>\n",
       "      <td>1672.50</td>\n",
       "      <td>1840.0</td>\n",
       "      <td>3.0</td>\n",
       "      <td>52639.666667</td>\n",
       "      <td>45001.676684</td>\n",
       "      <td>2839.0</td>\n",
       "      <td>33765.50</td>\n",
       "      <td>64692.0</td>\n",
       "      <td>77540.00</td>\n",
       "      <td>90388.0</td>\n",
       "    </tr>\n",
       "  </tbody>\n",
       "</table>\n",
       "<p>18 rows × 128 columns</p>\n",
       "</div>"
      ],
      "text/plain": [
       "         Salary                                                               \\\n",
       "          count          mean           std        min        25%        50%   \n",
       "Position                                                                       \n",
       "C          96.0  2.102387e+06  2.448313e+06   575000.0   663125.0   925000.0   \n",
       "C/D         1.0  9.250000e+05           NaN   925000.0   925000.0   925000.0   \n",
       "C/LW       46.0  1.905587e+06  1.754793e+06   575000.0   794375.0   925000.0   \n",
       "C/LW/RW     5.0  1.625000e+06  1.468630e+06   900000.0   925000.0  1000000.0   \n",
       "C/RW       31.0  2.623952e+06  2.575072e+06   575000.0   816250.0   950000.0   \n",
       "C/RW/LW     5.0  1.430000e+06  8.290431e+05   675000.0   925000.0   950000.0   \n",
       "D         201.0  2.410695e+06  2.156402e+06   575000.0   800000.0  1100000.0   \n",
       "D/LW        1.0  7.925000e+05           NaN   792500.0   792500.0   792500.0   \n",
       "LW         52.0  2.086721e+06  2.275456e+06   575000.0   725000.0   925000.0   \n",
       "LW/C       34.0  1.996176e+06  1.957469e+06   575000.0   717500.0   900000.0   \n",
       "LW/C/RW     6.0  2.945688e+06  1.837751e+06   874125.0  1662500.0  2925000.0   \n",
       "LW/RW      26.0  2.506442e+06  2.217585e+06   600000.0   825000.0  1800000.0   \n",
       "LW/RW/C     2.0  2.375000e+06  2.298097e+06   750000.0  1562500.0  2375000.0   \n",
       "RW         64.0  2.150938e+06  2.172271e+06   575000.0   698125.0   925000.0   \n",
       "RW/C       15.0  3.037333e+06  4.115230e+06   575000.0   600000.0   675000.0   \n",
       "RW/C/LW     4.0  3.375000e+06  1.479020e+06  1250000.0  2937500.0  3875000.0   \n",
       "RW/LW      18.0  2.380556e+06  2.018782e+06   650000.0   931250.0  1200000.0   \n",
       "RW/LW/C     3.0  2.783333e+06  1.853600e+06   650000.0  2175000.0  3700000.0   \n",
       "\n",
       "                                   Age             ...   Shifts          \\\n",
       "                75%         max  count       mean  ...      75%     max   \n",
       "Position                                           ...                    \n",
       "C         3500000.0  13800000.0   96.0  30.010417  ...  1772.00  2056.0   \n",
       "C/D        925000.0    925000.0    1.0  24.000000  ...    34.00    34.0   \n",
       "C/LW      2375000.0   6000000.0   46.0  30.565217  ...  1530.75  2067.0   \n",
       "C/LW/RW   1050000.0   4250000.0    5.0  28.600000  ...   685.00  1501.0   \n",
       "C/RW      4375000.0   9500000.0   31.0  30.709677  ...  1781.50  2258.0   \n",
       "C/RW/LW   2000000.0   2600000.0    5.0  30.600000  ...  1459.00  1567.0   \n",
       "D         4000000.0  12000000.0  201.0  30.970149  ...  1971.00  2657.0   \n",
       "D/LW       792500.0    792500.0    1.0  32.000000  ...   505.00   505.0   \n",
       "LW        2575000.0   9000000.0   52.0  29.615385  ...  1462.75  2085.0   \n",
       "LW/C      2631250.0   6500000.0   34.0  30.441176  ...  1617.25  2047.0   \n",
       "LW/C/RW   3512500.0   6000000.0    6.0  30.833333  ...  1874.50  1922.0   \n",
       "LW/RW     3375000.0  10000000.0   26.0  32.538462  ...  1586.50  2019.0   \n",
       "LW/RW/C   3187500.0   4000000.0    2.0  33.500000  ...  1589.00  1598.0   \n",
       "RW        3500000.0  10000000.0   64.0  30.734375  ...  1556.00  2150.0   \n",
       "RW/C      4137500.0  13800000.0   15.0  32.800000  ...  1658.00  1910.0   \n",
       "RW/C/LW   4312500.0   4500000.0    4.0  30.250000  ...  1813.00  1948.0   \n",
       "RW/LW     3750000.0   8000000.0   18.0  31.555556  ...  1598.50  2049.0   \n",
       "RW/LW/C   3850000.0   4000000.0    3.0  30.666667  ...  1672.50  1840.0   \n",
       "\n",
       "            TOI                                                          \\\n",
       "          count          mean           std      min       25%      50%   \n",
       "Position                                                                  \n",
       "C          96.0  45277.562500  33736.598853    505.0   6863.50  44681.0   \n",
       "C/D         1.0   1645.000000           NaN   1645.0   1645.00   1645.0   \n",
       "C/LW       46.0  49263.043478  26566.701620    704.0  34473.75  58476.0   \n",
       "C/LW/RW     5.0  28085.200000  24029.543726   5643.0  12902.00  24361.0   \n",
       "C/RW       31.0  53318.774194  34793.938691    440.0  22209.50  62152.0   \n",
       "C/RW/LW     5.0  39109.200000  27081.011368   9551.0  12430.00  45998.0   \n",
       "D         201.0  62572.746269  39046.329531    908.0  22592.00  68471.0   \n",
       "D/LW        1.0  23405.000000           NaN  23405.0  23405.00  23405.0   \n",
       "LW         52.0  39600.942308  30091.452838    282.0   9956.50  42405.5   \n",
       "LW/C       34.0  47021.323529  28154.244540    483.0  22982.25  44512.5   \n",
       "LW/C/RW     6.0  64790.333333  22927.071812  32672.0  47765.50  73853.5   \n",
       "LW/RW      26.0  49093.269231  28369.708353   1585.0  27506.75  55904.5   \n",
       "LW/RW/C     2.0  71003.000000   1523.108007  69926.0  70464.50  71003.0   \n",
       "RW         64.0  41114.578125  31903.002608   1000.0   8574.75  41236.0   \n",
       "RW/C       15.0  40073.933333  36300.344011    291.0  10063.50  27519.0   \n",
       "RW/C/LW     4.0  73455.750000  20639.060967  42950.0  70364.00  81388.5   \n",
       "RW/LW      18.0  52853.000000  25226.409782   2959.0  33300.00  53264.0   \n",
       "RW/LW/C     3.0  52639.666667  45001.676684   2839.0  33765.50  64692.0   \n",
       "\n",
       "                              \n",
       "               75%       max  \n",
       "Position                      \n",
       "C         76543.50   97447.0  \n",
       "C/D        1645.00    1645.0  \n",
       "C/LW      67887.75   85898.0  \n",
       "C/LW/RW   29962.00   67558.0  \n",
       "C/RW      78181.50  104814.0  \n",
       "C/RW/LW   57343.00   70224.0  \n",
       "D         95896.00  133550.0  \n",
       "D/LW      23405.00   23405.0  \n",
       "LW        64940.25   90456.0  \n",
       "LW/C      75501.00   93295.0  \n",
       "LW/C/RW   81680.50   85004.0  \n",
       "LW/RW     69209.75   90361.0  \n",
       "LW/RW/C   71541.50   72080.0  \n",
       "RW        73872.75   99099.0  \n",
       "RW/C      75310.00  105263.0  \n",
       "RW/C/LW   84480.25   88096.0  \n",
       "RW/LW     72280.50   93343.0  \n",
       "RW/LW/C   77540.00   90388.0  \n",
       "\n",
       "[18 rows x 128 columns]"
      ]
     },
     "execution_count": 173,
     "metadata": {},
     "output_type": "execute_result"
    }
   ],
   "source": [
    "df2.groupby('Position').describe()\n",
    "#doesn't really tell us much. The combination of position just makes it convoluted.\n",
    "#could divide between D and Forward and drop the d/f combos to see what that looks like"
   ]
  },
  {
   "cell_type": "markdown",
   "metadata": {},
   "source": [
    "## Additonal things I can investigate\n",
    "(this is a work in progress I just figured I'd post it on github regardless)"
   ]
  },
  {
   "cell_type": "code",
   "execution_count": null,
   "metadata": {
    "collapsed": true
   },
   "outputs": [],
   "source": [
    "##change all draft years to 8 if above 7 0\n",
    "# concat first and last name\n",
    "#change order of columns\n",
    "#discard excess columns\n",
    "#split salary from rest of colums\n",
    "#build model\n",
    "#is canada gain or losing in each draft year?\n",
    "#height and weight matter for salary?\n",
    "#are PIM correlated with goals?\n",
    "#which player is scorer and physcial?\n",
    "#Any country specialize in defenseman / goalie?\n",
    "#does psosition matter?\n",
    "#age and size correlaiton?\n",
    "# What team is paying the most in this year and whats there combined +/- compared to other teams?\n",
    "#map of candian players?\n",
    "#does latitude / longtide matter?\n",
    "#avg temp of hometown correlate with salary?"
   ]
  }
 ],
 "metadata": {
  "kernelspec": {
   "display_name": "Python 3",
   "language": "python",
   "name": "python3"
  },
  "language_info": {
   "codemirror_mode": {
    "name": "ipython",
    "version": 3
   },
   "file_extension": ".py",
   "mimetype": "text/x-python",
   "name": "python",
   "nbconvert_exporter": "python",
   "pygments_lexer": "ipython3",
   "version": "3.6.1"
  }
 },
 "nbformat": 4,
 "nbformat_minor": 2
}
