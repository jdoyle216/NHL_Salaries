{
 "cells": [
  {
   "cell_type": "markdown",
   "metadata": {},
   "source": [
    "# Exploring NHL dataset"
   ]
  },
  {
   "cell_type": "markdown",
   "metadata": {},
   "source": [
    "### Importing necessary libraries"
   ]
  },
  {
   "cell_type": "code",
   "execution_count": 12,
   "metadata": {
    "collapsed": true
   },
   "outputs": [],
   "source": [
    "import pandas as pd\n",
    "import numpy as np\n",
    "import seaborn as sns\n",
    "import matplotlib.pyplot as plt\n",
    "from sklearn import linear_model  as lm\n",
    "from sklearn.model_selection import train_test_split\n",
    "from sklearn import preprocessing\n",
    "from sklearn import metrics\n",
    "from datetime import datetime, date\n",
    "import warnings\n",
    "warnings.filterwarnings('ignore')\n",
    "\n",
    "% matplotlib inline"
   ]
  },
  {
   "cell_type": "markdown",
   "metadata": {},
   "source": [
    "### Importing Dataset"
   ]
  },
  {
   "cell_type": "code",
   "execution_count": 13,
   "metadata": {
    "collapsed": true
   },
   "outputs": [],
   "source": [
    "df = pd.read_csv('/Users/Jdoyle216/Downloads/archive-5/train.csv',encoding = \"ISO-8859-1\")"
   ]
  },
  {
   "cell_type": "code",
   "execution_count": 14,
   "metadata": {},
   "outputs": [
    {
     "data": {
      "text/html": [
       "<div>\n",
       "<style scoped>\n",
       "    .dataframe tbody tr th:only-of-type {\n",
       "        vertical-align: middle;\n",
       "    }\n",
       "\n",
       "    .dataframe tbody tr th {\n",
       "        vertical-align: top;\n",
       "    }\n",
       "\n",
       "    .dataframe thead th {\n",
       "        text-align: right;\n",
       "    }\n",
       "</style>\n",
       "<table border=\"1\" class=\"dataframe\">\n",
       "  <thead>\n",
       "    <tr style=\"text-align: right;\">\n",
       "      <th></th>\n",
       "      <th>Salary</th>\n",
       "      <th>Born</th>\n",
       "      <th>City</th>\n",
       "      <th>Pr/St</th>\n",
       "      <th>Cntry</th>\n",
       "      <th>Nat</th>\n",
       "      <th>Ht</th>\n",
       "      <th>Wt</th>\n",
       "      <th>DftYr</th>\n",
       "      <th>DftRd</th>\n",
       "      <th>...</th>\n",
       "      <th>PEND</th>\n",
       "      <th>OPS</th>\n",
       "      <th>DPS</th>\n",
       "      <th>PS</th>\n",
       "      <th>OTOI</th>\n",
       "      <th>Grit</th>\n",
       "      <th>DAP</th>\n",
       "      <th>Pace</th>\n",
       "      <th>GS</th>\n",
       "      <th>GS/G</th>\n",
       "    </tr>\n",
       "  </thead>\n",
       "  <tbody>\n",
       "    <tr>\n",
       "      <th>0</th>\n",
       "      <td>925000</td>\n",
       "      <td>97-01-30</td>\n",
       "      <td>Sainte-Marie</td>\n",
       "      <td>QC</td>\n",
       "      <td>CAN</td>\n",
       "      <td>CAN</td>\n",
       "      <td>74</td>\n",
       "      <td>190</td>\n",
       "      <td>2015.0</td>\n",
       "      <td>1.0</td>\n",
       "      <td>...</td>\n",
       "      <td>1.0</td>\n",
       "      <td>0.0</td>\n",
       "      <td>-0.2</td>\n",
       "      <td>-0.2</td>\n",
       "      <td>40.03</td>\n",
       "      <td>1</td>\n",
       "      <td>0.0</td>\n",
       "      <td>175.7</td>\n",
       "      <td>-0.4</td>\n",
       "      <td>-0.38</td>\n",
       "    </tr>\n",
       "    <tr>\n",
       "      <th>1</th>\n",
       "      <td>2250000</td>\n",
       "      <td>93-12-21</td>\n",
       "      <td>Ottawa</td>\n",
       "      <td>ON</td>\n",
       "      <td>CAN</td>\n",
       "      <td>CAN</td>\n",
       "      <td>74</td>\n",
       "      <td>207</td>\n",
       "      <td>2012.0</td>\n",
       "      <td>1.0</td>\n",
       "      <td>...</td>\n",
       "      <td>98.0</td>\n",
       "      <td>-0.2</td>\n",
       "      <td>3.4</td>\n",
       "      <td>3.2</td>\n",
       "      <td>2850.59</td>\n",
       "      <td>290</td>\n",
       "      <td>13.3</td>\n",
       "      <td>112.5</td>\n",
       "      <td>14.1</td>\n",
       "      <td>0.18</td>\n",
       "    </tr>\n",
       "    <tr>\n",
       "      <th>2</th>\n",
       "      <td>8000000</td>\n",
       "      <td>88-04-16</td>\n",
       "      <td>St. Paul</td>\n",
       "      <td>MN</td>\n",
       "      <td>USA</td>\n",
       "      <td>USA</td>\n",
       "      <td>72</td>\n",
       "      <td>218</td>\n",
       "      <td>2006.0</td>\n",
       "      <td>1.0</td>\n",
       "      <td>...</td>\n",
       "      <td>70.0</td>\n",
       "      <td>3.7</td>\n",
       "      <td>1.3</td>\n",
       "      <td>5.0</td>\n",
       "      <td>2486.75</td>\n",
       "      <td>102</td>\n",
       "      <td>6.6</td>\n",
       "      <td>114.8</td>\n",
       "      <td>36.8</td>\n",
       "      <td>0.57</td>\n",
       "    </tr>\n",
       "    <tr>\n",
       "      <th>3</th>\n",
       "      <td>3500000</td>\n",
       "      <td>92-01-07</td>\n",
       "      <td>Ottawa</td>\n",
       "      <td>ON</td>\n",
       "      <td>CAN</td>\n",
       "      <td>CAN</td>\n",
       "      <td>77</td>\n",
       "      <td>220</td>\n",
       "      <td>2010.0</td>\n",
       "      <td>1.0</td>\n",
       "      <td>...</td>\n",
       "      <td>22.0</td>\n",
       "      <td>0.0</td>\n",
       "      <td>0.4</td>\n",
       "      <td>0.5</td>\n",
       "      <td>1074.41</td>\n",
       "      <td>130</td>\n",
       "      <td>17.5</td>\n",
       "      <td>105.1</td>\n",
       "      <td>5.9</td>\n",
       "      <td>0.20</td>\n",
       "    </tr>\n",
       "    <tr>\n",
       "      <th>4</th>\n",
       "      <td>1750000</td>\n",
       "      <td>94-03-29</td>\n",
       "      <td>Toronto</td>\n",
       "      <td>ON</td>\n",
       "      <td>CAN</td>\n",
       "      <td>CAN</td>\n",
       "      <td>76</td>\n",
       "      <td>217</td>\n",
       "      <td>2012.0</td>\n",
       "      <td>1.0</td>\n",
       "      <td>...</td>\n",
       "      <td>68.0</td>\n",
       "      <td>-0.1</td>\n",
       "      <td>1.4</td>\n",
       "      <td>1.3</td>\n",
       "      <td>3459.09</td>\n",
       "      <td>425</td>\n",
       "      <td>8.3</td>\n",
       "      <td>99.5</td>\n",
       "      <td>21.8</td>\n",
       "      <td>0.27</td>\n",
       "    </tr>\n",
       "  </tbody>\n",
       "</table>\n",
       "<p>5 rows × 154 columns</p>\n",
       "</div>"
      ],
      "text/plain": [
       "    Salary      Born          City Pr/St Cntry  Nat  Ht   Wt   DftYr  DftRd  \\\n",
       "0   925000  97-01-30  Sainte-Marie    QC   CAN  CAN  74  190  2015.0    1.0   \n",
       "1  2250000  93-12-21        Ottawa    ON   CAN  CAN  74  207  2012.0    1.0   \n",
       "2  8000000  88-04-16      St. Paul    MN   USA  USA  72  218  2006.0    1.0   \n",
       "3  3500000  92-01-07        Ottawa    ON   CAN  CAN  77  220  2010.0    1.0   \n",
       "4  1750000  94-03-29       Toronto    ON   CAN  CAN  76  217  2012.0    1.0   \n",
       "\n",
       "   ...  PEND  OPS  DPS   PS     OTOI Grit   DAP   Pace    GS  GS/G  \n",
       "0  ...   1.0  0.0 -0.2 -0.2    40.03    1   0.0  175.7  -0.4 -0.38  \n",
       "1  ...  98.0 -0.2  3.4  3.2  2850.59  290  13.3  112.5  14.1  0.18  \n",
       "2  ...  70.0  3.7  1.3  5.0  2486.75  102   6.6  114.8  36.8  0.57  \n",
       "3  ...  22.0  0.0  0.4  0.5  1074.41  130  17.5  105.1   5.9  0.20  \n",
       "4  ...  68.0 -0.1  1.4  1.3  3459.09  425   8.3   99.5  21.8  0.27  \n",
       "\n",
       "[5 rows x 154 columns]"
      ]
     },
     "execution_count": 14,
     "metadata": {},
     "output_type": "execute_result"
    }
   ],
   "source": [
    "df.head()"
   ]
  },
  {
   "cell_type": "code",
   "execution_count": 15,
   "metadata": {},
   "outputs": [
    {
     "name": "stdout",
     "output_type": "stream",
     "text": [
      "['Salary', 'Born', 'City', 'Pr/St', 'Cntry', 'Nat', 'Ht', 'Wt', 'DftYr', 'DftRd', 'Ovrl', 'Hand', 'Last Name', 'First Name', 'Position', 'Team', 'GP', 'G', 'A', 'A1', 'A2', 'PTS', '+/-', 'E+/-', 'PIM', 'Shifts', 'TOI', 'TOIX', 'TOI/GP', 'TOI/GP.1', 'TOI%', 'IPP%', 'SH%', 'SV%', 'PDO', 'F/60', 'A/60', 'Pct%', 'Diff', 'Diff/60', 'iCF', 'iCF.1', 'iFF', 'iSF', 'iSF.1', 'iSF.2', 'ixG', 'iSCF', 'iRB', 'iRS', 'iDS', 'sDist', 'sDist.1', 'Pass', 'iHF', 'iHF.1', 'iHA', 'iHDf', 'iMiss', 'iGVA', 'iTKA', 'iBLK', 'iGVA.1', 'iTKA.1', 'iBLK.1', 'BLK%', 'iFOW', 'iFOL', 'iFOW.1', 'iFOL.1', 'FO%', '%FOT', 'dzFOW', 'dzFOL', 'nzFOW', 'nzFOL', 'ozFOW', 'ozFOL', 'FOW.Up', 'FOL.Up', 'FOW.Down', 'FOL.Down', 'FOW.Close', 'FOL.Close', 'OTG', '1G', 'GWG', 'ENG', 'PSG', 'PSA', 'G.Bkhd', 'G.Dflct', 'G.Slap', 'G.Snap', 'G.Tip', 'G.Wrap', 'G.Wrst', 'CBar ', 'Post', 'Over', 'Wide', 'S.Bkhd', 'S.Dflct', 'S.Slap', 'S.Snap', 'S.Tip', 'S.Wrap', 'S.Wrst', 'iPenT', 'iPenD', 'iPENT', 'iPEND', 'iPenDf', 'NPD', 'Min', 'Maj', 'Match', 'Misc', 'Game', 'CF', 'CA', 'FF', 'FA', 'SF', 'SA', 'xGF', 'xGA', 'SCF', 'SCA', 'GF', 'GA', 'RBF', 'RBA', 'RSF', 'RSA', 'DSF', 'DSA', 'FOW', 'FOL', 'HF', 'HA', 'GVA', 'TKA', 'PENT', 'PEND', 'OPS', 'DPS', 'PS', 'OTOI', 'Grit', 'DAP', 'Pace', 'GS', 'GS/G']\n"
     ]
    }
   ],
   "source": [
    "# too many columns to show them all with .head() method so instead:\n",
    "print(list(df.columns))\n",
    "\n",
    "#This will be easier to refer to"
   ]
  },
  {
   "cell_type": "code",
   "execution_count": 32,
   "metadata": {},
   "outputs": [
    {
     "data": {
      "text/plain": [
       "0      Thomas Chabot\n",
       "1          Cody Ceci\n",
       "2        Kyle Okposo\n",
       "3    Erik Gudbranson\n",
       "4         Tom Wilson\n",
       "Name: Name, dtype: object"
      ]
     },
     "execution_count": 32,
     "metadata": {},
     "output_type": "execute_result"
    }
   ],
   "source": [
    "#Let's concat the first and last names\n",
    "df['Name'] = df['First Name'] + [' '] + df['Last Name']\n",
    "df.Name.head()"
   ]
  },
  {
   "cell_type": "markdown",
   "metadata": {},
   "source": [
    "## Player Ages"
   ]
  },
  {
   "cell_type": "code",
   "execution_count": 17,
   "metadata": {},
   "outputs": [
    {
     "data": {
      "text/plain": [
       "'98-07-29'"
      ]
     },
     "execution_count": 17,
     "metadata": {},
     "output_type": "execute_result"
    }
   ],
   "source": [
    "df.Born.max()"
   ]
  },
  {
   "cell_type": "code",
   "execution_count": 18,
   "metadata": {},
   "outputs": [
    {
     "data": {
      "text/plain": [
       "0      1997-01-30\n",
       "1      1993-12-21\n",
       "2      1988-04-16\n",
       "3      1992-01-07\n",
       "4      1994-03-29\n",
       "          ...    \n",
       "607    1992-09-26\n",
       "608    1985-01-21\n",
       "609    1987-03-30\n",
       "610    1982-10-31\n",
       "611    1993-05-12\n",
       "Name: Born2, Length: 612, dtype: object"
      ]
     },
     "execution_count": 18,
     "metadata": {},
     "output_type": "execute_result"
    }
   ],
   "source": [
    "# I don't like the way the date is formatted so I'll change to yyyy-mm-dd\n",
    "df['Born2'] = '19' + df['Born']\n",
    "df.Born2"
   ]
  },
  {
   "cell_type": "code",
   "execution_count": 19,
   "metadata": {},
   "outputs": [
    {
     "name": "stdout",
     "output_type": "stream",
     "text": [
      "0      24\n",
      "1      27\n",
      "2      33\n",
      "3      29\n",
      "4      27\n",
      "       ..\n",
      "607    28\n",
      "608    36\n",
      "609    34\n",
      "610    38\n",
      "611    28\n",
      "Name: Age, Length: 612, dtype: int64\n"
     ]
    }
   ],
   "source": [
    "#now using the birthdates we can find the current age of each player\n",
    "def age(born):\n",
    "    born = datetime.strptime(born, '%Y-%m-%d').date()\n",
    "    today = date.today()\n",
    "    return today.year - born.year - ((today.month, \n",
    "                                      today.day) < (born.month, \n",
    "                                                    born.day))\n",
    "\n",
    "\n",
    "  \n",
    "df['Age'] = df['Born2'].apply(age)\n",
    "  \n",
    "print(df['Age'])"
   ]
  },
  {
   "cell_type": "code",
   "execution_count": 20,
   "metadata": {
    "collapsed": true
   },
   "outputs": [],
   "source": [
    "df.drop(['Born'], axis=1,inplace=True)\n",
    "df.rename(columns={\"Born2\": \"Born\"},inplace=True)"
   ]
  },
  {
   "cell_type": "code",
   "execution_count": 21,
   "metadata": {},
   "outputs": [
    {
     "data": {
      "text/plain": [
       "count    612.000000\n",
       "mean      30.727124\n",
       "std        4.449651\n",
       "min       23.000000\n",
       "25%       27.000000\n",
       "50%       30.000000\n",
       "75%       34.000000\n",
       "max       49.000000\n",
       "Name: Age, dtype: float64"
      ]
     },
     "execution_count": 21,
     "metadata": {},
     "output_type": "execute_result"
    }
   ],
   "source": [
    "df['Age'].describe()"
   ]
  },
  {
   "cell_type": "code",
   "execution_count": 22,
   "metadata": {},
   "outputs": [
    {
     "data": {
      "text/plain": [
       "<AxesSubplot:xlabel='Age', ylabel='Count'>"
      ]
     },
     "execution_count": 22,
     "metadata": {},
     "output_type": "execute_result"
    },
    {
     "data": {
      "image/png": "[encoded data removed]",
      "text/plain": [
       "<Figure size 432x288 with 1 Axes>"
      ]
     },
     "metadata": {},
     "output_type": "display_data"
    }
   ],
   "source": [
    "#now that we have age, lets see what it looks like as a distribution\n",
    "sns.histplot(data=df,x='Age',kde=True)"
   ]
  },
  {
   "cell_type": "code",
   "execution_count": 23,
   "metadata": {},
   "outputs": [
    {
     "data": {
      "text/plain": [
       "0.42261424446256834"
      ]
     },
     "execution_count": 23,
     "metadata": {},
     "output_type": "execute_result"
    }
   ],
   "source": [
    "df['Age'].corr(df['Salary'])\n",
    "#unsurprisngly age is corelated with salary although not very strongly"
   ]
  },
  {
   "cell_type": "code",
   "execution_count": 24,
   "metadata": {},
   "outputs": [
    {
     "data": {
      "text/plain": [
       "<matplotlib.collections.PathCollection at 0x13085de10>"
      ]
     },
     "execution_count": 24,
     "metadata": {},
     "output_type": "execute_result"
    },
    {
     "data": {
      "image/png": "[encoded data removed]",
      "text/plain": [
       "<Figure size 432x288 with 1 Axes>"
      ]
     },
     "metadata": {},
     "output_type": "display_data"
    }
   ],
   "source": [
    "plt.scatter('Age','Salary', data=df, linewidth=2)"
   ]
  },
  {
   "cell_type": "code",
   "execution_count": 25,
   "metadata": {},
   "outputs": [
    {
     "name": "stdout",
     "output_type": "stream",
     "text": [
      "131    Jagr\n",
      "Name: Last Name, dtype: object\n"
     ]
    }
   ],
   "source": [
    "#interesting outlier at almost 50 in a high contact sport\n",
    "oldest_player = df[df['Age'] == df['Age'].max()]['Last Name']\n",
    "print(oldest_player)\n",
    "# I had a feeling it was Jagr or Chara\n",
    "# plenty of palyers over forty despite contact sport surprisingy. Consider NFL Brady etc."
   ]
  },
  {
   "cell_type": "markdown",
   "metadata": {},
   "source": [
    "## Further EDA"
   ]
  },
  {
   "cell_type": "code",
   "execution_count": 26,
   "metadata": {},
   "outputs": [
    {
     "data": {
      "text/plain": [
       "<AxesSubplot:xlabel='count', ylabel='Cntry'>"
      ]
     },
     "execution_count": 26,
     "metadata": {},
     "output_type": "execute_result"
    },
    {
     "data": {
      "image/png": "[encoded data removed]",
      "text/plain": [
       "<Figure size 432x288 with 1 Axes>"
      ]
     },
     "metadata": {},
     "output_type": "display_data"
    }
   ],
   "source": [
    "#Switching Gears lets take a look at the countries column\n",
    "order1 = df.Cntry.value_counts().index\n",
    "\n",
    "sns.countplot(data=df,y='Cntry',order=order1)\n",
    "\n",
    "#unsurprisingly Canada reigns supreme"
   ]
  },
  {
   "cell_type": "code",
   "execution_count": 30,
   "metadata": {},
   "outputs": [
    {
     "data": {
      "text/plain": [
       "<AxesSubplot:xlabel='Ht', ylabel='Count'>"
      ]
     },
     "execution_count": 30,
     "metadata": {},
     "output_type": "execute_result"
    },
    {
     "data": {
      "image/png": "[encoded data removed]",
      "text/plain": [
       "<Figure size 432x288 with 2 Axes>"
      ]
     },
     "metadata": {},
     "output_type": "display_data"
    }
   ],
   "source": [
    "fig, (ax1, ax2) = plt.subplots(ncols=2, sharey=True)\n",
    "sns.histplot(data=df,x='Wt',bins=10, ax=ax1)\n",
    "sns.histplot(data=df,x='Ht',bins=10, ax=ax2)"
   ]
  },
  {
   "cell_type": "code",
   "execution_count": null,
   "metadata": {},
   "outputs": [],
   "source": []
  },
  {
   "cell_type": "code",
   "execution_count": null,
   "metadata": {
    "collapsed": true
   },
   "outputs": [],
   "source": []
  },
  {
   "cell_type": "code",
   "execution_count": 205,
   "metadata": {},
   "outputs": [
    {
     "data": {
      "text/plain": [
       "Pr/St      153\n",
       "Ovrl       100\n",
       "DftRd      100\n",
       "DftYr      100\n",
       "sDist.1     16\n",
       "iHA          9\n",
       "iCF          8\n",
       "iHDf         8\n",
       "iSF          8\n",
       "iFF          8\n",
       "iRB          8\n",
       "iDS          7\n",
       "SH%          2\n",
       "GS/G         2\n",
       "PDO          2\n",
       "TOI%         1\n",
       "iPENT        1\n",
       "CF           1\n",
       "A/60         1\n",
       "iFOW.1       1\n",
       "iFOL.1       1\n",
       "iHF.1        1\n",
       "%FOT         1\n",
       "iPEND        1\n",
       "F/60         1\n",
       "Pass         1\n",
       "IPP%         1\n",
       "SV%          1\n",
       "iRS          1\n",
       "FF           1\n",
       "iSCF         1\n",
       "ixG          1\n",
       "TOIX         1\n",
       "CA           1\n",
       "FA           1\n",
       "Diff/60      1\n",
       "FOL          1\n",
       "iGVA.1       1\n",
       "GS           1\n",
       "Pace         1\n",
       "iTKA.1       1\n",
       "OTOI         1\n",
       "iBLK.1       1\n",
       "BLK%         1\n",
       "PEND         1\n",
       "PENT         1\n",
       "TKA          1\n",
       "GVA          1\n",
       "HA           1\n",
       "SF           1\n",
       "dtype: int64"
      ]
     },
     "execution_count": 205,
     "metadata": {},
     "output_type": "execute_result"
    }
   ],
   "source": [
    "df.isnull().sum(axis = 0).sort_values(ascending=False).head(50)"
   ]
  },
  {
   "cell_type": "code",
   "execution_count": 206,
   "metadata": {},
   "outputs": [
    {
     "data": {
      "text/html": [
       "<div>\n",
       "<style scoped>\n",
       "    .dataframe tbody tr th:only-of-type {\n",
       "        vertical-align: middle;\n",
       "    }\n",
       "\n",
       "    .dataframe tbody tr th {\n",
       "        vertical-align: top;\n",
       "    }\n",
       "\n",
       "    .dataframe thead th {\n",
       "        text-align: right;\n",
       "    }\n",
       "</style>\n",
       "<table border=\"1\" class=\"dataframe\">\n",
       "  <thead>\n",
       "    <tr style=\"text-align: right;\">\n",
       "      <th></th>\n",
       "      <th>Salary</th>\n",
       "      <th>City</th>\n",
       "      <th>Pr/St</th>\n",
       "      <th>Cntry</th>\n",
       "      <th>Nat</th>\n",
       "      <th>Ht</th>\n",
       "      <th>Wt</th>\n",
       "      <th>DftYr</th>\n",
       "      <th>DftRd</th>\n",
       "      <th>Ovrl</th>\n",
       "      <th>...</th>\n",
       "      <th>PS</th>\n",
       "      <th>OTOI</th>\n",
       "      <th>Grit</th>\n",
       "      <th>DAP</th>\n",
       "      <th>Pace</th>\n",
       "      <th>GS</th>\n",
       "      <th>GS/G</th>\n",
       "      <th>Name</th>\n",
       "      <th>Born</th>\n",
       "      <th>Age</th>\n",
       "    </tr>\n",
       "  </thead>\n",
       "  <tbody>\n",
       "    <tr>\n",
       "      <th>290</th>\n",
       "      <td>692500</td>\n",
       "      <td>Pickering</td>\n",
       "      <td>ON</td>\n",
       "      <td>CAN</td>\n",
       "      <td>CAN</td>\n",
       "      <td>74</td>\n",
       "      <td>205</td>\n",
       "      <td>NaN</td>\n",
       "      <td>NaN</td>\n",
       "      <td>NaN</td>\n",
       "      <td>...</td>\n",
       "      <td>0.0</td>\n",
       "      <td>NaN</td>\n",
       "      <td>3</td>\n",
       "      <td>0.0</td>\n",
       "      <td>NaN</td>\n",
       "      <td>NaN</td>\n",
       "      <td>NaN</td>\n",
       "      <td>Dan Renouf</td>\n",
       "      <td>1994-06-01</td>\n",
       "      <td>27</td>\n",
       "    </tr>\n",
       "  </tbody>\n",
       "</table>\n",
       "<p>1 rows × 156 columns</p>\n",
       "</div>"
      ],
      "text/plain": [
       "     Salary       City Pr/St Cntry  Nat  Ht   Wt  DftYr  DftRd  Ovrl  ...  \\\n",
       "290  692500  Pickering    ON   CAN  CAN  74  205    NaN    NaN   NaN  ...   \n",
       "\n",
       "      PS OTOI Grit  DAP Pace  GS  GS/G        Name        Born  Age  \n",
       "290  0.0  NaN    3  0.0  NaN NaN   NaN  Dan Renouf  1994-06-01   27  \n",
       "\n",
       "[1 rows x 156 columns]"
      ]
     },
     "execution_count": 206,
     "metadata": {},
     "output_type": "execute_result"
    }
   ],
   "source": [
    "df[df['Pace'].isnull()]"
   ]
  },
  {
   "cell_type": "code",
   "execution_count": 207,
   "metadata": {
    "collapsed": true
   },
   "outputs": [],
   "source": [
    "df.drop([0,290],inplace=True)"
   ]
  },
  {
   "cell_type": "code",
   "execution_count": 208,
   "metadata": {},
   "outputs": [
    {
     "data": {
      "text/plain": [
       "Pr/St      153\n",
       "DftYr       99\n",
       "Ovrl        99\n",
       "DftRd       99\n",
       "sDist.1     15\n",
       "iHA          8\n",
       "iHDf         8\n",
       "iSF          7\n",
       "iDS          7\n",
       "iFF          7\n",
       "iCF          7\n",
       "iRB          7\n",
       "PDO          1\n",
       "SH%          1\n",
       "IPP%         1\n",
       "GS/G         1\n",
       "Pass         1\n",
       "dtype: int64"
      ]
     },
     "execution_count": 208,
     "metadata": {},
     "output_type": "execute_result"
    }
   ],
   "source": [
    "df.isnull().sum(axis = 0).sort_values(ascending=False).head(17)"
   ]
  },
  {
   "cell_type": "markdown",
   "metadata": {},
   "source": [
    "## Draft Round"
   ]
  },
  {
   "cell_type": "code",
   "execution_count": 209,
   "metadata": {},
   "outputs": [
    {
     "data": {
      "text/plain": [
       "dtype('float64')"
      ]
     },
     "execution_count": 209,
     "metadata": {},
     "output_type": "execute_result"
    }
   ],
   "source": [
    "df.DftRd.dtype"
   ]
  },
  {
   "cell_type": "code",
   "execution_count": 210,
   "metadata": {
    "collapsed": true
   },
   "outputs": [],
   "source": [
    "df['DftRd'].fillna(8.0, inplace = True)\n",
    "df.DftRd.replace({9: 8}, inplace=True)"
   ]
  },
  {
   "cell_type": "code",
   "execution_count": 211,
   "metadata": {},
   "outputs": [
    {
     "data": {
      "text/plain": [
       "<AxesSubplot:xlabel='DftRd', ylabel='Count'>"
      ]
     },
     "execution_count": 211,
     "metadata": {},
     "output_type": "execute_result"
    },
    {
     "data": {
      "image/png": "[encoded data removed]",
      "text/plain": [
       "<Figure size 432x288 with 1 Axes>"
      ]
     },
     "metadata": {},
     "output_type": "display_data"
    }
   ],
   "source": [
    "df['DftRd'].value_counts()\n",
    "sns.histplot(x='DftRd',data=df, discrete=True)"
   ]
  },
  {
   "cell_type": "markdown",
   "metadata": {
    "collapsed": true
   },
   "source": [
    "## Dropping unecessary columns"
   ]
  },
  {
   "cell_type": "code",
   "execution_count": 212,
   "metadata": {
    "collapsed": true
   },
   "outputs": [],
   "source": [
    "\n",
    "\n",
    "df2 = df[['Salary', 'Name', 'Born', 'Age', 'City', 'Pr/St', 'Cntry', 'Nat', 'Ht', 'Wt', 'DftYr', 'DftRd', 'Ovrl', 'Hand', 'Position', 'Team', 'GP', 'G', 'A', 'PTS', '+/-', 'E+/-', 'PIM', 'Shifts', 'TOI']]"
   ]
  },
  {
   "cell_type": "code",
   "execution_count": 213,
   "metadata": {},
   "outputs": [
    {
     "data": {
      "text/html": [
       "<div>\n",
       "<style scoped>\n",
       "    .dataframe tbody tr th:only-of-type {\n",
       "        vertical-align: middle;\n",
       "    }\n",
       "\n",
       "    .dataframe tbody tr th {\n",
       "        vertical-align: top;\n",
       "    }\n",
       "\n",
       "    .dataframe thead th {\n",
       "        text-align: right;\n",
       "    }\n",
       "</style>\n",
       "<table border=\"1\" class=\"dataframe\">\n",
       "  <thead>\n",
       "    <tr style=\"text-align: right;\">\n",
       "      <th></th>\n",
       "      <th>Salary</th>\n",
       "      <th>Name</th>\n",
       "      <th>Born</th>\n",
       "      <th>Age</th>\n",
       "      <th>City</th>\n",
       "      <th>Pr/St</th>\n",
       "      <th>Cntry</th>\n",
       "      <th>Nat</th>\n",
       "      <th>Ht</th>\n",
       "      <th>Wt</th>\n",
       "      <th>...</th>\n",
       "      <th>Team</th>\n",
       "      <th>GP</th>\n",
       "      <th>G</th>\n",
       "      <th>A</th>\n",
       "      <th>PTS</th>\n",
       "      <th>+/-</th>\n",
       "      <th>E+/-</th>\n",
       "      <th>PIM</th>\n",
       "      <th>Shifts</th>\n",
       "      <th>TOI</th>\n",
       "    </tr>\n",
       "  </thead>\n",
       "  <tbody>\n",
       "    <tr>\n",
       "      <th>1</th>\n",
       "      <td>2250000</td>\n",
       "      <td>Cody Ceci</td>\n",
       "      <td>1993-12-21</td>\n",
       "      <td>27</td>\n",
       "      <td>Ottawa</td>\n",
       "      <td>ON</td>\n",
       "      <td>CAN</td>\n",
       "      <td>CAN</td>\n",
       "      <td>74</td>\n",
       "      <td>207</td>\n",
       "      <td>...</td>\n",
       "      <td>OTT</td>\n",
       "      <td>79</td>\n",
       "      <td>2</td>\n",
       "      <td>15</td>\n",
       "      <td>17</td>\n",
       "      <td>-11</td>\n",
       "      <td>-10.4</td>\n",
       "      <td>20</td>\n",
       "      <td>2418</td>\n",
       "      <td>109992</td>\n",
       "    </tr>\n",
       "    <tr>\n",
       "      <th>2</th>\n",
       "      <td>8000000</td>\n",
       "      <td>Kyle Okposo</td>\n",
       "      <td>1988-04-16</td>\n",
       "      <td>33</td>\n",
       "      <td>St. Paul</td>\n",
       "      <td>MN</td>\n",
       "      <td>USA</td>\n",
       "      <td>USA</td>\n",
       "      <td>72</td>\n",
       "      <td>218</td>\n",
       "      <td>...</td>\n",
       "      <td>BUF</td>\n",
       "      <td>65</td>\n",
       "      <td>19</td>\n",
       "      <td>26</td>\n",
       "      <td>45</td>\n",
       "      <td>-7</td>\n",
       "      <td>-1.4</td>\n",
       "      <td>24</td>\n",
       "      <td>1443</td>\n",
       "      <td>73983</td>\n",
       "    </tr>\n",
       "    <tr>\n",
       "      <th>3</th>\n",
       "      <td>3500000</td>\n",
       "      <td>Erik Gudbranson</td>\n",
       "      <td>1992-01-07</td>\n",
       "      <td>29</td>\n",
       "      <td>Ottawa</td>\n",
       "      <td>ON</td>\n",
       "      <td>CAN</td>\n",
       "      <td>CAN</td>\n",
       "      <td>77</td>\n",
       "      <td>220</td>\n",
       "      <td>...</td>\n",
       "      <td>VAN</td>\n",
       "      <td>30</td>\n",
       "      <td>1</td>\n",
       "      <td>5</td>\n",
       "      <td>6</td>\n",
       "      <td>-14</td>\n",
       "      <td>-5.3</td>\n",
       "      <td>18</td>\n",
       "      <td>765</td>\n",
       "      <td>36603</td>\n",
       "    </tr>\n",
       "    <tr>\n",
       "      <th>4</th>\n",
       "      <td>1750000</td>\n",
       "      <td>Tom Wilson</td>\n",
       "      <td>1994-03-29</td>\n",
       "      <td>27</td>\n",
       "      <td>Toronto</td>\n",
       "      <td>ON</td>\n",
       "      <td>CAN</td>\n",
       "      <td>CAN</td>\n",
       "      <td>76</td>\n",
       "      <td>217</td>\n",
       "      <td>...</td>\n",
       "      <td>WSH</td>\n",
       "      <td>82</td>\n",
       "      <td>7</td>\n",
       "      <td>12</td>\n",
       "      <td>19</td>\n",
       "      <td>9</td>\n",
       "      <td>4.1</td>\n",
       "      <td>133</td>\n",
       "      <td>1453</td>\n",
       "      <td>63592</td>\n",
       "    </tr>\n",
       "    <tr>\n",
       "      <th>5</th>\n",
       "      <td>1500000</td>\n",
       "      <td>Brian Campbell</td>\n",
       "      <td>1979-05-23</td>\n",
       "      <td>42</td>\n",
       "      <td>Strathroy</td>\n",
       "      <td>ON</td>\n",
       "      <td>CAN</td>\n",
       "      <td>CAN</td>\n",
       "      <td>70</td>\n",
       "      <td>192</td>\n",
       "      <td>...</td>\n",
       "      <td>CHI</td>\n",
       "      <td>80</td>\n",
       "      <td>5</td>\n",
       "      <td>12</td>\n",
       "      <td>17</td>\n",
       "      <td>12</td>\n",
       "      <td>0.7</td>\n",
       "      <td>24</td>\n",
       "      <td>1896</td>\n",
       "      <td>88462</td>\n",
       "    </tr>\n",
       "  </tbody>\n",
       "</table>\n",
       "<p>5 rows × 25 columns</p>\n",
       "</div>"
      ],
      "text/plain": [
       "    Salary             Name        Born  Age       City Pr/St Cntry  Nat  Ht  \\\n",
       "1  2250000        Cody Ceci  1993-12-21   27     Ottawa    ON   CAN  CAN  74   \n",
       "2  8000000      Kyle Okposo  1988-04-16   33   St. Paul    MN   USA  USA  72   \n",
       "3  3500000  Erik Gudbranson  1992-01-07   29     Ottawa    ON   CAN  CAN  77   \n",
       "4  1750000       Tom Wilson  1994-03-29   27    Toronto    ON   CAN  CAN  76   \n",
       "5  1500000   Brian Campbell  1979-05-23   42  Strathroy    ON   CAN  CAN  70   \n",
       "\n",
       "    Wt  ...  Team  GP   G   A PTS +/-  E+/-  PIM  Shifts     TOI  \n",
       "1  207  ...   OTT  79   2  15  17 -11 -10.4   20    2418  109992  \n",
       "2  218  ...   BUF  65  19  26  45  -7  -1.4   24    1443   73983  \n",
       "3  220  ...   VAN  30   1   5   6 -14  -5.3   18     765   36603  \n",
       "4  217  ...   WSH  82   7  12  19   9   4.1  133    1453   63592  \n",
       "5  192  ...   CHI  80   5  12  17  12   0.7   24    1896   88462  \n",
       "\n",
       "[5 rows x 25 columns]"
      ]
     },
     "execution_count": 213,
     "metadata": {},
     "output_type": "execute_result"
    }
   ],
   "source": [
    "df2.head()"
   ]
  },
  {
   "cell_type": "code",
   "execution_count": null,
   "metadata": {},
   "outputs": [],
   "source": []
  },
  {
   "cell_type": "markdown",
   "metadata": {},
   "source": [
    "## Correlations"
   ]
  },
  {
   "cell_type": "code",
   "execution_count": 31,
   "metadata": {},
   "outputs": [
    {
     "ename": "NameError",
     "evalue": "name 'df2' is not defined",
     "output_type": "error",
     "traceback": [
      "\u001b[0;31m---------------------------------------------------------------------------\u001b[0m",
      "\u001b[0;31mNameError\u001b[0m                                 Traceback (most recent call last)",
      "\u001b[0;32m<ipython-input-31-4282102d3b7b>\u001b[0m in \u001b[0;36m<module>\u001b[0;34m()\u001b[0m\n\u001b[0;32m----> 1\u001b[0;31m \u001b[0msns\u001b[0m\u001b[0;34m.\u001b[0m\u001b[0mheatmap\u001b[0m\u001b[0;34m(\u001b[0m\u001b[0mdf2\u001b[0m\u001b[0;34m.\u001b[0m\u001b[0mcorr\u001b[0m\u001b[0;34m(\u001b[0m\u001b[0;34m)\u001b[0m\u001b[0;34m)\u001b[0m\u001b[0;34m\u001b[0m\u001b[0m\n\u001b[0m",
      "\u001b[0;31mNameError\u001b[0m: name 'df2' is not defined"
     ]
    }
   ],
   "source": [
    "sns.heatmap(df2.corr())"
   ]
  },
  {
   "cell_type": "code",
   "execution_count": 224,
   "metadata": {
    "collapsed": true
   },
   "outputs": [],
   "source": [
    "cor1 = df2['Wt'].corr(df2['Salary'])\n",
    "cor2 = df2['Wt'].corr(df2['Ht'])\n",
    "cor3 = df2['Wt'].corr(df2['Age'])\n",
    "cor4 = df2['Wt'].corr(df2['PIM'])"
   ]
  },
  {
   "cell_type": "code",
   "execution_count": 225,
   "metadata": {},
   "outputs": [
    {
     "name": "stdout",
     "output_type": "stream",
     "text": [
      "correlation of a player's Weight and Salary is 0.18\n",
      "correlation of a player's Weight and Height is 0.72\n",
      "correlation of a player's Weight and Age is 0.15\n",
      "correlation of a player's Weight and Penalty Minutes is 0.29\n"
     ]
    }
   ],
   "source": [
    "print(\"correlation of a player's Weight and Salary is {:0.2f}\".format(cor1))\n",
    "print(\"correlation of a player's Weight and Height is {:0.2f}\".format(cor2))\n",
    "print(\"correlation of a player's Weight and Age is {:0.2f}\".format(cor3))\n",
    "print(\"correlation of a player's Weight and Penalty Minutes is {:0.2f}\".format(cor4))"
   ]
  },
  {
   "cell_type": "code",
   "execution_count": 229,
   "metadata": {},
   "outputs": [
    {
     "data": {
      "text/plain": [
       "Text(0, 0.5, 'Salary')"
      ]
     },
     "execution_count": 229,
     "metadata": {},
     "output_type": "execute_result"
    },
    {
     "data": {
      "image/png": "[encoded data removed]",
      "text/plain": [
       "<Figure size 432x288 with 1 Axes>"
      ]
     },
     "metadata": {},
     "output_type": "display_data"
    }
   ],
   "source": [
    "plt.scatter('Age','Salary', data=df2, color='red', linewidth=1)\n",
    "\n",
    "plt.title(\"Age vs Salary\")\n",
    "plt.xlabel(\"Age\")\n",
    "plt.ylabel(\"Salary\")"
   ]
  },
  {
   "cell_type": "code",
   "execution_count": 228,
   "metadata": {},
   "outputs": [
    {
     "data": {
      "text/plain": [
       "Text(0, 0.5, 'Salary')"
      ]
     },
     "execution_count": 228,
     "metadata": {},
     "output_type": "execute_result"
    },
    {
     "data": {
      "image/png": "[encoded data removed]",
      "text/plain": [
       "<Figure size 432x288 with 1 Axes>"
      ]
     },
     "metadata": {},
     "output_type": "display_data"
    }
   ],
   "source": [
    "plt.scatter('G','Salary', data=df2, color='red', linewidth=1)\n",
    "plt.title(\"Goals vs Salary\")\n",
    "plt.xlabel(\"Goals Scored\")\n",
    "plt.ylabel(\"Salary\")"
   ]
  },
  {
   "cell_type": "code",
   "execution_count": 230,
   "metadata": {},
   "outputs": [
    {
     "data": {
      "text/plain": [
       "Text(0, 0.5, 'Salary')"
      ]
     },
     "execution_count": 230,
     "metadata": {},
     "output_type": "execute_result"
    },
    {
     "data": {
      "image/png": "[encoded data removed]",
      "text/plain": [
       "<Figure size 432x288 with 1 Axes>"
      ]
     },
     "metadata": {},
     "output_type": "display_data"
    }
   ],
   "source": [
    "plt.scatter('PTS','Salary', data=df2, color='red', linewidth=1)\n",
    "plt.title(\"Points vs Salary\")\n",
    "plt.xlabel(\"Points\")\n",
    "plt.ylabel(\"Salary\")"
   ]
  },
  {
   "cell_type": "code",
   "execution_count": 231,
   "metadata": {},
   "outputs": [
    {
     "data": {
      "text/plain": [
       "Text(0, 0.5, 'Salary')"
      ]
     },
     "execution_count": 231,
     "metadata": {},
     "output_type": "execute_result"
    },
    {
     "data": {
      "image/png": "[encoded data removed]",
      "text/plain": [
       "<Figure size 432x288 with 1 Axes>"
      ]
     },
     "metadata": {},
     "output_type": "display_data"
    }
   ],
   "source": [
    "plt.scatter('TOI','Salary', data=df2, color='red', linewidth=1)\n",
    "plt.title(\"Time on Ice vs Salary\")\n",
    "plt.xlabel(\"Time on Ice\")\n",
    "plt.ylabel(\"Salary\")"
   ]
  },
  {
   "cell_type": "code",
   "execution_count": 232,
   "metadata": {},
   "outputs": [
    {
     "data": {
      "text/plain": [
       "Text(0, 0.5, 'Salary')"
      ]
     },
     "execution_count": 232,
     "metadata": {},
     "output_type": "execute_result"
    },
    {
     "data": {
      "image/png": "[encoded data removed]",
      "text/plain": [
       "<Figure size 432x288 with 1 Axes>"
      ]
     },
     "metadata": {},
     "output_type": "display_data"
    }
   ],
   "source": [
    "plt.scatter('+/-','Salary', data=df2, color='red', linewidth=1)\n",
    "plt.title(\"Plus Minus vs Salary\")\n",
    "plt.xlabel(\"Plus Minus\")\n",
    "plt.ylabel(\"Salary\")"
   ]
  },
  {
   "cell_type": "code",
   "execution_count": 233,
   "metadata": {},
   "outputs": [
    {
     "data": {
      "text/plain": [
       "Text(0, 0.5, 'Salary')"
      ]
     },
     "execution_count": 233,
     "metadata": {},
     "output_type": "execute_result"
    },
    {
     "data": {
      "image/png": "[encoded data removed]",
      "text/plain": [
       "<Figure size 432x288 with 1 Axes>"
      ]
     },
     "metadata": {},
     "output_type": "display_data"
    }
   ],
   "source": [
    "sns.scatterplot('G','Salary', data=df2)\n",
    "plt.title(\"Goals vs Salary\")\n",
    "plt.xlabel(\"Goals Scored\")\n",
    "plt.ylabel(\"Salary\")"
   ]
  },
  {
   "cell_type": "code",
   "execution_count": 170,
   "metadata": {},
   "outputs": [
    {
     "data": {
      "text/html": [
       "<div>\n",
       "<style scoped>\n",
       "    .dataframe tbody tr th:only-of-type {\n",
       "        vertical-align: middle;\n",
       "    }\n",
       "\n",
       "    .dataframe tbody tr th {\n",
       "        vertical-align: top;\n",
       "    }\n",
       "\n",
       "    .dataframe thead tr th {\n",
       "        text-align: left;\n",
       "    }\n",
       "\n",
       "    .dataframe thead tr:last-of-type th {\n",
       "        text-align: right;\n",
       "    }\n",
       "</style>\n",
       "<table border=\"1\" class=\"dataframe\">\n",
       "  <thead>\n",
       "    <tr>\n",
       "      <th></th>\n",
       "      <th colspan=\"8\" halign=\"left\">Salary</th>\n",
       "      <th colspan=\"2\" halign=\"left\">Age</th>\n",
       "      <th>...</th>\n",
       "      <th colspan=\"2\" halign=\"left\">Shifts</th>\n",
       "      <th colspan=\"8\" halign=\"left\">TOI</th>\n",
       "    </tr>\n",
       "    <tr>\n",
       "      <th></th>\n",
       "      <th>count</th>\n",
       "      <th>mean</th>\n",
       "      <th>std</th>\n",
       "      <th>min</th>\n",
       "      <th>25%</th>\n",
       "      <th>50%</th>\n",
       "      <th>75%</th>\n",
       "      <th>max</th>\n",
       "      <th>count</th>\n",
       "      <th>mean</th>\n",
       "      <th>...</th>\n",
       "      <th>75%</th>\n",
       "      <th>max</th>\n",
       "      <th>count</th>\n",
       "      <th>mean</th>\n",
       "      <th>std</th>\n",
       "      <th>min</th>\n",
       "      <th>25%</th>\n",
       "      <th>50%</th>\n",
       "      <th>75%</th>\n",
       "      <th>max</th>\n",
       "    </tr>\n",
       "    <tr>\n",
       "      <th>Position</th>\n",
       "      <th></th>\n",
       "      <th></th>\n",
       "      <th></th>\n",
       "      <th></th>\n",
       "      <th></th>\n",
       "      <th></th>\n",
       "      <th></th>\n",
       "      <th></th>\n",
       "      <th></th>\n",
       "      <th></th>\n",
       "      <th></th>\n",
       "      <th></th>\n",
       "      <th></th>\n",
       "      <th></th>\n",
       "      <th></th>\n",
       "      <th></th>\n",
       "      <th></th>\n",
       "      <th></th>\n",
       "      <th></th>\n",
       "      <th></th>\n",
       "      <th></th>\n",
       "    </tr>\n",
       "  </thead>\n",
       "  <tbody>\n",
       "    <tr>\n",
       "      <th>C</th>\n",
       "      <td>96.0</td>\n",
       "      <td>2.102387e+06</td>\n",
       "      <td>2.448313e+06</td>\n",
       "      <td>575000.0</td>\n",
       "      <td>663125.0</td>\n",
       "      <td>925000.0</td>\n",
       "      <td>3500000.0</td>\n",
       "      <td>13800000.0</td>\n",
       "      <td>96.0</td>\n",
       "      <td>30.062500</td>\n",
       "      <td>...</td>\n",
       "      <td>1772.00</td>\n",
       "      <td>2056.0</td>\n",
       "      <td>96.0</td>\n",
       "      <td>45277.562500</td>\n",
       "      <td>33736.598853</td>\n",
       "      <td>505.0</td>\n",
       "      <td>6863.50</td>\n",
       "      <td>44681.0</td>\n",
       "      <td>76543.50</td>\n",
       "      <td>97447.0</td>\n",
       "    </tr>\n",
       "    <tr>\n",
       "      <th>C/D</th>\n",
       "      <td>1.0</td>\n",
       "      <td>9.250000e+05</td>\n",
       "      <td>NaN</td>\n",
       "      <td>925000.0</td>\n",
       "      <td>925000.0</td>\n",
       "      <td>925000.0</td>\n",
       "      <td>925000.0</td>\n",
       "      <td>925000.0</td>\n",
       "      <td>1.0</td>\n",
       "      <td>24.000000</td>\n",
       "      <td>...</td>\n",
       "      <td>34.00</td>\n",
       "      <td>34.0</td>\n",
       "      <td>1.0</td>\n",
       "      <td>1645.000000</td>\n",
       "      <td>NaN</td>\n",
       "      <td>1645.0</td>\n",
       "      <td>1645.00</td>\n",
       "      <td>1645.0</td>\n",
       "      <td>1645.00</td>\n",
       "      <td>1645.0</td>\n",
       "    </tr>\n",
       "    <tr>\n",
       "      <th>C/LW</th>\n",
       "      <td>46.0</td>\n",
       "      <td>1.905587e+06</td>\n",
       "      <td>1.754793e+06</td>\n",
       "      <td>575000.0</td>\n",
       "      <td>794375.0</td>\n",
       "      <td>925000.0</td>\n",
       "      <td>2375000.0</td>\n",
       "      <td>6000000.0</td>\n",
       "      <td>46.0</td>\n",
       "      <td>30.608696</td>\n",
       "      <td>...</td>\n",
       "      <td>1530.75</td>\n",
       "      <td>2067.0</td>\n",
       "      <td>46.0</td>\n",
       "      <td>49263.043478</td>\n",
       "      <td>26566.701620</td>\n",
       "      <td>704.0</td>\n",
       "      <td>34473.75</td>\n",
       "      <td>58476.0</td>\n",
       "      <td>67887.75</td>\n",
       "      <td>85898.0</td>\n",
       "    </tr>\n",
       "    <tr>\n",
       "      <th>C/LW/RW</th>\n",
       "      <td>5.0</td>\n",
       "      <td>1.625000e+06</td>\n",
       "      <td>1.468630e+06</td>\n",
       "      <td>900000.0</td>\n",
       "      <td>925000.0</td>\n",
       "      <td>1000000.0</td>\n",
       "      <td>1050000.0</td>\n",
       "      <td>4250000.0</td>\n",
       "      <td>5.0</td>\n",
       "      <td>28.600000</td>\n",
       "      <td>...</td>\n",
       "      <td>685.00</td>\n",
       "      <td>1501.0</td>\n",
       "      <td>5.0</td>\n",
       "      <td>28085.200000</td>\n",
       "      <td>24029.543726</td>\n",
       "      <td>5643.0</td>\n",
       "      <td>12902.00</td>\n",
       "      <td>24361.0</td>\n",
       "      <td>29962.00</td>\n",
       "      <td>67558.0</td>\n",
       "    </tr>\n",
       "    <tr>\n",
       "      <th>C/RW</th>\n",
       "      <td>31.0</td>\n",
       "      <td>2.623952e+06</td>\n",
       "      <td>2.575072e+06</td>\n",
       "      <td>575000.0</td>\n",
       "      <td>816250.0</td>\n",
       "      <td>950000.0</td>\n",
       "      <td>4375000.0</td>\n",
       "      <td>9500000.0</td>\n",
       "      <td>31.0</td>\n",
       "      <td>30.709677</td>\n",
       "      <td>...</td>\n",
       "      <td>1781.50</td>\n",
       "      <td>2258.0</td>\n",
       "      <td>31.0</td>\n",
       "      <td>53318.774194</td>\n",
       "      <td>34793.938691</td>\n",
       "      <td>440.0</td>\n",
       "      <td>22209.50</td>\n",
       "      <td>62152.0</td>\n",
       "      <td>78181.50</td>\n",
       "      <td>104814.0</td>\n",
       "    </tr>\n",
       "    <tr>\n",
       "      <th>C/RW/LW</th>\n",
       "      <td>5.0</td>\n",
       "      <td>1.430000e+06</td>\n",
       "      <td>8.290431e+05</td>\n",
       "      <td>675000.0</td>\n",
       "      <td>925000.0</td>\n",
       "      <td>950000.0</td>\n",
       "      <td>2000000.0</td>\n",
       "      <td>2600000.0</td>\n",
       "      <td>5.0</td>\n",
       "      <td>30.600000</td>\n",
       "      <td>...</td>\n",
       "      <td>1459.00</td>\n",
       "      <td>1567.0</td>\n",
       "      <td>5.0</td>\n",
       "      <td>39109.200000</td>\n",
       "      <td>27081.011368</td>\n",
       "      <td>9551.0</td>\n",
       "      <td>12430.00</td>\n",
       "      <td>45998.0</td>\n",
       "      <td>57343.00</td>\n",
       "      <td>70224.0</td>\n",
       "    </tr>\n",
       "    <tr>\n",
       "      <th>D</th>\n",
       "      <td>201.0</td>\n",
       "      <td>2.410695e+06</td>\n",
       "      <td>2.156402e+06</td>\n",
       "      <td>575000.0</td>\n",
       "      <td>800000.0</td>\n",
       "      <td>1100000.0</td>\n",
       "      <td>4000000.0</td>\n",
       "      <td>12000000.0</td>\n",
       "      <td>201.0</td>\n",
       "      <td>31.009950</td>\n",
       "      <td>...</td>\n",
       "      <td>1971.00</td>\n",
       "      <td>2657.0</td>\n",
       "      <td>201.0</td>\n",
       "      <td>62572.746269</td>\n",
       "      <td>39046.329531</td>\n",
       "      <td>908.0</td>\n",
       "      <td>22592.00</td>\n",
       "      <td>68471.0</td>\n",
       "      <td>95896.00</td>\n",
       "      <td>133550.0</td>\n",
       "    </tr>\n",
       "    <tr>\n",
       "      <th>D/LW</th>\n",
       "      <td>1.0</td>\n",
       "      <td>7.925000e+05</td>\n",
       "      <td>NaN</td>\n",
       "      <td>792500.0</td>\n",
       "      <td>792500.0</td>\n",
       "      <td>792500.0</td>\n",
       "      <td>792500.0</td>\n",
       "      <td>792500.0</td>\n",
       "      <td>1.0</td>\n",
       "      <td>32.000000</td>\n",
       "      <td>...</td>\n",
       "      <td>505.00</td>\n",
       "      <td>505.0</td>\n",
       "      <td>1.0</td>\n",
       "      <td>23405.000000</td>\n",
       "      <td>NaN</td>\n",
       "      <td>23405.0</td>\n",
       "      <td>23405.00</td>\n",
       "      <td>23405.0</td>\n",
       "      <td>23405.00</td>\n",
       "      <td>23405.0</td>\n",
       "    </tr>\n",
       "    <tr>\n",
       "      <th>LW</th>\n",
       "      <td>52.0</td>\n",
       "      <td>2.086721e+06</td>\n",
       "      <td>2.275456e+06</td>\n",
       "      <td>575000.0</td>\n",
       "      <td>725000.0</td>\n",
       "      <td>925000.0</td>\n",
       "      <td>2575000.0</td>\n",
       "      <td>9000000.0</td>\n",
       "      <td>52.0</td>\n",
       "      <td>29.634615</td>\n",
       "      <td>...</td>\n",
       "      <td>1462.75</td>\n",
       "      <td>2085.0</td>\n",
       "      <td>52.0</td>\n",
       "      <td>39600.942308</td>\n",
       "      <td>30091.452838</td>\n",
       "      <td>282.0</td>\n",
       "      <td>9956.50</td>\n",
       "      <td>42405.5</td>\n",
       "      <td>64940.25</td>\n",
       "      <td>90456.0</td>\n",
       "    </tr>\n",
       "    <tr>\n",
       "      <th>LW/C</th>\n",
       "      <td>34.0</td>\n",
       "      <td>1.996176e+06</td>\n",
       "      <td>1.957469e+06</td>\n",
       "      <td>575000.0</td>\n",
       "      <td>717500.0</td>\n",
       "      <td>900000.0</td>\n",
       "      <td>2631250.0</td>\n",
       "      <td>6500000.0</td>\n",
       "      <td>34.0</td>\n",
       "      <td>30.500000</td>\n",
       "      <td>...</td>\n",
       "      <td>1617.25</td>\n",
       "      <td>2047.0</td>\n",
       "      <td>34.0</td>\n",
       "      <td>47021.323529</td>\n",
       "      <td>28154.244540</td>\n",
       "      <td>483.0</td>\n",
       "      <td>22982.25</td>\n",
       "      <td>44512.5</td>\n",
       "      <td>75501.00</td>\n",
       "      <td>93295.0</td>\n",
       "    </tr>\n",
       "    <tr>\n",
       "      <th>LW/C/RW</th>\n",
       "      <td>6.0</td>\n",
       "      <td>2.945688e+06</td>\n",
       "      <td>1.837751e+06</td>\n",
       "      <td>874125.0</td>\n",
       "      <td>1662500.0</td>\n",
       "      <td>2925000.0</td>\n",
       "      <td>3512500.0</td>\n",
       "      <td>6000000.0</td>\n",
       "      <td>6.0</td>\n",
       "      <td>30.833333</td>\n",
       "      <td>...</td>\n",
       "      <td>1874.50</td>\n",
       "      <td>1922.0</td>\n",
       "      <td>6.0</td>\n",
       "      <td>64790.333333</td>\n",
       "      <td>22927.071812</td>\n",
       "      <td>32672.0</td>\n",
       "      <td>47765.50</td>\n",
       "      <td>73853.5</td>\n",
       "      <td>81680.50</td>\n",
       "      <td>85004.0</td>\n",
       "    </tr>\n",
       "    <tr>\n",
       "      <th>LW/RW</th>\n",
       "      <td>26.0</td>\n",
       "      <td>2.506442e+06</td>\n",
       "      <td>2.217585e+06</td>\n",
       "      <td>600000.0</td>\n",
       "      <td>825000.0</td>\n",
       "      <td>1800000.0</td>\n",
       "      <td>3375000.0</td>\n",
       "      <td>10000000.0</td>\n",
       "      <td>26.0</td>\n",
       "      <td>32.653846</td>\n",
       "      <td>...</td>\n",
       "      <td>1586.50</td>\n",
       "      <td>2019.0</td>\n",
       "      <td>26.0</td>\n",
       "      <td>49093.269231</td>\n",
       "      <td>28369.708353</td>\n",
       "      <td>1585.0</td>\n",
       "      <td>27506.75</td>\n",
       "      <td>55904.5</td>\n",
       "      <td>69209.75</td>\n",
       "      <td>90361.0</td>\n",
       "    </tr>\n",
       "    <tr>\n",
       "      <th>LW/RW/C</th>\n",
       "      <td>2.0</td>\n",
       "      <td>2.375000e+06</td>\n",
       "      <td>2.298097e+06</td>\n",
       "      <td>750000.0</td>\n",
       "      <td>1562500.0</td>\n",
       "      <td>2375000.0</td>\n",
       "      <td>3187500.0</td>\n",
       "      <td>4000000.0</td>\n",
       "      <td>2.0</td>\n",
       "      <td>33.500000</td>\n",
       "      <td>...</td>\n",
       "      <td>1589.00</td>\n",
       "      <td>1598.0</td>\n",
       "      <td>2.0</td>\n",
       "      <td>71003.000000</td>\n",
       "      <td>1523.108007</td>\n",
       "      <td>69926.0</td>\n",
       "      <td>70464.50</td>\n",
       "      <td>71003.0</td>\n",
       "      <td>71541.50</td>\n",
       "      <td>72080.0</td>\n",
       "    </tr>\n",
       "    <tr>\n",
       "      <th>RW</th>\n",
       "      <td>64.0</td>\n",
       "      <td>2.150938e+06</td>\n",
       "      <td>2.172271e+06</td>\n",
       "      <td>575000.0</td>\n",
       "      <td>698125.0</td>\n",
       "      <td>925000.0</td>\n",
       "      <td>3500000.0</td>\n",
       "      <td>10000000.0</td>\n",
       "      <td>64.0</td>\n",
       "      <td>30.750000</td>\n",
       "      <td>...</td>\n",
       "      <td>1556.00</td>\n",
       "      <td>2150.0</td>\n",
       "      <td>64.0</td>\n",
       "      <td>41114.578125</td>\n",
       "      <td>31903.002608</td>\n",
       "      <td>1000.0</td>\n",
       "      <td>8574.75</td>\n",
       "      <td>41236.0</td>\n",
       "      <td>73872.75</td>\n",
       "      <td>99099.0</td>\n",
       "    </tr>\n",
       "    <tr>\n",
       "      <th>RW/C</th>\n",
       "      <td>15.0</td>\n",
       "      <td>3.037333e+06</td>\n",
       "      <td>4.115230e+06</td>\n",
       "      <td>575000.0</td>\n",
       "      <td>600000.0</td>\n",
       "      <td>675000.0</td>\n",
       "      <td>4137500.0</td>\n",
       "      <td>13800000.0</td>\n",
       "      <td>15.0</td>\n",
       "      <td>32.800000</td>\n",
       "      <td>...</td>\n",
       "      <td>1658.00</td>\n",
       "      <td>1910.0</td>\n",
       "      <td>15.0</td>\n",
       "      <td>40073.933333</td>\n",
       "      <td>36300.344011</td>\n",
       "      <td>291.0</td>\n",
       "      <td>10063.50</td>\n",
       "      <td>27519.0</td>\n",
       "      <td>75310.00</td>\n",
       "      <td>105263.0</td>\n",
       "    </tr>\n",
       "    <tr>\n",
       "      <th>RW/C/LW</th>\n",
       "      <td>4.0</td>\n",
       "      <td>3.375000e+06</td>\n",
       "      <td>1.479020e+06</td>\n",
       "      <td>1250000.0</td>\n",
       "      <td>2937500.0</td>\n",
       "      <td>3875000.0</td>\n",
       "      <td>4312500.0</td>\n",
       "      <td>4500000.0</td>\n",
       "      <td>4.0</td>\n",
       "      <td>30.250000</td>\n",
       "      <td>...</td>\n",
       "      <td>1813.00</td>\n",
       "      <td>1948.0</td>\n",
       "      <td>4.0</td>\n",
       "      <td>73455.750000</td>\n",
       "      <td>20639.060967</td>\n",
       "      <td>42950.0</td>\n",
       "      <td>70364.00</td>\n",
       "      <td>81388.5</td>\n",
       "      <td>84480.25</td>\n",
       "      <td>88096.0</td>\n",
       "    </tr>\n",
       "    <tr>\n",
       "      <th>RW/LW</th>\n",
       "      <td>18.0</td>\n",
       "      <td>2.380556e+06</td>\n",
       "      <td>2.018782e+06</td>\n",
       "      <td>650000.0</td>\n",
       "      <td>931250.0</td>\n",
       "      <td>1200000.0</td>\n",
       "      <td>3750000.0</td>\n",
       "      <td>8000000.0</td>\n",
       "      <td>18.0</td>\n",
       "      <td>31.555556</td>\n",
       "      <td>...</td>\n",
       "      <td>1598.50</td>\n",
       "      <td>2049.0</td>\n",
       "      <td>18.0</td>\n",
       "      <td>52853.000000</td>\n",
       "      <td>25226.409782</td>\n",
       "      <td>2959.0</td>\n",
       "      <td>33300.00</td>\n",
       "      <td>53264.0</td>\n",
       "      <td>72280.50</td>\n",
       "      <td>93343.0</td>\n",
       "    </tr>\n",
       "    <tr>\n",
       "      <th>RW/LW/C</th>\n",
       "      <td>3.0</td>\n",
       "      <td>2.783333e+06</td>\n",
       "      <td>1.853600e+06</td>\n",
       "      <td>650000.0</td>\n",
       "      <td>2175000.0</td>\n",
       "      <td>3700000.0</td>\n",
       "      <td>3850000.0</td>\n",
       "      <td>4000000.0</td>\n",
       "      <td>3.0</td>\n",
       "      <td>30.666667</td>\n",
       "      <td>...</td>\n",
       "      <td>1672.50</td>\n",
       "      <td>1840.0</td>\n",
       "      <td>3.0</td>\n",
       "      <td>52639.666667</td>\n",
       "      <td>45001.676684</td>\n",
       "      <td>2839.0</td>\n",
       "      <td>33765.50</td>\n",
       "      <td>64692.0</td>\n",
       "      <td>77540.00</td>\n",
       "      <td>90388.0</td>\n",
       "    </tr>\n",
       "  </tbody>\n",
       "</table>\n",
       "<p>18 rows × 128 columns</p>\n",
       "</div>"
      ],
      "text/plain": [
       "         Salary                                                               \\\n",
       "          count          mean           std        min        25%        50%   \n",
       "Position                                                                       \n",
       "C          96.0  2.102387e+06  2.448313e+06   575000.0   663125.0   925000.0   \n",
       "C/D         1.0  9.250000e+05           NaN   925000.0   925000.0   925000.0   \n",
       "C/LW       46.0  1.905587e+06  1.754793e+06   575000.0   794375.0   925000.0   \n",
       "C/LW/RW     5.0  1.625000e+06  1.468630e+06   900000.0   925000.0  1000000.0   \n",
       "C/RW       31.0  2.623952e+06  2.575072e+06   575000.0   816250.0   950000.0   \n",
       "C/RW/LW     5.0  1.430000e+06  8.290431e+05   675000.0   925000.0   950000.0   \n",
       "D         201.0  2.410695e+06  2.156402e+06   575000.0   800000.0  1100000.0   \n",
       "D/LW        1.0  7.925000e+05           NaN   792500.0   792500.0   792500.0   \n",
       "LW         52.0  2.086721e+06  2.275456e+06   575000.0   725000.0   925000.0   \n",
       "LW/C       34.0  1.996176e+06  1.957469e+06   575000.0   717500.0   900000.0   \n",
       "LW/C/RW     6.0  2.945688e+06  1.837751e+06   874125.0  1662500.0  2925000.0   \n",
       "LW/RW      26.0  2.506442e+06  2.217585e+06   600000.0   825000.0  1800000.0   \n",
       "LW/RW/C     2.0  2.375000e+06  2.298097e+06   750000.0  1562500.0  2375000.0   \n",
       "RW         64.0  2.150938e+06  2.172271e+06   575000.0   698125.0   925000.0   \n",
       "RW/C       15.0  3.037333e+06  4.115230e+06   575000.0   600000.0   675000.0   \n",
       "RW/C/LW     4.0  3.375000e+06  1.479020e+06  1250000.0  2937500.0  3875000.0   \n",
       "RW/LW      18.0  2.380556e+06  2.018782e+06   650000.0   931250.0  1200000.0   \n",
       "RW/LW/C     3.0  2.783333e+06  1.853600e+06   650000.0  2175000.0  3700000.0   \n",
       "\n",
       "                                   Age             ...   Shifts          \\\n",
       "                75%         max  count       mean  ...      75%     max   \n",
       "Position                                           ...                    \n",
       "C         3500000.0  13800000.0   96.0  30.062500  ...  1772.00  2056.0   \n",
       "C/D        925000.0    925000.0    1.0  24.000000  ...    34.00    34.0   \n",
       "C/LW      2375000.0   6000000.0   46.0  30.608696  ...  1530.75  2067.0   \n",
       "C/LW/RW   1050000.0   4250000.0    5.0  28.600000  ...   685.00  1501.0   \n",
       "C/RW      4375000.0   9500000.0   31.0  30.709677  ...  1781.50  2258.0   \n",
       "C/RW/LW   2000000.0   2600000.0    5.0  30.600000  ...  1459.00  1567.0   \n",
       "D         4000000.0  12000000.0  201.0  31.009950  ...  1971.00  2657.0   \n",
       "D/LW       792500.0    792500.0    1.0  32.000000  ...   505.00   505.0   \n",
       "LW        2575000.0   9000000.0   52.0  29.634615  ...  1462.75  2085.0   \n",
       "LW/C      2631250.0   6500000.0   34.0  30.500000  ...  1617.25  2047.0   \n",
       "LW/C/RW   3512500.0   6000000.0    6.0  30.833333  ...  1874.50  1922.0   \n",
       "LW/RW     3375000.0  10000000.0   26.0  32.653846  ...  1586.50  2019.0   \n",
       "LW/RW/C   3187500.0   4000000.0    2.0  33.500000  ...  1589.00  1598.0   \n",
       "RW        3500000.0  10000000.0   64.0  30.750000  ...  1556.00  2150.0   \n",
       "RW/C      4137500.0  13800000.0   15.0  32.800000  ...  1658.00  1910.0   \n",
       "RW/C/LW   4312500.0   4500000.0    4.0  30.250000  ...  1813.00  1948.0   \n",
       "RW/LW     3750000.0   8000000.0   18.0  31.555556  ...  1598.50  2049.0   \n",
       "RW/LW/C   3850000.0   4000000.0    3.0  30.666667  ...  1672.50  1840.0   \n",
       "\n",
       "            TOI                                                          \\\n",
       "          count          mean           std      min       25%      50%   \n",
       "Position                                                                  \n",
       "C          96.0  45277.562500  33736.598853    505.0   6863.50  44681.0   \n",
       "C/D         1.0   1645.000000           NaN   1645.0   1645.00   1645.0   \n",
       "C/LW       46.0  49263.043478  26566.701620    704.0  34473.75  58476.0   \n",
       "C/LW/RW     5.0  28085.200000  24029.543726   5643.0  12902.00  24361.0   \n",
       "C/RW       31.0  53318.774194  34793.938691    440.0  22209.50  62152.0   \n",
       "C/RW/LW     5.0  39109.200000  27081.011368   9551.0  12430.00  45998.0   \n",
       "D         201.0  62572.746269  39046.329531    908.0  22592.00  68471.0   \n",
       "D/LW        1.0  23405.000000           NaN  23405.0  23405.00  23405.0   \n",
       "LW         52.0  39600.942308  30091.452838    282.0   9956.50  42405.5   \n",
       "LW/C       34.0  47021.323529  28154.244540    483.0  22982.25  44512.5   \n",
       "LW/C/RW     6.0  64790.333333  22927.071812  32672.0  47765.50  73853.5   \n",
       "LW/RW      26.0  49093.269231  28369.708353   1585.0  27506.75  55904.5   \n",
       "LW/RW/C     2.0  71003.000000   1523.108007  69926.0  70464.50  71003.0   \n",
       "RW         64.0  41114.578125  31903.002608   1000.0   8574.75  41236.0   \n",
       "RW/C       15.0  40073.933333  36300.344011    291.0  10063.50  27519.0   \n",
       "RW/C/LW     4.0  73455.750000  20639.060967  42950.0  70364.00  81388.5   \n",
       "RW/LW      18.0  52853.000000  25226.409782   2959.0  33300.00  53264.0   \n",
       "RW/LW/C     3.0  52639.666667  45001.676684   2839.0  33765.50  64692.0   \n",
       "\n",
       "                              \n",
       "               75%       max  \n",
       "Position                      \n",
       "C         76543.50   97447.0  \n",
       "C/D        1645.00    1645.0  \n",
       "C/LW      67887.75   85898.0  \n",
       "C/LW/RW   29962.00   67558.0  \n",
       "C/RW      78181.50  104814.0  \n",
       "C/RW/LW   57343.00   70224.0  \n",
       "D         95896.00  133550.0  \n",
       "D/LW      23405.00   23405.0  \n",
       "LW        64940.25   90456.0  \n",
       "LW/C      75501.00   93295.0  \n",
       "LW/C/RW   81680.50   85004.0  \n",
       "LW/RW     69209.75   90361.0  \n",
       "LW/RW/C   71541.50   72080.0  \n",
       "RW        73872.75   99099.0  \n",
       "RW/C      75310.00  105263.0  \n",
       "RW/C/LW   84480.25   88096.0  \n",
       "RW/LW     72280.50   93343.0  \n",
       "RW/LW/C   77540.00   90388.0  \n",
       "\n",
       "[18 rows x 128 columns]"
      ]
     },
     "execution_count": 170,
     "metadata": {},
     "output_type": "execute_result"
    }
   ],
   "source": [
    "df2.groupby('Position').describe()\n",
    "#doesn't really tell us much. The combination of position just makes it convoluted.\n",
    "#could divide between D and Forward and drop the d/f combos to see what that looks like"
   ]
  },
  {
   "cell_type": "code",
   "execution_count": 147,
   "metadata": {},
   "outputs": [
    {
     "data": {
      "text/html": [
       "<div>\n",
       "<style scoped>\n",
       "    .dataframe tbody tr th:only-of-type {\n",
       "        vertical-align: middle;\n",
       "    }\n",
       "\n",
       "    .dataframe tbody tr th {\n",
       "        vertical-align: top;\n",
       "    }\n",
       "\n",
       "    .dataframe thead th {\n",
       "        text-align: right;\n",
       "    }\n",
       "</style>\n",
       "<table border=\"1\" class=\"dataframe\">\n",
       "  <thead>\n",
       "    <tr style=\"text-align: right;\">\n",
       "      <th></th>\n",
       "      <th>Salary</th>\n",
       "      <th>Name</th>\n",
       "      <th>Born</th>\n",
       "      <th>Age</th>\n",
       "      <th>City</th>\n",
       "      <th>Pr/St</th>\n",
       "      <th>Cntry</th>\n",
       "      <th>Nat</th>\n",
       "      <th>Ht</th>\n",
       "      <th>Wt</th>\n",
       "      <th>...</th>\n",
       "      <th>Team</th>\n",
       "      <th>GP</th>\n",
       "      <th>G</th>\n",
       "      <th>A</th>\n",
       "      <th>PTS</th>\n",
       "      <th>+/-</th>\n",
       "      <th>E+/-</th>\n",
       "      <th>PIM</th>\n",
       "      <th>Shifts</th>\n",
       "      <th>TOI</th>\n",
       "    </tr>\n",
       "  </thead>\n",
       "  <tbody>\n",
       "    <tr>\n",
       "      <th>0</th>\n",
       "      <td>13800000</td>\n",
       "      <td>Jonathan Toews</td>\n",
       "      <td>1988-04-29</td>\n",
       "      <td>33</td>\n",
       "      <td>Winnipeg</td>\n",
       "      <td>MB</td>\n",
       "      <td>CAN</td>\n",
       "      <td>CAN</td>\n",
       "      <td>74</td>\n",
       "      <td>201</td>\n",
       "      <td>...</td>\n",
       "      <td>CHI</td>\n",
       "      <td>72</td>\n",
       "      <td>21</td>\n",
       "      <td>37</td>\n",
       "      <td>58</td>\n",
       "      <td>7</td>\n",
       "      <td>-7.3</td>\n",
       "      <td>35</td>\n",
       "      <td>1772</td>\n",
       "      <td>87066</td>\n",
       "    </tr>\n",
       "    <tr>\n",
       "      <th>1</th>\n",
       "      <td>13800000</td>\n",
       "      <td>Patrick Kane</td>\n",
       "      <td>1988-11-19</td>\n",
       "      <td>32</td>\n",
       "      <td>Buffalo</td>\n",
       "      <td>NY</td>\n",
       "      <td>USA</td>\n",
       "      <td>USA</td>\n",
       "      <td>71</td>\n",
       "      <td>177</td>\n",
       "      <td>...</td>\n",
       "      <td>CHI</td>\n",
       "      <td>82</td>\n",
       "      <td>34</td>\n",
       "      <td>55</td>\n",
       "      <td>89</td>\n",
       "      <td>11</td>\n",
       "      <td>-6.5</td>\n",
       "      <td>32</td>\n",
       "      <td>1910</td>\n",
       "      <td>105263</td>\n",
       "    </tr>\n",
       "    <tr>\n",
       "      <th>2</th>\n",
       "      <td>12000000</td>\n",
       "      <td>Shea Weber</td>\n",
       "      <td>1985-08-14</td>\n",
       "      <td>36</td>\n",
       "      <td>Sicamous</td>\n",
       "      <td>BC</td>\n",
       "      <td>CAN</td>\n",
       "      <td>CAN</td>\n",
       "      <td>76</td>\n",
       "      <td>232</td>\n",
       "      <td>...</td>\n",
       "      <td>MTL</td>\n",
       "      <td>78</td>\n",
       "      <td>17</td>\n",
       "      <td>25</td>\n",
       "      <td>42</td>\n",
       "      <td>20</td>\n",
       "      <td>6.5</td>\n",
       "      <td>38</td>\n",
       "      <td>2218</td>\n",
       "      <td>117286</td>\n",
       "    </tr>\n",
       "    <tr>\n",
       "      <th>3</th>\n",
       "      <td>11000000</td>\n",
       "      <td>P.K. Subban</td>\n",
       "      <td>1989-05-13</td>\n",
       "      <td>32</td>\n",
       "      <td>Toronto</td>\n",
       "      <td>ON</td>\n",
       "      <td>CAN</td>\n",
       "      <td>CAN</td>\n",
       "      <td>72</td>\n",
       "      <td>210</td>\n",
       "      <td>...</td>\n",
       "      <td>NSH</td>\n",
       "      <td>66</td>\n",
       "      <td>10</td>\n",
       "      <td>30</td>\n",
       "      <td>40</td>\n",
       "      <td>-8</td>\n",
       "      <td>10.4</td>\n",
       "      <td>44</td>\n",
       "      <td>1860</td>\n",
       "      <td>96640</td>\n",
       "    </tr>\n",
       "    <tr>\n",
       "      <th>4</th>\n",
       "      <td>10900000</td>\n",
       "      <td>Sidney Crosby</td>\n",
       "      <td>1987-08-07</td>\n",
       "      <td>34</td>\n",
       "      <td>Cole Harbour</td>\n",
       "      <td>NS</td>\n",
       "      <td>CAN</td>\n",
       "      <td>CAN</td>\n",
       "      <td>71</td>\n",
       "      <td>200</td>\n",
       "      <td>...</td>\n",
       "      <td>PIT</td>\n",
       "      <td>75</td>\n",
       "      <td>44</td>\n",
       "      <td>45</td>\n",
       "      <td>89</td>\n",
       "      <td>17</td>\n",
       "      <td>18.4</td>\n",
       "      <td>24</td>\n",
       "      <td>1852</td>\n",
       "      <td>89450</td>\n",
       "    </tr>\n",
       "  </tbody>\n",
       "</table>\n",
       "<p>5 rows × 25 columns</p>\n",
       "</div>"
      ],
      "text/plain": [
       "     Salary            Name        Born  Age          City Pr/St Cntry  Nat  \\\n",
       "0  13800000  Jonathan Toews  1988-04-29   33      Winnipeg    MB   CAN  CAN   \n",
       "1  13800000    Patrick Kane  1988-11-19   32       Buffalo    NY   USA  USA   \n",
       "2  12000000      Shea Weber  1985-08-14   36      Sicamous    BC   CAN  CAN   \n",
       "3  11000000     P.K. Subban  1989-05-13   32       Toronto    ON   CAN  CAN   \n",
       "4  10900000   Sidney Crosby  1987-08-07   34  Cole Harbour    NS   CAN  CAN   \n",
       "\n",
       "   Ht   Wt  ...  Team  GP   G   A PTS +/-  E+/-  PIM  Shifts     TOI  \n",
       "0  74  201  ...   CHI  72  21  37  58   7  -7.3   35    1772   87066  \n",
       "1  71  177  ...   CHI  82  34  55  89  11  -6.5   32    1910  105263  \n",
       "2  76  232  ...   MTL  78  17  25  42  20   6.5   38    2218  117286  \n",
       "3  72  210  ...   NSH  66  10  30  40  -8  10.4   44    1860   96640  \n",
       "4  71  200  ...   PIT  75  44  45  89  17  18.4   24    1852   89450  \n",
       "\n",
       "[5 rows x 25 columns]"
      ]
     },
     "execution_count": 147,
     "metadata": {},
     "output_type": "execute_result"
    }
   ],
   "source": [
    "dfsorted = df2.sort_values(by=['Salary'],ascending=False).reset_index(drop=True)\n",
    "dfsorted.head()"
   ]
  },
  {
   "cell_type": "code",
   "execution_count": 148,
   "metadata": {},
   "outputs": [
    {
     "data": {
      "text/plain": [
       "<matplotlib.collections.PathCollection at 0x1369c04e0>"
      ]
     },
     "execution_count": 148,
     "metadata": {},
     "output_type": "execute_result"
    },
    {
     "data": {
      "image/png": "[encoded data removed]",
      "text/plain": [
       "<Figure size 432x288 with 1 Axes>"
      ]
     },
     "metadata": {},
     "output_type": "display_data"
    }
   ],
   "source": [
    "plt.scatter(dfsorted.index,'Salary', data=df2, color='red')"
   ]
  },
  {
   "cell_type": "code",
   "execution_count": 149,
   "metadata": {},
   "outputs": [
    {
     "data": {
      "text/html": [
       "<div>\n",
       "<style scoped>\n",
       "    .dataframe tbody tr th:only-of-type {\n",
       "        vertical-align: middle;\n",
       "    }\n",
       "\n",
       "    .dataframe tbody tr th {\n",
       "        vertical-align: top;\n",
       "    }\n",
       "\n",
       "    .dataframe thead th {\n",
       "        text-align: right;\n",
       "    }\n",
       "</style>\n",
       "<table border=\"1\" class=\"dataframe\">\n",
       "  <thead>\n",
       "    <tr style=\"text-align: right;\">\n",
       "      <th></th>\n",
       "      <th>Salary</th>\n",
       "      <th>Name</th>\n",
       "      <th>Born</th>\n",
       "      <th>Age</th>\n",
       "      <th>City</th>\n",
       "      <th>Pr/St</th>\n",
       "      <th>Cntry</th>\n",
       "      <th>Nat</th>\n",
       "      <th>Ht</th>\n",
       "      <th>Wt</th>\n",
       "      <th>...</th>\n",
       "      <th>Team</th>\n",
       "      <th>GP</th>\n",
       "      <th>G</th>\n",
       "      <th>A</th>\n",
       "      <th>PTS</th>\n",
       "      <th>+/-</th>\n",
       "      <th>E+/-</th>\n",
       "      <th>PIM</th>\n",
       "      <th>Shifts</th>\n",
       "      <th>TOI</th>\n",
       "    </tr>\n",
       "  </thead>\n",
       "  <tbody>\n",
       "    <tr>\n",
       "      <th>0</th>\n",
       "      <td>13800000</td>\n",
       "      <td>Jonathan Toews</td>\n",
       "      <td>1988-04-29</td>\n",
       "      <td>33</td>\n",
       "      <td>Winnipeg</td>\n",
       "      <td>MB</td>\n",
       "      <td>CAN</td>\n",
       "      <td>CAN</td>\n",
       "      <td>74</td>\n",
       "      <td>201</td>\n",
       "      <td>...</td>\n",
       "      <td>CHI</td>\n",
       "      <td>72</td>\n",
       "      <td>21</td>\n",
       "      <td>37</td>\n",
       "      <td>58</td>\n",
       "      <td>7</td>\n",
       "      <td>-7.3</td>\n",
       "      <td>35</td>\n",
       "      <td>1772</td>\n",
       "      <td>87066</td>\n",
       "    </tr>\n",
       "    <tr>\n",
       "      <th>1</th>\n",
       "      <td>13800000</td>\n",
       "      <td>Patrick Kane</td>\n",
       "      <td>1988-11-19</td>\n",
       "      <td>32</td>\n",
       "      <td>Buffalo</td>\n",
       "      <td>NY</td>\n",
       "      <td>USA</td>\n",
       "      <td>USA</td>\n",
       "      <td>71</td>\n",
       "      <td>177</td>\n",
       "      <td>...</td>\n",
       "      <td>CHI</td>\n",
       "      <td>82</td>\n",
       "      <td>34</td>\n",
       "      <td>55</td>\n",
       "      <td>89</td>\n",
       "      <td>11</td>\n",
       "      <td>-6.5</td>\n",
       "      <td>32</td>\n",
       "      <td>1910</td>\n",
       "      <td>105263</td>\n",
       "    </tr>\n",
       "    <tr>\n",
       "      <th>2</th>\n",
       "      <td>12000000</td>\n",
       "      <td>Shea Weber</td>\n",
       "      <td>1985-08-14</td>\n",
       "      <td>36</td>\n",
       "      <td>Sicamous</td>\n",
       "      <td>BC</td>\n",
       "      <td>CAN</td>\n",
       "      <td>CAN</td>\n",
       "      <td>76</td>\n",
       "      <td>232</td>\n",
       "      <td>...</td>\n",
       "      <td>MTL</td>\n",
       "      <td>78</td>\n",
       "      <td>17</td>\n",
       "      <td>25</td>\n",
       "      <td>42</td>\n",
       "      <td>20</td>\n",
       "      <td>6.5</td>\n",
       "      <td>38</td>\n",
       "      <td>2218</td>\n",
       "      <td>117286</td>\n",
       "    </tr>\n",
       "    <tr>\n",
       "      <th>3</th>\n",
       "      <td>11000000</td>\n",
       "      <td>P.K. Subban</td>\n",
       "      <td>1989-05-13</td>\n",
       "      <td>32</td>\n",
       "      <td>Toronto</td>\n",
       "      <td>ON</td>\n",
       "      <td>CAN</td>\n",
       "      <td>CAN</td>\n",
       "      <td>72</td>\n",
       "      <td>210</td>\n",
       "      <td>...</td>\n",
       "      <td>NSH</td>\n",
       "      <td>66</td>\n",
       "      <td>10</td>\n",
       "      <td>30</td>\n",
       "      <td>40</td>\n",
       "      <td>-8</td>\n",
       "      <td>10.4</td>\n",
       "      <td>44</td>\n",
       "      <td>1860</td>\n",
       "      <td>96640</td>\n",
       "    </tr>\n",
       "    <tr>\n",
       "      <th>4</th>\n",
       "      <td>10900000</td>\n",
       "      <td>Sidney Crosby</td>\n",
       "      <td>1987-08-07</td>\n",
       "      <td>34</td>\n",
       "      <td>Cole Harbour</td>\n",
       "      <td>NS</td>\n",
       "      <td>CAN</td>\n",
       "      <td>CAN</td>\n",
       "      <td>71</td>\n",
       "      <td>200</td>\n",
       "      <td>...</td>\n",
       "      <td>PIT</td>\n",
       "      <td>75</td>\n",
       "      <td>44</td>\n",
       "      <td>45</td>\n",
       "      <td>89</td>\n",
       "      <td>17</td>\n",
       "      <td>18.4</td>\n",
       "      <td>24</td>\n",
       "      <td>1852</td>\n",
       "      <td>89450</td>\n",
       "    </tr>\n",
       "  </tbody>\n",
       "</table>\n",
       "<p>5 rows × 25 columns</p>\n",
       "</div>"
      ],
      "text/plain": [
       "     Salary            Name        Born  Age          City Pr/St Cntry  Nat  \\\n",
       "0  13800000  Jonathan Toews  1988-04-29   33      Winnipeg    MB   CAN  CAN   \n",
       "1  13800000    Patrick Kane  1988-11-19   32       Buffalo    NY   USA  USA   \n",
       "2  12000000      Shea Weber  1985-08-14   36      Sicamous    BC   CAN  CAN   \n",
       "3  11000000     P.K. Subban  1989-05-13   32       Toronto    ON   CAN  CAN   \n",
       "4  10900000   Sidney Crosby  1987-08-07   34  Cole Harbour    NS   CAN  CAN   \n",
       "\n",
       "   Ht   Wt  ...  Team  GP   G   A PTS +/-  E+/-  PIM  Shifts     TOI  \n",
       "0  74  201  ...   CHI  72  21  37  58   7  -7.3   35    1772   87066  \n",
       "1  71  177  ...   CHI  82  34  55  89  11  -6.5   32    1910  105263  \n",
       "2  76  232  ...   MTL  78  17  25  42  20   6.5   38    2218  117286  \n",
       "3  72  210  ...   NSH  66  10  30  40  -8  10.4   44    1860   96640  \n",
       "4  71  200  ...   PIT  75  44  45  89  17  18.4   24    1852   89450  \n",
       "\n",
       "[5 rows x 25 columns]"
      ]
     },
     "execution_count": 149,
     "metadata": {},
     "output_type": "execute_result"
    }
   ],
   "source": [
    "dfsorted = df2.sort_values(by=['Salary'],ascending=False).reset_index(drop=True)\n",
    "dfsorted.head()"
   ]
  },
  {
   "cell_type": "code",
   "execution_count": 234,
   "metadata": {},
   "outputs": [
    {
     "data": {
      "text/plain": [
       "Text(0, 0.5, 'Salary')"
      ]
     },
     "execution_count": 234,
     "metadata": {},
     "output_type": "execute_result"
    },
    {
     "data": {
      "image/png": "[encoded data removed]",
      "text/plain": [
       "<Figure size 432x288 with 1 Axes>"
      ]
     },
     "metadata": {},
     "output_type": "display_data"
    }
   ],
   "source": [
    "plt.scatter('Ht','Salary', data=df2, color='red', linewidth=1)\n",
    "plt.title(\"Height vs Salary\")\n",
    "plt.xlabel(\"Height\")\n",
    "plt.ylabel(\"Salary\")"
   ]
  },
  {
   "cell_type": "code",
   "execution_count": 235,
   "metadata": {},
   "outputs": [
    {
     "data": {
      "text/plain": [
       "Text(0, 0.5, 'Salary')"
      ]
     },
     "execution_count": 235,
     "metadata": {},
     "output_type": "execute_result"
    },
    {
     "data": {
      "image/png": "[encoded data removed]",
      "text/plain": [
       "<Figure size 432x288 with 1 Axes>"
      ]
     },
     "metadata": {},
     "output_type": "display_data"
    }
   ],
   "source": [
    "plt.scatter('Wt','Salary', data=df2, color='red', linewidth=2)\n",
    "plt.title(\"Weight vs Salary\")\n",
    "plt.xlabel(\"Weight\")\n",
    "plt.ylabel(\"Salary\")"
   ]
  },
  {
   "cell_type": "code",
   "execution_count": 152,
   "metadata": {},
   "outputs": [
    {
     "data": {
      "text/plain": [
       "<seaborn.axisgrid.FacetGrid at 0x13409bd68>"
      ]
     },
     "execution_count": 152,
     "metadata": {},
     "output_type": "execute_result"
    },
    {
     "data": {
      "image/png": "[encoded data removed]",
      "text/plain": [
       "<Figure size 360x360 with 1 Axes>"
      ]
     },
     "metadata": {},
     "output_type": "display_data"
    }
   ],
   "source": [
    "sns.displot(df2, x=\"Ht\", kind=\"kde\", fill=True)"
   ]
  },
  {
   "cell_type": "code",
   "execution_count": 153,
   "metadata": {},
   "outputs": [
    {
     "data": {
      "text/plain": [
       "<seaborn.axisgrid.FacetGrid at 0x13409be10>"
      ]
     },
     "execution_count": 153,
     "metadata": {},
     "output_type": "execute_result"
    },
    {
     "data": {
      "image/png": "[encoded data removed]",
      "text/plain": [
       "<Figure size 360x360 with 1 Axes>"
      ]
     },
     "metadata": {},
     "output_type": "display_data"
    }
   ],
   "source": [
    "sns.displot(df2, x=\"Wt\", kind=\"kde\", fill=True)"
   ]
  },
  {
   "cell_type": "markdown",
   "metadata": {},
   "source": [
    "## Player Positions"
   ]
  },
  {
   "cell_type": "code",
   "execution_count": 155,
   "metadata": {},
   "outputs": [
    {
     "data": {
      "text/plain": [
       "array(['D', 'RW', 'LW/C', 'RW/C/LW', 'C', 'C/RW', 'LW', 'RW/LW',\n",
       "       'C/LW/RW', 'LW/RW', 'C/LW', 'LW/C/RW', 'LW/RW/C', 'RW/C',\n",
       "       'C/RW/LW', 'RW/LW/C', 'D/LW', 'C/D'], dtype=object)"
      ]
     },
     "execution_count": 155,
     "metadata": {},
     "output_type": "execute_result"
    }
   ],
   "source": [
    "df2['Position'].unique()"
   ]
  },
  {
   "cell_type": "markdown",
   "metadata": {},
   "source": [
    "> There are alot more combinations than I expected. Too make this less of a mess to work with I'll split things between Forwards and Defensemen. Any player with a position that includes Defense is considered a Defenseman. The rest are Forwards"
   ]
  },
  {
   "cell_type": "code",
   "execution_count": 237,
   "metadata": {
    "collapsed": true
   },
   "outputs": [],
   "source": [
    "def f(row):\n",
    "    if row == 'D':\n",
    "        val = 'Defenseman'\n",
    "    elif row == 'D/LW':\n",
    "        val = 'Defenseman'\n",
    "    elif row == 'C/D':\n",
    "        val = 'Defenseman'\n",
    "    else:\n",
    "        val = 'Forward'\n",
    "    return val\n",
    "\n",
    "df2['D/F'] = df2['Position'].apply(f)"
   ]
  },
  {
   "cell_type": "markdown",
   "metadata": {},
   "source": [
    "### Exploring Position Visually"
   ]
  },
  {
   "cell_type": "code",
   "execution_count": 158,
   "metadata": {},
   "outputs": [
    {
     "data": {
      "text/plain": [
       "<seaborn.axisgrid.FacetGrid at 0x1318c5908>"
      ]
     },
     "execution_count": 158,
     "metadata": {},
     "output_type": "execute_result"
    },
    {
     "data": {
      "image/png": "[encoded data removed]",
      "text/plain": [
       "<Figure size 459.5x360 with 1 Axes>"
      ]
     },
     "metadata": {},
     "output_type": "display_data"
    }
   ],
   "source": [
    "sns.displot(df2, x=\"Salary\", hue=\"D/F\", kind=\"kde\", fill=True)"
   ]
  },
  {
   "cell_type": "code",
   "execution_count": 159,
   "metadata": {},
   "outputs": [
    {
     "data": {
      "text/plain": [
       "<seaborn.axisgrid.FacetGrid at 0x136ad9630>"
      ]
     },
     "execution_count": 159,
     "metadata": {},
     "output_type": "execute_result"
    },
    {
     "data": {
      "image/png": "[encoded data removed]",
      "text/plain": [
       "<Figure size 459.5x360 with 1 Axes>"
      ]
     },
     "metadata": {},
     "output_type": "display_data"
    }
   ],
   "source": [
    "sns.displot(df2, x=\"Salary\", hue=\"D/F\", kind=\"kde\", fill=True)"
   ]
  },
  {
   "cell_type": "code",
   "execution_count": 160,
   "metadata": {},
   "outputs": [
    {
     "data": {
      "text/plain": [
       "<seaborn.axisgrid.FacetGrid at 0x1318c5b00>"
      ]
     },
     "execution_count": 160,
     "metadata": {},
     "output_type": "execute_result"
    },
    {
     "data": {
      "image/png": "[encoded data removed]",
      "text/plain": [
       "<Figure size 459.5x360 with 1 Axes>"
      ]
     },
     "metadata": {},
     "output_type": "display_data"
    }
   ],
   "source": [
    "sns.displot(df2, x=\"Wt\", hue=\"D/F\")"
   ]
  },
  {
   "cell_type": "code",
   "execution_count": 161,
   "metadata": {},
   "outputs": [
    {
     "data": {
      "text/plain": [
       "<seaborn.axisgrid.FacetGrid at 0x136c643c8>"
      ]
     },
     "execution_count": 161,
     "metadata": {},
     "output_type": "execute_result"
    },
    {
     "data": {
      "image/png": "[encoded data removed]",
      "text/plain": [
       "<Figure size 459.5x360 with 1 Axes>"
      ]
     },
     "metadata": {},
     "output_type": "display_data"
    }
   ],
   "source": [
    "sns.displot(df2, x=\"Ht\", hue=\"D/F\")"
   ]
  },
  {
   "cell_type": "code",
   "execution_count": 162,
   "metadata": {},
   "outputs": [
    {
     "data": {
      "text/plain": [
       "<AxesSubplot:xlabel='GP', ylabel='PIM'>"
      ]
     },
     "execution_count": 162,
     "metadata": {},
     "output_type": "execute_result"
    },
    {
     "data": {
      "image/png": "[encoded data removed]",
      "text/plain": [
       "<Figure size 432x288 with 1 Axes>"
      ]
     },
     "metadata": {},
     "output_type": "display_data"
    }
   ],
   "source": [
    "sns.scatterplot(data=df2, x=\"GP\", y='PIM',hue='D/F')"
   ]
  },
  {
   "cell_type": "code",
   "execution_count": 163,
   "metadata": {},
   "outputs": [
    {
     "data": {
      "text/plain": [
       "<AxesSubplot:xlabel='GP', ylabel='TOI'>"
      ]
     },
     "execution_count": 163,
     "metadata": {},
     "output_type": "execute_result"
    },
    {
     "data": {
      "image/png": "[encoded data removed]",
      "text/plain": [
       "<Figure size 432x288 with 1 Axes>"
      ]
     },
     "metadata": {},
     "output_type": "display_data"
    }
   ],
   "source": [
    "sns.scatterplot(data=df2, x=\"GP\", y='TOI',hue='D/F')"
   ]
  },
  {
   "cell_type": "code",
   "execution_count": 164,
   "metadata": {},
   "outputs": [
    {
     "data": {
      "text/plain": [
       "<AxesSubplot:xlabel='Wt', ylabel='Salary'>"
      ]
     },
     "execution_count": 164,
     "metadata": {},
     "output_type": "execute_result"
    },
    {
     "data": {
      "image/png": "[encoded data removed]",
      "text/plain": [
       "<Figure size 432x288 with 1 Axes>"
      ]
     },
     "metadata": {},
     "output_type": "display_data"
    }
   ],
   "source": [
    "sns.barplot(x='Wt',y='Salary', data=df2, hue='D/F')"
   ]
  },
  {
   "cell_type": "markdown",
   "metadata": {},
   "source": [
    "## Exploring Player Nationality"
   ]
  },
  {
   "cell_type": "code",
   "execution_count": 165,
   "metadata": {},
   "outputs": [
    {
     "data": {
      "text/plain": [
       "<AxesSubplot:xlabel='Salary', ylabel='Cntry'>"
      ]
     },
     "execution_count": 165,
     "metadata": {},
     "output_type": "execute_result"
    },
    {
     "data": {
      "image/png": "[encoded data removed]",
      "text/plain": [
       "<Figure size 432x288 with 1 Axes>"
      ]
     },
     "metadata": {},
     "output_type": "display_data"
    }
   ],
   "source": [
    "sns.barplot(data=df2,y='Cntry',x='Salary')"
   ]
  },
  {
   "cell_type": "code",
   "execution_count": 166,
   "metadata": {},
   "outputs": [
    {
     "data": {
      "text/plain": [
       "<AxesSubplot:xlabel='PIM', ylabel='Cntry'>"
      ]
     },
     "execution_count": 166,
     "metadata": {},
     "output_type": "execute_result"
    },
    {
     "data": {
      "image/png": "[encoded data removed]",
      "text/plain": [
       "<Figure size 432x288 with 1 Axes>"
      ]
     },
     "metadata": {},
     "output_type": "display_data"
    }
   ],
   "source": [
    "sns.barplot(data=df2,y='Cntry',x='PIM')"
   ]
  },
  {
   "cell_type": "code",
   "execution_count": null,
   "metadata": {
    "collapsed": true
   },
   "outputs": [],
   "source": []
  }
 ],
 "metadata": {
  "kernelspec": {
   "display_name": "Python 3",
   "language": "python",
   "name": "python3"
  },
  "language_info": {
   "codemirror_mode": {
    "name": "ipython",
    "version": 3
   },
   "file_extension": ".py",
   "mimetype": "text/x-python",
   "name": "python",
   "nbconvert_exporter": "python",
   "pygments_lexer": "ipython3",
   "version": "3.6.1"
  }
 },
 "nbformat": 4,
 "nbformat_minor": 2
}
